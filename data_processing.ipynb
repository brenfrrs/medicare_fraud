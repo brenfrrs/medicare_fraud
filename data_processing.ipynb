{
 "cells": [
  {
   "cell_type": "code",
   "execution_count": 1,
   "metadata": {},
   "outputs": [
    {
     "ename": "KeyboardInterrupt",
     "evalue": "",
     "output_type": "error",
     "traceback": [
      "\u001b[0;31m---------------------------------------------------------------------------\u001b[0m",
      "\u001b[0;31mKeyboardInterrupt\u001b[0m                         Traceback (most recent call last)",
      "\u001b[0;32m<ipython-input-1-c6c4600efea2>\u001b[0m in \u001b[0;36m<module>\u001b[0;34m()\u001b[0m\n\u001b[1;32m      2\u001b[0m \u001b[0;32mimport\u001b[0m \u001b[0mnumpy\u001b[0m \u001b[0;32mas\u001b[0m \u001b[0mnp\u001b[0m\u001b[0;34m\u001b[0m\u001b[0;34m\u001b[0m\u001b[0m\n\u001b[1;32m      3\u001b[0m \u001b[0;32mimport\u001b[0m \u001b[0mmatplotlib\u001b[0m\u001b[0;34m.\u001b[0m\u001b[0mpyplot\u001b[0m \u001b[0;32mas\u001b[0m \u001b[0mplt\u001b[0m\u001b[0;34m\u001b[0m\u001b[0;34m\u001b[0m\u001b[0m\n\u001b[0;32m----> 4\u001b[0;31m \u001b[0;32mimport\u001b[0m \u001b[0mseaborn\u001b[0m \u001b[0;32mas\u001b[0m \u001b[0msns\u001b[0m\u001b[0;34m\u001b[0m\u001b[0;34m\u001b[0m\u001b[0m\n\u001b[0m\u001b[1;32m      5\u001b[0m \u001b[0;34m\u001b[0m\u001b[0m\n\u001b[1;32m      6\u001b[0m \u001b[0;32mimport\u001b[0m \u001b[0mwarnings\u001b[0m\u001b[0;34m\u001b[0m\u001b[0;34m\u001b[0m\u001b[0m\n",
      "\u001b[0;32m/Users/brendanferris/opt/anaconda3/envs/learn-env/lib/python3.6/site-packages/seaborn/__init__.py\u001b[0m in \u001b[0;36m<module>\u001b[0;34m()\u001b[0m\n\u001b[1;32m      4\u001b[0m \u001b[0;34m\u001b[0m\u001b[0m\n\u001b[1;32m      5\u001b[0m \u001b[0;31m# Import seaborn objects\u001b[0m\u001b[0;34m\u001b[0m\u001b[0;34m\u001b[0m\u001b[0;34m\u001b[0m\u001b[0m\n\u001b[0;32m----> 6\u001b[0;31m \u001b[0;32mfrom\u001b[0m \u001b[0;34m.\u001b[0m\u001b[0mrcmod\u001b[0m \u001b[0;32mimport\u001b[0m \u001b[0;34m*\u001b[0m\u001b[0;34m\u001b[0m\u001b[0;34m\u001b[0m\u001b[0m\n\u001b[0m\u001b[1;32m      7\u001b[0m \u001b[0;32mfrom\u001b[0m \u001b[0;34m.\u001b[0m\u001b[0mutils\u001b[0m \u001b[0;32mimport\u001b[0m \u001b[0;34m*\u001b[0m\u001b[0;34m\u001b[0m\u001b[0;34m\u001b[0m\u001b[0m\n\u001b[1;32m      8\u001b[0m \u001b[0;32mfrom\u001b[0m \u001b[0;34m.\u001b[0m\u001b[0mpalettes\u001b[0m \u001b[0;32mimport\u001b[0m \u001b[0;34m*\u001b[0m\u001b[0;34m\u001b[0m\u001b[0;34m\u001b[0m\u001b[0m\n",
      "\u001b[0;32m/Users/brendanferris/opt/anaconda3/envs/learn-env/lib/python3.6/site-packages/seaborn/rcmod.py\u001b[0m in \u001b[0;36m<module>\u001b[0;34m()\u001b[0m\n\u001b[1;32m      4\u001b[0m \u001b[0;32mimport\u001b[0m \u001b[0mmatplotlib\u001b[0m \u001b[0;32mas\u001b[0m \u001b[0mmpl\u001b[0m\u001b[0;34m\u001b[0m\u001b[0;34m\u001b[0m\u001b[0m\n\u001b[1;32m      5\u001b[0m \u001b[0;32mimport\u001b[0m \u001b[0mwarnings\u001b[0m\u001b[0;34m\u001b[0m\u001b[0;34m\u001b[0m\u001b[0m\n\u001b[0;32m----> 6\u001b[0;31m \u001b[0;32mfrom\u001b[0m \u001b[0;34m.\u001b[0m \u001b[0;32mimport\u001b[0m \u001b[0mpalettes\u001b[0m\u001b[0;34m,\u001b[0m \u001b[0m_orig_rc_params\u001b[0m\u001b[0;34m\u001b[0m\u001b[0;34m\u001b[0m\u001b[0m\n\u001b[0m\u001b[1;32m      7\u001b[0m \u001b[0;34m\u001b[0m\u001b[0m\n\u001b[1;32m      8\u001b[0m \u001b[0;34m\u001b[0m\u001b[0m\n",
      "\u001b[0;32m/Users/brendanferris/opt/anaconda3/envs/learn-env/lib/python3.6/site-packages/seaborn/palettes.py\u001b[0m in \u001b[0;36m<module>\u001b[0;34m()\u001b[0m\n\u001b[1;32m      8\u001b[0m \u001b[0;32mfrom\u001b[0m \u001b[0;34m.\u001b[0m\u001b[0mexternal\u001b[0m \u001b[0;32mimport\u001b[0m \u001b[0mhusl\u001b[0m\u001b[0;34m\u001b[0m\u001b[0;34m\u001b[0m\u001b[0m\n\u001b[1;32m      9\u001b[0m \u001b[0;34m\u001b[0m\u001b[0m\n\u001b[0;32m---> 10\u001b[0;31m \u001b[0;32mfrom\u001b[0m \u001b[0;34m.\u001b[0m\u001b[0mutils\u001b[0m \u001b[0;32mimport\u001b[0m \u001b[0mdesaturate\u001b[0m\u001b[0;34m,\u001b[0m \u001b[0mset_hls_values\u001b[0m\u001b[0;34m,\u001b[0m \u001b[0mget_color_cycle\u001b[0m\u001b[0;34m\u001b[0m\u001b[0;34m\u001b[0m\u001b[0m\n\u001b[0m\u001b[1;32m     11\u001b[0m \u001b[0;32mfrom\u001b[0m \u001b[0;34m.\u001b[0m\u001b[0mcolors\u001b[0m \u001b[0;32mimport\u001b[0m \u001b[0mxkcd_rgb\u001b[0m\u001b[0;34m,\u001b[0m \u001b[0mcrayons\u001b[0m\u001b[0;34m\u001b[0m\u001b[0;34m\u001b[0m\u001b[0m\n\u001b[1;32m     12\u001b[0m \u001b[0;34m\u001b[0m\u001b[0m\n",
      "\u001b[0;32m/Users/brendanferris/opt/anaconda3/envs/learn-env/lib/python3.6/site-packages/seaborn/utils.py\u001b[0m in \u001b[0;36m<module>\u001b[0;34m()\u001b[0m\n\u001b[1;32m      5\u001b[0m \u001b[0;34m\u001b[0m\u001b[0m\n\u001b[1;32m      6\u001b[0m \u001b[0;32mimport\u001b[0m \u001b[0mnumpy\u001b[0m \u001b[0;32mas\u001b[0m \u001b[0mnp\u001b[0m\u001b[0;34m\u001b[0m\u001b[0;34m\u001b[0m\u001b[0m\n\u001b[0;32m----> 7\u001b[0;31m \u001b[0;32mfrom\u001b[0m \u001b[0mscipy\u001b[0m \u001b[0;32mimport\u001b[0m \u001b[0mstats\u001b[0m\u001b[0;34m\u001b[0m\u001b[0;34m\u001b[0m\u001b[0m\n\u001b[0m\u001b[1;32m      8\u001b[0m \u001b[0;32mimport\u001b[0m \u001b[0mpandas\u001b[0m \u001b[0;32mas\u001b[0m \u001b[0mpd\u001b[0m\u001b[0;34m\u001b[0m\u001b[0;34m\u001b[0m\u001b[0m\n\u001b[1;32m      9\u001b[0m \u001b[0;32mimport\u001b[0m \u001b[0mmatplotlib\u001b[0m \u001b[0;32mas\u001b[0m \u001b[0mmpl\u001b[0m\u001b[0;34m\u001b[0m\u001b[0;34m\u001b[0m\u001b[0m\n",
      "\u001b[0;32m/Users/brendanferris/opt/anaconda3/envs/learn-env/lib/python3.6/site-packages/scipy/stats/__init__.py\u001b[0m in \u001b[0;36m<module>\u001b[0;34m()\u001b[0m\n\u001b[1;32m    386\u001b[0m \u001b[0;34m\u001b[0m\u001b[0m\n\u001b[1;32m    387\u001b[0m \"\"\"\n\u001b[0;32m--> 388\u001b[0;31m \u001b[0;32mfrom\u001b[0m \u001b[0;34m.\u001b[0m\u001b[0mstats\u001b[0m \u001b[0;32mimport\u001b[0m \u001b[0;34m*\u001b[0m\u001b[0;34m\u001b[0m\u001b[0;34m\u001b[0m\u001b[0m\n\u001b[0m\u001b[1;32m    389\u001b[0m \u001b[0;32mfrom\u001b[0m \u001b[0;34m.\u001b[0m\u001b[0mdistributions\u001b[0m \u001b[0;32mimport\u001b[0m \u001b[0;34m*\u001b[0m\u001b[0;34m\u001b[0m\u001b[0;34m\u001b[0m\u001b[0m\n\u001b[1;32m    390\u001b[0m \u001b[0;32mfrom\u001b[0m \u001b[0;34m.\u001b[0m\u001b[0mmorestats\u001b[0m \u001b[0;32mimport\u001b[0m \u001b[0;34m*\u001b[0m\u001b[0;34m\u001b[0m\u001b[0;34m\u001b[0m\u001b[0m\n",
      "\u001b[0;32m/Users/brendanferris/opt/anaconda3/envs/learn-env/lib/python3.6/site-packages/scipy/stats/stats.py\u001b[0m in \u001b[0;36m<module>\u001b[0;34m()\u001b[0m\n\u001b[1;32m    178\u001b[0m \u001b[0;32mimport\u001b[0m \u001b[0mscipy\u001b[0m\u001b[0;34m.\u001b[0m\u001b[0mspecial\u001b[0m \u001b[0;32mas\u001b[0m \u001b[0mspecial\u001b[0m\u001b[0;34m\u001b[0m\u001b[0;34m\u001b[0m\u001b[0m\n\u001b[1;32m    179\u001b[0m \u001b[0;32mfrom\u001b[0m \u001b[0mscipy\u001b[0m \u001b[0;32mimport\u001b[0m \u001b[0mlinalg\u001b[0m\u001b[0;34m\u001b[0m\u001b[0;34m\u001b[0m\u001b[0m\n\u001b[0;32m--> 180\u001b[0;31m \u001b[0;32mfrom\u001b[0m \u001b[0;34m.\u001b[0m \u001b[0;32mimport\u001b[0m \u001b[0mdistributions\u001b[0m\u001b[0;34m\u001b[0m\u001b[0;34m\u001b[0m\u001b[0m\n\u001b[0m\u001b[1;32m    181\u001b[0m \u001b[0;32mfrom\u001b[0m \u001b[0;34m.\u001b[0m \u001b[0;32mimport\u001b[0m \u001b[0mmstats_basic\u001b[0m\u001b[0;34m\u001b[0m\u001b[0;34m\u001b[0m\u001b[0m\n\u001b[1;32m    182\u001b[0m from ._stats_mstats_common import (_find_repeats, linregress, theilslopes,\n",
      "\u001b[0;32m/Users/brendanferris/opt/anaconda3/envs/learn-env/lib/python3.6/site-packages/scipy/stats/distributions.py\u001b[0m in \u001b[0;36m<module>\u001b[0;34m()\u001b[0m\n\u001b[1;32m      6\u001b[0m \u001b[0;31m#       instead of `git blame -Lxxx,+x`.\u001b[0m\u001b[0;34m\u001b[0m\u001b[0;34m\u001b[0m\u001b[0;34m\u001b[0m\u001b[0m\n\u001b[1;32m      7\u001b[0m \u001b[0;31m#\u001b[0m\u001b[0;34m\u001b[0m\u001b[0;34m\u001b[0m\u001b[0;34m\u001b[0m\u001b[0m\n\u001b[0;32m----> 8\u001b[0;31m from ._distn_infrastructure import (entropy, rv_discrete, rv_continuous,\n\u001b[0m\u001b[1;32m      9\u001b[0m                                     rv_frozen)\n\u001b[1;32m     10\u001b[0m \u001b[0;34m\u001b[0m\u001b[0m\n",
      "\u001b[0;32m/Users/brendanferris/opt/anaconda3/envs/learn-env/lib/python3.6/site-packages/scipy/stats/_distn_infrastructure.py\u001b[0m in \u001b[0;36m<module>\u001b[0;34m()\u001b[0m\n\u001b[1;32m     21\u001b[0m \u001b[0;34m\u001b[0m\u001b[0m\n\u001b[1;32m     22\u001b[0m \u001b[0;31m# for root finding for continuous distribution ppf, and max likelihood estimation\u001b[0m\u001b[0;34m\u001b[0m\u001b[0;34m\u001b[0m\u001b[0;34m\u001b[0m\u001b[0m\n\u001b[0;32m---> 23\u001b[0;31m \u001b[0;32mfrom\u001b[0m \u001b[0mscipy\u001b[0m \u001b[0;32mimport\u001b[0m \u001b[0moptimize\u001b[0m\u001b[0;34m\u001b[0m\u001b[0;34m\u001b[0m\u001b[0m\n\u001b[0m\u001b[1;32m     24\u001b[0m \u001b[0;34m\u001b[0m\u001b[0m\n\u001b[1;32m     25\u001b[0m \u001b[0;31m# for functions of continuous distributions (e.g. moments, entropy, cdf)\u001b[0m\u001b[0;34m\u001b[0m\u001b[0;34m\u001b[0m\u001b[0;34m\u001b[0m\u001b[0m\n",
      "\u001b[0;32m/Users/brendanferris/opt/anaconda3/envs/learn-env/lib/python3.6/site-packages/scipy/optimize/__init__.py\u001b[0m in \u001b[0;36m<module>\u001b[0;34m()\u001b[0m\n\u001b[1;32m    385\u001b[0m \"\"\"\n\u001b[1;32m    386\u001b[0m \u001b[0;34m\u001b[0m\u001b[0m\n\u001b[0;32m--> 387\u001b[0;31m \u001b[0;32mfrom\u001b[0m \u001b[0;34m.\u001b[0m\u001b[0moptimize\u001b[0m \u001b[0;32mimport\u001b[0m \u001b[0;34m*\u001b[0m\u001b[0;34m\u001b[0m\u001b[0;34m\u001b[0m\u001b[0m\n\u001b[0m\u001b[1;32m    388\u001b[0m \u001b[0;32mfrom\u001b[0m \u001b[0;34m.\u001b[0m\u001b[0m_minimize\u001b[0m \u001b[0;32mimport\u001b[0m \u001b[0;34m*\u001b[0m\u001b[0;34m\u001b[0m\u001b[0;34m\u001b[0m\u001b[0m\n\u001b[1;32m    389\u001b[0m \u001b[0;32mfrom\u001b[0m \u001b[0;34m.\u001b[0m\u001b[0m_root\u001b[0m \u001b[0;32mimport\u001b[0m \u001b[0;34m*\u001b[0m\u001b[0;34m\u001b[0m\u001b[0;34m\u001b[0m\u001b[0m\n",
      "\u001b[0;32m/Users/brendanferris/opt/anaconda3/envs/learn-env/lib/python3.6/site-packages/scipy/optimize/optimize.py\u001b[0m in \u001b[0;36m<module>\u001b[0;34m()\u001b[0m\n\u001b[1;32m     34\u001b[0m                          \u001b[0mline_search_wolfe2\u001b[0m \u001b[0;32mas\u001b[0m \u001b[0mline_search\u001b[0m\u001b[0;34m,\u001b[0m\u001b[0;34m\u001b[0m\u001b[0;34m\u001b[0m\u001b[0m\n\u001b[1;32m     35\u001b[0m                          LineSearchWarning)\n\u001b[0;32m---> 36\u001b[0;31m \u001b[0;32mfrom\u001b[0m \u001b[0;34m.\u001b[0m\u001b[0m_numdiff\u001b[0m \u001b[0;32mimport\u001b[0m \u001b[0mapprox_derivative\u001b[0m\u001b[0;34m\u001b[0m\u001b[0;34m\u001b[0m\u001b[0m\n\u001b[0m\u001b[1;32m     37\u001b[0m \u001b[0;32mfrom\u001b[0m \u001b[0mscipy\u001b[0m\u001b[0;34m.\u001b[0m\u001b[0m_lib\u001b[0m\u001b[0;34m.\u001b[0m\u001b[0m_util\u001b[0m \u001b[0;32mimport\u001b[0m \u001b[0mgetfullargspec_no_self\u001b[0m \u001b[0;32mas\u001b[0m \u001b[0m_getfullargspec\u001b[0m\u001b[0;34m\u001b[0m\u001b[0;34m\u001b[0m\u001b[0m\n\u001b[1;32m     38\u001b[0m \u001b[0;32mfrom\u001b[0m \u001b[0mscipy\u001b[0m\u001b[0;34m.\u001b[0m\u001b[0m_lib\u001b[0m\u001b[0;34m.\u001b[0m\u001b[0m_util\u001b[0m \u001b[0;32mimport\u001b[0m \u001b[0mMapWrapper\u001b[0m\u001b[0;34m\u001b[0m\u001b[0;34m\u001b[0m\u001b[0m\n",
      "\u001b[0;32m/Users/brendanferris/opt/anaconda3/envs/learn-env/lib/python3.6/site-packages/scipy/optimize/_numdiff.py\u001b[0m in \u001b[0;36m<module>\u001b[0;34m()\u001b[0m\n\u001b[1;32m      4\u001b[0m \u001b[0;32mfrom\u001b[0m \u001b[0mnumpy\u001b[0m\u001b[0;34m.\u001b[0m\u001b[0mlinalg\u001b[0m \u001b[0;32mimport\u001b[0m \u001b[0mnorm\u001b[0m\u001b[0;34m\u001b[0m\u001b[0;34m\u001b[0m\u001b[0m\n\u001b[1;32m      5\u001b[0m \u001b[0;34m\u001b[0m\u001b[0m\n\u001b[0;32m----> 6\u001b[0;31m \u001b[0;32mfrom\u001b[0m \u001b[0mscipy\u001b[0m\u001b[0;34m.\u001b[0m\u001b[0msparse\u001b[0m\u001b[0;34m.\u001b[0m\u001b[0mlinalg\u001b[0m \u001b[0;32mimport\u001b[0m \u001b[0mLinearOperator\u001b[0m\u001b[0;34m\u001b[0m\u001b[0;34m\u001b[0m\u001b[0m\n\u001b[0m\u001b[1;32m      7\u001b[0m \u001b[0;32mfrom\u001b[0m \u001b[0;34m.\u001b[0m\u001b[0;34m.\u001b[0m\u001b[0msparse\u001b[0m \u001b[0;32mimport\u001b[0m \u001b[0missparse\u001b[0m\u001b[0;34m,\u001b[0m \u001b[0mcsc_matrix\u001b[0m\u001b[0;34m,\u001b[0m \u001b[0mcsr_matrix\u001b[0m\u001b[0;34m,\u001b[0m \u001b[0mcoo_matrix\u001b[0m\u001b[0;34m,\u001b[0m \u001b[0mfind\u001b[0m\u001b[0;34m\u001b[0m\u001b[0;34m\u001b[0m\u001b[0m\n\u001b[1;32m      8\u001b[0m \u001b[0;32mfrom\u001b[0m \u001b[0;34m.\u001b[0m\u001b[0m_group_columns\u001b[0m \u001b[0;32mimport\u001b[0m \u001b[0mgroup_dense\u001b[0m\u001b[0;34m,\u001b[0m \u001b[0mgroup_sparse\u001b[0m\u001b[0;34m\u001b[0m\u001b[0;34m\u001b[0m\u001b[0m\n",
      "\u001b[0;32m/Users/brendanferris/opt/anaconda3/envs/learn-env/lib/python3.6/site-packages/scipy/sparse/linalg/__init__.py\u001b[0m in \u001b[0;36m<module>\u001b[0;34m()\u001b[0m\n\u001b[1;32m    110\u001b[0m \u001b[0;34m\u001b[0m\u001b[0m\n\u001b[1;32m    111\u001b[0m \u001b[0;32mfrom\u001b[0m \u001b[0;34m.\u001b[0m\u001b[0misolve\u001b[0m \u001b[0;32mimport\u001b[0m \u001b[0;34m*\u001b[0m\u001b[0;34m\u001b[0m\u001b[0;34m\u001b[0m\u001b[0m\n\u001b[0;32m--> 112\u001b[0;31m \u001b[0;32mfrom\u001b[0m \u001b[0;34m.\u001b[0m\u001b[0mdsolve\u001b[0m \u001b[0;32mimport\u001b[0m \u001b[0;34m*\u001b[0m\u001b[0;34m\u001b[0m\u001b[0;34m\u001b[0m\u001b[0m\n\u001b[0m\u001b[1;32m    113\u001b[0m \u001b[0;32mfrom\u001b[0m \u001b[0;34m.\u001b[0m\u001b[0minterface\u001b[0m \u001b[0;32mimport\u001b[0m \u001b[0;34m*\u001b[0m\u001b[0;34m\u001b[0m\u001b[0;34m\u001b[0m\u001b[0m\n\u001b[1;32m    114\u001b[0m \u001b[0;32mfrom\u001b[0m \u001b[0;34m.\u001b[0m\u001b[0meigen\u001b[0m \u001b[0;32mimport\u001b[0m \u001b[0;34m*\u001b[0m\u001b[0;34m\u001b[0m\u001b[0;34m\u001b[0m\u001b[0m\n",
      "\u001b[0;32m/Users/brendanferris/opt/anaconda3/envs/learn-env/lib/python3.6/site-packages/scipy/sparse/linalg/dsolve/__init__.py\u001b[0m in \u001b[0;36m<module>\u001b[0;34m()\u001b[0m\n\u001b[1;32m     56\u001b[0m \u001b[0;31m#del umfpack\u001b[0m\u001b[0;34m\u001b[0m\u001b[0;34m\u001b[0m\u001b[0;34m\u001b[0m\u001b[0m\n\u001b[1;32m     57\u001b[0m \u001b[0;34m\u001b[0m\u001b[0m\n\u001b[0;32m---> 58\u001b[0;31m \u001b[0;32mfrom\u001b[0m \u001b[0;34m.\u001b[0m\u001b[0mlinsolve\u001b[0m \u001b[0;32mimport\u001b[0m \u001b[0;34m*\u001b[0m\u001b[0;34m\u001b[0m\u001b[0;34m\u001b[0m\u001b[0m\n\u001b[0m\u001b[1;32m     59\u001b[0m \u001b[0;32mfrom\u001b[0m \u001b[0;34m.\u001b[0m\u001b[0m_superlu\u001b[0m \u001b[0;32mimport\u001b[0m \u001b[0mSuperLU\u001b[0m\u001b[0;34m\u001b[0m\u001b[0;34m\u001b[0m\u001b[0m\n\u001b[1;32m     60\u001b[0m \u001b[0;32mfrom\u001b[0m \u001b[0;34m.\u001b[0m \u001b[0;32mimport\u001b[0m \u001b[0m_add_newdocs\u001b[0m\u001b[0;34m\u001b[0m\u001b[0;34m\u001b[0m\u001b[0m\n",
      "\u001b[0;32m/Users/brendanferris/opt/anaconda3/envs/learn-env/lib/python3.6/importlib/_bootstrap.py\u001b[0m in \u001b[0;36m_find_and_load\u001b[0;34m(name, import_)\u001b[0m\n",
      "\u001b[0;32m/Users/brendanferris/opt/anaconda3/envs/learn-env/lib/python3.6/importlib/_bootstrap.py\u001b[0m in \u001b[0;36m_find_and_load_unlocked\u001b[0;34m(name, import_)\u001b[0m\n",
      "\u001b[0;32m/Users/brendanferris/opt/anaconda3/envs/learn-env/lib/python3.6/importlib/_bootstrap.py\u001b[0m in \u001b[0;36m_load_unlocked\u001b[0;34m(spec)\u001b[0m\n",
      "\u001b[0;32m/Users/brendanferris/opt/anaconda3/envs/learn-env/lib/python3.6/importlib/_bootstrap_external.py\u001b[0m in \u001b[0;36mexec_module\u001b[0;34m(self, module)\u001b[0m\n",
      "\u001b[0;32m/Users/brendanferris/opt/anaconda3/envs/learn-env/lib/python3.6/importlib/_bootstrap_external.py\u001b[0m in \u001b[0;36mget_code\u001b[0;34m(self, fullname)\u001b[0m\n",
      "\u001b[0;32m/Users/brendanferris/opt/anaconda3/envs/learn-env/lib/python3.6/importlib/_bootstrap_external.py\u001b[0m in \u001b[0;36mget_data\u001b[0;34m(self, path)\u001b[0m\n",
      "\u001b[0;31mKeyboardInterrupt\u001b[0m: "
     ]
    }
   ],
   "source": [
    "import pandas as pd\n",
    "import numpy as np\n",
    "import matplotlib.pyplot as plt\n",
    "import seaborn as sns\n",
    "\n",
    "import warnings\n",
    "warnings.filterwarnings('ignore')\n",
    "%matplotlib inline"
   ]
  },
  {
   "cell_type": "markdown",
   "metadata": {},
   "source": [
    "Data was sourced from the Centers For Medicare and Medicaid website.\n",
    "\n",
    "[Part D Data](https://www.cms.gov/Research-Statistics-Data-and-Systems/Statistics-Trends-and-Reports/Medicare-Provider-Charge-Data/PartD2015)\n",
    "\n",
    "[Part B Data](https://www.cms.gov/Research-Statistics-Data-and-Systems/Statistics-Trends-and-Reports/Medicare-Provider-Charge-Data/Physician-and-Other-Supplier)\n",
    "\n",
    "[DMEPOS Data](https://www.cms.gov/Research-Statistics-Data-and-Systems/Statistics-Trends-and-Reports/Medicare-Provider-Charge-Data/DME)\n",
    "\n",
    "[LEIE (target data)](https://oig.hhs.gov/exclusions/exclusions_list.asp#instruct)\n",
    "\n",
    "[Exclusion codes corresponding with LEIE](https://oig.hhs.gov/exclusions/authorities.asp)"
   ]
  },
  {
   "cell_type": "markdown",
   "metadata": {},
   "source": [
    "# Importing Data"
   ]
  },
  {
   "cell_type": "code",
   "execution_count": null,
   "metadata": {},
   "outputs": [],
   "source": [
    "partd_2018 = pd.read_csv('/Volumes/ML_projects/Medicare_Fraud_Datasets/PARTD/PartD_Prescriber_PUF_NPI_Drug_18.txt', sep='\\t')\n",
    "partb_2018 = pd.read_csv('/Volumes/ML_projects/Medicare_Fraud_Datasets/PARTB/Medicare_Provider_Util_Payment_PUF_CY2018/Medicare_Provider_Util_Payment_PUF_CY2018.txt', sep='\\t')\n",
    "dmepos_2018 = pd.read_csv('/Volumes/ML_projects/Medicare_Fraud_Datasets/DMEPOS/Medicare_Referring_Provider_DMEPOS_PUF_CY2018/Medicare_Referring_Provider_DMEPOS_PUF_CY2018.csv')\n",
    "partd_2017 = pd.read_csv('/Volumes/ML_projects/Medicare_Fraud_Datasets/PARTD/PartD_Prescriber_PUF_NPI_DRUG_17/PartD_Prescriber_PUF_NPI_Drug_17.txt', sep='\\t')\n",
    "partb_2017 = pd.read_csv('/Volumes/ML_projects/Medicare_Fraud_Datasets/PARTB/Medicare_Provider_Util_Payment_PUF_CY2017/Medicare_Provider_Util_Payment_PUF_CY2017.txt', sep='\\t')\n",
    "dmepos_2017 = pd.read_csv('/Volumes/ML_projects/Medicare_Fraud_Datasets/DMEPOS/medicare_referring_provider_dmepos_puf_cy2017/Medicare_Referring_Provider_DMEPOS_PUF_CY2017.tab', sep='\\t')\n",
    "partd_2016 = pd.read_csv('/Volumes/ML_projects/Medicare_Fraud_Datasets/PARTD/PartD_Prescriber_PUF_NPI_DRUG_16/PartD_Prescriber_PUF_NPI_Drug_16.txt', sep='\\t')\n",
    "partb_2016 = pd.read_csv('/Volumes/ML_projects/Medicare_Fraud_Datasets/PARTB/Medicare-Physician-and-Other-Supplier-PUF/Medicare_Provider_Util_Payment_PUF_CY2016.txt', sep='\\t')\n",
    "dmepos_2016 = pd.read_csv('/Volumes/ML_projects/Medicare_Fraud_Datasets/DMEPOS/medicare_referring_provider_dmepos_puf_cy2016/Medicare_Referring_Provider_DMEPOS_PUF_CY2016.tab', sep='\\t')\n",
    "partd_2015 = pd.read_csv('/Volumes/ML_projects/Medicare_Fraud_Datasets/PARTD/PartD_Prescriber_PUF_NPI_DRUG_15/PartD_Prescriber_PUF_NPI_Drug_15.txt', sep='\\t')\n",
    "partb_2015 = pd.read_csv('/Volumes/ML_projects/Medicare_Fraud_Datasets/PARTB/Medicare_Provider_Util_Payment_PUF_CY2015/Medicare_Provider_Util_Payment_PUF_CY2015.txt', sep='\\t')\n",
    "dmepos_2015 = pd.read_csv('/Volumes/ML_projects/Medicare_Fraud_Datasets/DMEPOS/medicare_referring_provider_dmepos_puf_cy2015/Medicare_Referring_Provider_DMEPOS_PUF_CY2015.txt', sep='\\t')\n",
    "partd_2014 = pd.read_csv('/Volumes/ML_projects/Medicare_Fraud_Datasets/PARTD/PartD_Prescriber_PUF_NPI_DRUG_14/PartD_Prescriber_PUF_NPI_Drug_14.txt', sep='\\t')\n",
    "partb_2014 = pd.read_csv('/Volumes/ML_projects/Medicare_Fraud_Datasets/PARTB/Medicare_Provider_Util_Payment_PUF_CY2014/Medicare_Provider_Util_Payment_PUF_CY2014.txt', sep='\\t')\n",
    "dmepos_2014 = pd.read_csv('/Volumes/ML_projects/Medicare_Fraud_Datasets/DMEPOS/medicare_referring_provider_dmepos_puf_cy2014/Medicare_Referring_Provider_DMEPOS_PUF_CY2014.txt', sep='\\t')"
   ]
  },
  {
   "cell_type": "code",
   "execution_count": null,
   "metadata": {},
   "outputs": [],
   "source": [
    "leie = pd.read_csv('/Volumes/ML_projects/Medicare_Fraud_Datasets/LEIE.csv')"
   ]
  },
  {
   "cell_type": "markdown",
   "metadata": {},
   "source": [
    "# Selecting features and targets."
   ]
  },
  {
   "cell_type": "markdown",
   "metadata": {},
   "source": [
    "Filtering out specific exclusion codes for more severe offenses. These will be used to create `FRAUD` and `NOT FRAUD` targets."
   ]
  },
  {
   "cell_type": "code",
   "execution_count": null,
   "metadata": {},
   "outputs": [],
   "source": [
    "#mandatory minimum penalty based on offense category\n",
    "\n",
    "minimum_exclusion_periods = { \n",
    "    '1128a1':5, #Conviction of program-related crimes. Minimum Period: 5 years\n",
    "    '1128a2':5, #Conviction relating to patient abuse or neglect. Minimum Period: 5 years\n",
    "    '1128a3':5, #Felony conviction relating to health care fraud. Minimum Period: 5 years\n",
    "    '1128b4':np.nan, #License revocation, suspension, or surrender. Minimum Period: Period imposed by the state licensing authority.    \n",
    "    '1128b7':np.nan, #Fraud, kickbacks, and other prohibited activities. Minimum Period: None\n",
    "    '1128c3gi':10, #Conviction of second mandatory exclusion offense. Minimum Period: 10 years\n",
    "    '1128c3gii':100 #Conviction of third or more mandatory exclusion offenses. Permanent Exclusion\n",
    "}"
   ]
  },
  {
   "cell_type": "code",
   "execution_count": null,
   "metadata": {},
   "outputs": [],
   "source": [
    "exclusion_codes = ['1128a1', '1128a2', '1128a3', '1128b4', '1128b7', '1128c3gi', '1128c3gii']\n",
    "filtered_leie = leie[leie.EXCLTYPE.isin(exclusion_codes)]\n",
    "filtered_leie.shape"
   ]
  },
  {
   "cell_type": "markdown",
   "metadata": {},
   "source": [
    "Converting the dates into a datetime."
   ]
  },
  {
   "cell_type": "code",
   "execution_count": null,
   "metadata": {},
   "outputs": [],
   "source": [
    "filtered_leie['EXCLDATE'] = pd.to_datetime(filtered_leie.EXCLDATE, format='%Y%m%d') #most important value\n",
    "filtered_leie['WAIVERDATE'] = pd.to_datetime(filtered_leie.WAIVERDATE, format='%Y%m%d', errors='coerce')\n",
    "filtered_leie['REINDATE'] = pd.to_datetime(filtered_leie.REINDATE, format='%Y%m%d', errors='coerce')"
   ]
  },
  {
   "cell_type": "markdown",
   "metadata": {},
   "source": [
    "As we can see, there are only 11 dates for the `WAIVERDATE` column and only 1 for the `REINDATE` column, so to infer the exclusion end dates we can add the `minimum_exclusion_periods` value to the exclusion date (`EXCLDATE`) column."
   ]
  },
  {
   "cell_type": "code",
   "execution_count": null,
   "metadata": {},
   "outputs": [],
   "source": [
    "print(\"Unique `WAIVERDATE` values: \", len(filtered_leie['WAIVERDATE'].unique()))\n",
    "print(\"Unique `REINDATE` values: \", len(filtered_leie['REINDATE'].unique()))"
   ]
  },
  {
   "cell_type": "code",
   "execution_count": null,
   "metadata": {},
   "outputs": [],
   "source": [
    "#mapping the penalty to the minimum exclusions period, placing minimum exclusions on their own col\n",
    "\n",
    "filtered_leie['MIN_EXCLUSION_PERIOD'] = filtered_leie['EXCLTYPE'].map(minimum_exclusion_periods)"
   ]
  },
  {
   "cell_type": "markdown",
   "metadata": {},
   "source": [
    "Now we have to add the minimum exclusion periods to the original exclusion dates. This will give us an estimate of the exclusion end date. "
   ]
  },
  {
   "cell_type": "code",
   "execution_count": null,
   "metadata": {},
   "outputs": [],
   "source": [
    "filtered_leie['END_EXCLDATE'] = filtered_leie.EXCLDATE.dt.year + filtered_leie.MIN_EXCLUSION_PERIOD"
   ]
  },
  {
   "cell_type": "markdown",
   "metadata": {},
   "source": [
    "The `calculate_exclusion_end` function takes in the beginning exclusion date, then if the month is greater that `6` , adds a year to the end year. This is because the provider would have been fraudulant for most of the year."
   ]
  },
  {
   "cell_type": "code",
   "execution_count": null,
   "metadata": {},
   "outputs": [],
   "source": [
    "def calculate_exclusion_end(exclusion_date, end_year):\n",
    "    month = exclusion_date.month\n",
    "    \n",
    "\n",
    "    if month > 6:\n",
    "        return end_year + 1\n",
    "    else:\n",
    "        return end_year\n",
    "        "
   ]
  },
  {
   "cell_type": "code",
   "execution_count": null,
   "metadata": {},
   "outputs": [],
   "source": [
    "#applying the function that calculates end dates\n",
    "\n",
    "filtered_leie['END_EXCLDATE'] = filtered_leie[[\"EXCLDATE\",\"END_EXCLDATE\"]].apply(lambda x: calculate_exclusion_end(*x), axis=1)"
   ]
  },
  {
   "cell_type": "markdown",
   "metadata": {},
   "source": [
    "Filtering out features from the three datasets."
   ]
  },
  {
   "cell_type": "code",
   "execution_count": null,
   "metadata": {},
   "outputs": [],
   "source": [
    "partb_feats = ['npi', 'hcpcs_code', 'hcpcs_description', 'hcpcs_drug_indicator', 'provider_type', 'nppes_provider_gender', 'line_srvc_cnt', 'bene_unique_cnt', 'bene_day_srvc_cnt', 'average_submitted_chrg_amt', 'average_Medicare_payment_amt']\n",
    "partd_feats = ['npi', 'specialty_description', 'bene_count', 'total_claim_count', 'total_30_day_fill_count', 'total_day_supply', 'total_drug_cost']\n",
    "dmepos_feats = ['REFERRING_NPI', 'REFERRING_PROVIDER_TYPE', 'REFERRING_PROVIDER_GENDER', 'NUMBER_OF_SUPPLIERS', 'NUMBER_OF_SUPPLIER_BENEFICIARIES', 'NUMBER_OF_SUPPLIER_CLAIMS', 'NUMBER_OF_SUPPLIER_SERVICES', 'AVG_SUPPLIER_SUBMITTED_CHARGE', 'AVG_SUPPLIER_MEDICARE_PMT_AMT']\n",
    "\n",
    "partb_features_2018 = partb_2018[partb_feats]\n",
    "partd_features_2018 = partd_2018[partd_feats]\n",
    "dmepos_features_2018 = dmepos_2018[dmepos_feats]\n",
    "\n",
    "#Add a year column so we know where to add fraud labels. Activity before exclusion dates will be considered fraudulent. \n",
    "partb_features_2018['DATA_YEAR'] = 2018\n",
    "partd_features_2018['DATA_YEAR'] = 2018\n",
    "dmepos_features_2018['DATA_YEAR'] = 2018\n",
    "\n",
    "partb_features_2017 = partb_2017[partb_feats]\n",
    "partd_features_2017 = partd_2017[partd_feats]\n",
    "dmepos_features_2017 = dmepos_2017[dmepos_feats]\n",
    "\n",
    "partb_features_2017['DATA_YEAR'] = 2017\n",
    "partd_features_2017['DATA_YEAR'] = 2017\n",
    "dmepos_features_2017['DATA_YEAR'] = 2017\n",
    "\n",
    "partb_features_2016 = partb_2016[[x.upper() for x in partb_feats]]\n",
    "partd_features_2016 = partd_2016[partd_feats]\n",
    "dmepos_features_2016 = dmepos_2016[dmepos_feats]\n",
    "\n",
    "#make 2016 headers lowercase like the other years. \n",
    "partb_features_2016.columns = [x.lower() for x in partb_features_2016.columns]\n",
    "\n",
    "partb_features_2016['DATA_YEAR'] = 2016\n",
    "partd_features_2016['DATA_YEAR'] = 2016\n",
    "dmepos_features_2016['DATA_YEAR'] = 2016\n",
    "\n",
    "partb_features_2015 = partb_2015[partb_feats]\n",
    "partd_features_2015 = partd_2015[partd_feats]\n",
    "dmepos_features_2015 = dmepos_2015[dmepos_feats]\n",
    " \n",
    "partb_features_2015['DATA_YEAR'] = 2015\n",
    "partd_features_2015['DATA_YEAR'] = 2015\n",
    "dmepos_features_2015['DATA_YEAR'] = 2015\n",
    "\n",
    "partb_features_2014 = partb_2014[partb_feats]\n",
    "partd_features_2014 = partd_2014[partd_feats]\n",
    "dmepos_features_2014 = dmepos_2014[dmepos_feats]\n",
    "\n",
    "partb_features_2014['DATA_YEAR'] = 2014\n",
    "partd_features_2014['DATA_YEAR'] = 2014\n",
    "dmepos_features_2014['DATA_YEAR'] = 2014"
   ]
  },
  {
   "cell_type": "code",
   "execution_count": null,
   "metadata": {},
   "outputs": [],
   "source": [
    "partb_features_2016"
   ]
  },
  {
   "cell_type": "markdown",
   "metadata": {},
   "source": [
    "# Concatenate all the yearly data."
   ]
  },
  {
   "cell_type": "code",
   "execution_count": null,
   "metadata": {},
   "outputs": [],
   "source": [
    "# make NPI lowercase so we can merge on it later. \n",
    "\n",
    "filtered_leie.rename({'NPI':'npi'}, axis=1, inplace=True)\n",
    "dmepos_features_2018.rename({'REFERRING_NPI':'npi'}, axis=1, inplace=True)\n",
    "dmepos_features_2017.rename({'REFERRING_NPI':'npi'}, axis=1, inplace=True)\n",
    "dmepos_features_2016.rename({'REFERRING_NPI':'npi'}, axis=1, inplace=True)\n",
    "dmepos_features_2015.rename({'REFERRING_NPI':'npi'}, axis=1, inplace=True)\n",
    "dmepos_features_2014.rename({'REFERRING_NPI':'npi'}, axis=1, inplace=True)"
   ]
  },
  {
   "cell_type": "code",
   "execution_count": null,
   "metadata": {},
   "outputs": [],
   "source": [
    "partb_features = pd.concat([partb_features_2018, partb_features_2017, partb_features_2016, partb_features_2015, partb_features_2014])\n",
    "partd_features = pd.concat([partd_features_2018, partd_features_2017, partd_features_2016, partd_features_2015, partd_features_2014])\n",
    "dmepos_features = pd.concat([dmepos_features_2018, dmepos_features_2017, dmepos_features_2016, dmepos_features_2015, dmepos_features_2014])"
   ]
  },
  {
   "cell_type": "markdown",
   "metadata": {},
   "source": [
    "# Part B dataset processing."
   ]
  },
  {
   "cell_type": "markdown",
   "metadata": {},
   "source": [
    "Filter out HCPCS codes referring to prescriptions, the `line_srvc_cnt` feature for these entries refer to weight/volume of a drug and not procedure counts. Including both in the same dataset would cause conflicts. "
   ]
  },
  {
   "cell_type": "code",
   "execution_count": null,
   "metadata": {},
   "outputs": [],
   "source": [
    "partb_features = partb_features[partb_features.hcpcs_drug_indicator.eq('N')]"
   ]
  },
  {
   "cell_type": "code",
   "execution_count": null,
   "metadata": {},
   "outputs": [],
   "source": [
    "partb_features.head(5).iloc[1]"
   ]
  },
  {
   "cell_type": "code",
   "execution_count": null,
   "metadata": {},
   "outputs": [],
   "source": [
    "partb_features = partb_features.groupby(['npi','provider_type', 'nppes_provider_gender', 'DATA_YEAR']).agg({'line_srvc_cnt':['sum', 'mean', 'median', np.std, 'min', 'max'],\n",
    "                                                                                     'bene_unique_cnt':['sum', 'mean', 'median', np.std, 'min', 'max'],\n",
    "                                                                                     'bene_day_srvc_cnt':['sum', 'mean', 'median', np.std, 'min', 'max'],\n",
    "                                                                                     'average_submitted_chrg_amt':['sum', 'mean', 'median', np.std, 'min', 'max'],\n",
    "                                                                                     'average_medicare_payment_amt': ['sum', 'mean', 'median', np.std, 'min', 'max']})"
   ]
  },
  {
   "cell_type": "markdown",
   "metadata": {},
   "source": [
    "Flatten the multiindex to make it easier to work with."
   ]
  },
  {
   "cell_type": "code",
   "execution_count": null,
   "metadata": {},
   "outputs": [],
   "source": [
    "partb_features.columns = ['_'.join(col) for col in partb_features.columns.values]"
   ]
  },
  {
   "cell_type": "markdown",
   "metadata": {},
   "source": [
    "Physicians who only performed and operation or perscribed one type of drug or procedure show as `null` values, we can replace these values with 0 because there is no variability. "
   ]
  },
  {
   "cell_type": "code",
   "execution_count": null,
   "metadata": {},
   "outputs": [],
   "source": [
    "partb_features.isna().sum()"
   ]
  },
  {
   "cell_type": "code",
   "execution_count": null,
   "metadata": {},
   "outputs": [],
   "source": [
    "#replacing NA with 0\n",
    "\n",
    "partb_features.fillna(0, inplace=True)"
   ]
  },
  {
   "cell_type": "code",
   "execution_count": null,
   "metadata": {},
   "outputs": [],
   "source": [
    "partb_features = partb_features.reset_index(level=['npi', 'provider_type', 'nppes_provider_gender', 'DATA_YEAR'])"
   ]
  },
  {
   "cell_type": "markdown",
   "metadata": {},
   "source": [
    "# Part D dataset processing."
   ]
  },
  {
   "cell_type": "code",
   "execution_count": null,
   "metadata": {},
   "outputs": [],
   "source": [
    "partd_features.columns"
   ]
  },
  {
   "cell_type": "markdown",
   "metadata": {},
   "source": [
    "Beneficiary counts were supressed to 0 if they were below 11, so we replace 0's with 5's as per CMS documentation."
   ]
  },
  {
   "cell_type": "code",
   "execution_count": null,
   "metadata": {},
   "outputs": [],
   "source": [
    "partd_features.bene_count = partd_features.bene_count.replace(0,5)"
   ]
  },
  {
   "cell_type": "markdown",
   "metadata": {},
   "source": [
    "Aggregate over numerical columns."
   ]
  },
  {
   "cell_type": "code",
   "execution_count": null,
   "metadata": {},
   "outputs": [],
   "source": [
    "partd_features = partd_features.groupby(['npi','specialty_description', 'DATA_YEAR']).agg({'bene_count':['sum', 'mean', 'median', np.std, 'min', 'max'],\n",
    "                                                     'total_claim_count':['sum', 'mean', 'median', np.std, 'min', 'max'],\n",
    "                                                     'total_30_day_fill_count':['sum', 'mean', 'median', np.std, 'min', 'max'],\n",
    "                                                     'total_day_supply':['sum', 'mean', 'median', np.std, 'min', 'max'],\n",
    "                                                     'total_drug_cost': ['sum', 'mean', 'median', np.std, 'min', 'max']})"
   ]
  },
  {
   "cell_type": "markdown",
   "metadata": {},
   "source": [
    "Flattening the multiindex!"
   ]
  },
  {
   "cell_type": "code",
   "execution_count": null,
   "metadata": {},
   "outputs": [],
   "source": [
    "partd_features.columns = ['_'.join(col) for col in partd_features.columns.values]"
   ]
  },
  {
   "cell_type": "code",
   "execution_count": null,
   "metadata": {},
   "outputs": [],
   "source": [
    "partd_features = partd_features.reset_index(level=['specialty_description', 'npi', 'DATA_YEAR'])"
   ]
  },
  {
   "cell_type": "code",
   "execution_count": null,
   "metadata": {},
   "outputs": [],
   "source": [
    "partd_features"
   ]
  },
  {
   "cell_type": "markdown",
   "metadata": {},
   "source": [
    "# DMEPOS dataset processing."
   ]
  },
  {
   "cell_type": "code",
   "execution_count": null,
   "metadata": {},
   "outputs": [],
   "source": [
    "dmepos_features.columns"
   ]
  },
  {
   "cell_type": "markdown",
   "metadata": {},
   "source": [
    "Beneficiary counts were supressed to 0 if they were below 11, so we replace 0's with 5's as per CMS documentation."
   ]
  },
  {
   "cell_type": "code",
   "execution_count": null,
   "metadata": {},
   "outputs": [],
   "source": [
    "dmepos_features.NUMBER_OF_SUPPLIER_BENEFICIARIES = dmepos_features.NUMBER_OF_SUPPLIER_BENEFICIARIES.replace(0,5)"
   ]
  },
  {
   "cell_type": "code",
   "execution_count": null,
   "metadata": {},
   "outputs": [],
   "source": [
    "dmepos_features = dmepos_features.groupby(['npi','REFERRING_PROVIDER_TYPE', \n",
    "                         'REFERRING_PROVIDER_GENDER', 'DATA_YEAR']).agg({'NUMBER_OF_SUPPLIERS':['sum', 'mean', 'median', np.std, 'min', 'max'],\n",
    "                                                                 'NUMBER_OF_SUPPLIER_BENEFICIARIES':['sum', 'mean', 'median', np.std, 'min', 'max'],\n",
    "                                                                 'NUMBER_OF_SUPPLIER_CLAIMS':['sum', 'mean', 'median', np.std, 'min', 'max'],\n",
    "                                                                 'NUMBER_OF_SUPPLIER_SERVICES':['sum', 'mean', 'median', np.std, 'min', 'max'],\n",
    "                                                                 'AVG_SUPPLIER_MEDICARE_PMT_AMT':['sum', 'mean', 'median', np.std, 'min', 'max'],\n",
    "                                                                 'AVG_SUPPLIER_SUBMITTED_CHARGE': ['sum', 'mean', 'median', np.std, 'min', 'max']})"
   ]
  },
  {
   "cell_type": "markdown",
   "metadata": {},
   "source": [
    "Flattening the multiindex!"
   ]
  },
  {
   "cell_type": "code",
   "execution_count": null,
   "metadata": {},
   "outputs": [],
   "source": [
    "dmepos_features.columns = ['_'.join(col) for col in dmepos_features.columns.values]"
   ]
  },
  {
   "cell_type": "code",
   "execution_count": null,
   "metadata": {},
   "outputs": [],
   "source": [
    "dmepos_features = dmepos_features.reset_index(level=['REFERRING_PROVIDER_TYPE', 'npi', 'DATA_YEAR', 'REFERRING_PROVIDER_GENDER'])"
   ]
  },
  {
   "cell_type": "markdown",
   "metadata": {},
   "source": [
    "# Merge all the combined yearly data on with `LEIE` on NPI"
   ]
  },
  {
   "cell_type": "code",
   "execution_count": null,
   "metadata": {},
   "outputs": [],
   "source": [
    "partb = pd.merge(filtered_leie, partb_features, on='npi', how='outer')\n",
    "partd = pd.merge(filtered_leie, partd_features, on='npi', how='outer')\n",
    "dmepos = pd.merge(filtered_leie, dmepos_features, on='npi', how='outer')"
   ]
  },
  {
   "cell_type": "code",
   "execution_count": null,
   "metadata": {},
   "outputs": [],
   "source": [
    "partb = partb[['npi', 'provider_type', 'DATA_YEAR', 'nppes_provider_gender', 'line_srvc_cnt_sum',\n",
    "       'line_srvc_cnt_mean', 'line_srvc_cnt_median', 'line_srvc_cnt_std',\n",
    "       'line_srvc_cnt_min', 'line_srvc_cnt_max', 'bene_unique_cnt_sum',\n",
    "       'bene_unique_cnt_mean', 'bene_unique_cnt_median', 'bene_unique_cnt_std',\n",
    "       'bene_unique_cnt_min', 'bene_unique_cnt_max', 'bene_day_srvc_cnt_sum',\n",
    "       'bene_day_srvc_cnt_mean', 'bene_day_srvc_cnt_median',\n",
    "       'bene_day_srvc_cnt_std', 'bene_day_srvc_cnt_min',\n",
    "       'bene_day_srvc_cnt_max', 'average_submitted_chrg_amt_sum',\n",
    "       'average_submitted_chrg_amt_mean', 'average_submitted_chrg_amt_median',\n",
    "       'average_submitted_chrg_amt_std', 'average_submitted_chrg_amt_min',\n",
    "       'average_submitted_chrg_amt_max', 'average_medicare_payment_amt_sum',\n",
    "       'average_medicare_payment_amt_mean',\n",
    "       'average_medicare_payment_amt_median',\n",
    "       'average_medicare_payment_amt_std', 'average_medicare_payment_amt_min',\n",
    "       'average_medicare_payment_amt_max', 'EXCLTYPE',\n",
    "       'EXCLDATE', 'REINDATE', 'WAIVERDATE', 'WVRSTATE',\n",
    "       'MIN_EXCLUSION_PERIOD', 'END_EXCLDATE']]"
   ]
  },
  {
   "cell_type": "code",
   "execution_count": null,
   "metadata": {},
   "outputs": [],
   "source": [
    "partd = partd[['npi', 'specialty_description', 'DATA_YEAR', 'bene_count_sum', 'bene_count_mean', 'bene_count_median',\n",
    "       'bene_count_std', 'bene_count_min', 'bene_count_max',\n",
    "       'total_claim_count_sum', 'total_claim_count_mean',\n",
    "       'total_claim_count_median', 'total_claim_count_std',\n",
    "       'total_claim_count_min', 'total_claim_count_max',\n",
    "       'total_30_day_fill_count_sum', 'total_30_day_fill_count_mean',\n",
    "       'total_30_day_fill_count_median', 'total_30_day_fill_count_std',\n",
    "       'total_30_day_fill_count_min', 'total_30_day_fill_count_max',\n",
    "       'total_day_supply_sum', 'total_day_supply_mean',\n",
    "       'total_day_supply_median', 'total_day_supply_std',\n",
    "       'total_day_supply_min', 'total_day_supply_max', 'total_drug_cost_sum',\n",
    "       'total_drug_cost_mean', 'total_drug_cost_median', 'total_drug_cost_std',\n",
    "       'total_drug_cost_min', 'total_drug_cost_max', 'EXCLTYPE',\n",
    "       'EXCLDATE', 'REINDATE', 'WAIVERDATE', 'WVRSTATE',\n",
    "       'MIN_EXCLUSION_PERIOD', 'END_EXCLDATE']]"
   ]
  },
  {
   "cell_type": "code",
   "execution_count": null,
   "metadata": {},
   "outputs": [],
   "source": [
    "dmepos = dmepos[['npi','EXCLTYPE',\n",
    "       'EXCLDATE', 'REINDATE', 'WAIVERDATE', 'WVRSTATE',\n",
    "       'MIN_EXCLUSION_PERIOD', 'END_EXCLDATE', 'REFERRING_PROVIDER_TYPE',\n",
    "       'REFERRING_PROVIDER_GENDER', 'DATA_YEAR', 'NUMBER_OF_SUPPLIERS_sum',\n",
    "       'NUMBER_OF_SUPPLIERS_mean', 'NUMBER_OF_SUPPLIERS_median',\n",
    "       'NUMBER_OF_SUPPLIERS_std', 'NUMBER_OF_SUPPLIERS_min',\n",
    "       'NUMBER_OF_SUPPLIERS_max', 'NUMBER_OF_SUPPLIER_BENEFICIARIES_sum',\n",
    "       'NUMBER_OF_SUPPLIER_BENEFICIARIES_mean',\n",
    "       'NUMBER_OF_SUPPLIER_BENEFICIARIES_median',\n",
    "       'NUMBER_OF_SUPPLIER_BENEFICIARIES_std',\n",
    "       'NUMBER_OF_SUPPLIER_BENEFICIARIES_min',\n",
    "       'NUMBER_OF_SUPPLIER_BENEFICIARIES_max', 'NUMBER_OF_SUPPLIER_CLAIMS_sum',\n",
    "       'NUMBER_OF_SUPPLIER_CLAIMS_mean', 'NUMBER_OF_SUPPLIER_CLAIMS_median',\n",
    "       'NUMBER_OF_SUPPLIER_CLAIMS_std', 'NUMBER_OF_SUPPLIER_CLAIMS_min',\n",
    "       'NUMBER_OF_SUPPLIER_CLAIMS_max', 'NUMBER_OF_SUPPLIER_SERVICES_sum',\n",
    "       'NUMBER_OF_SUPPLIER_SERVICES_mean',\n",
    "       'NUMBER_OF_SUPPLIER_SERVICES_median', 'NUMBER_OF_SUPPLIER_SERVICES_std',\n",
    "       'NUMBER_OF_SUPPLIER_SERVICES_min', 'NUMBER_OF_SUPPLIER_SERVICES_max',\n",
    "       'AVG_SUPPLIER_MEDICARE_PMT_AMT_sum',\n",
    "       'AVG_SUPPLIER_MEDICARE_PMT_AMT_mean',\n",
    "       'AVG_SUPPLIER_MEDICARE_PMT_AMT_median',\n",
    "       'AVG_SUPPLIER_MEDICARE_PMT_AMT_std',\n",
    "       'AVG_SUPPLIER_MEDICARE_PMT_AMT_min',\n",
    "       'AVG_SUPPLIER_MEDICARE_PMT_AMT_max',\n",
    "       'AVG_SUPPLIER_SUBMITTED_CHARGE_sum',\n",
    "       'AVG_SUPPLIER_SUBMITTED_CHARGE_mean',\n",
    "       'AVG_SUPPLIER_SUBMITTED_CHARGE_median',\n",
    "       'AVG_SUPPLIER_SUBMITTED_CHARGE_std',\n",
    "       'AVG_SUPPLIER_SUBMITTED_CHARGE_min',\n",
    "       'AVG_SUPPLIER_SUBMITTED_CHARGE_max']]"
   ]
  },
  {
   "cell_type": "markdown",
   "metadata": {},
   "source": [
    "### Remove all rows without npi or provider info."
   ]
  },
  {
   "cell_type": "code",
   "execution_count": null,
   "metadata": {},
   "outputs": [],
   "source": [
    "partb = partb[(partb.npi != 0) & (partb.provider_type)]\n",
    "partd = partd[(partd.npi != 0) & (partd.specialty_description)]\n",
    "dmepos = dmepos[(dmepos.npi != 0) & (dmepos.REFERRING_PROVIDER_TYPE)]"
   ]
  },
  {
   "cell_type": "markdown",
   "metadata": {},
   "source": [
    "# Add Labels to each dataset"
   ]
  },
  {
   "cell_type": "markdown",
   "metadata": {},
   "source": [
    "Add the target column"
   ]
  },
  {
   "cell_type": "code",
   "execution_count": null,
   "metadata": {},
   "outputs": [],
   "source": [
    "partb['TARGET'] = '0'\n",
    "partd['TARGET'] = '0'\n",
    "dmepos['TARGET'] = '0'"
   ]
  },
  {
   "cell_type": "markdown",
   "metadata": {},
   "source": [
    "Extract the exclusion year into it's own column -- we will compare this to the data collection year then set the label as `FRAUD` or `NOT_FRAUD`."
   ]
  },
  {
   "cell_type": "code",
   "execution_count": null,
   "metadata": {},
   "outputs": [],
   "source": [
    "partb['START_EXCLDATE'] = partb['EXCLDATE'].dt.year\n",
    "partd['START_EXCLDATE'] = partd['EXCLDATE'].dt.year\n",
    "dmepos['START_EXCLDATE'] = dmepos['EXCLDATE'].dt.year"
   ]
  },
  {
   "cell_type": "code",
   "execution_count": null,
   "metadata": {},
   "outputs": [],
   "source": [
    "partb"
   ]
  },
  {
   "cell_type": "code",
   "execution_count": null,
   "metadata": {},
   "outputs": [],
   "source": [
    "def make_labels(start_exc, data_yr):\n",
    "    if start_exc > data_yr:\n",
    "        return 'FRAUD'\n",
    "    else:\n",
    "        return 'NOT_FRAUD'\n",
    "        "
   ]
  },
  {
   "cell_type": "code",
   "execution_count": null,
   "metadata": {},
   "outputs": [],
   "source": [
    "#applying the fraud labeling function to datasets\n",
    "\n",
    "partb['TARGET'] = partb[[\"START_EXCLDATE\",\"DATA_YEAR\"]].apply(lambda x: make_labels(*x), axis=1)\n",
    "partd['TARGET'] = partd[[\"START_EXCLDATE\",\"DATA_YEAR\"]].apply(lambda x: make_labels(*x), axis=1)\n",
    "dmepos['TARGET'] = dmepos[[\"START_EXCLDATE\",\"DATA_YEAR\"]].apply(lambda x: make_labels(*x), axis=1)"
   ]
  },
  {
   "cell_type": "markdown",
   "metadata": {},
   "source": [
    "As you can see from the outputs below, each of the datasets are highly imbalanced. This is an issue that would need to be revisited."
   ]
  },
  {
   "cell_type": "code",
   "execution_count": null,
   "metadata": {},
   "outputs": [],
   "source": [
    "partb.TARGET.value_counts().index.to_list()"
   ]
  },
  {
   "cell_type": "code",
   "execution_count": null,
   "metadata": {},
   "outputs": [],
   "source": [
    "dmepos.TARGET.value_counts()"
   ]
  },
  {
   "cell_type": "markdown",
   "metadata": {},
   "source": [
    "### Making the combined dataset"
   ]
  },
  {
   "cell_type": "code",
   "execution_count": null,
   "metadata": {},
   "outputs": [],
   "source": [
    "combined = pd.merge(partb,partd, left_on=['npi', 'provider_type', 'DATA_YEAR'], right_on=['npi', 'specialty_description', 'DATA_YEAR']).merge(dmepos, left_on=['npi', 'provider_type', 'DATA_YEAR'],right_on=['npi','REFERRING_PROVIDER_TYPE', 'DATA_YEAR'])"
   ]
  },
  {
   "cell_type": "code",
   "execution_count": null,
   "metadata": {},
   "outputs": [],
   "source": [
    "#Drop one gender column because it is also present in the partb dataset (and drop duplicate columns)\n",
    "\n",
    "combined.drop(columns=['REFERRING_PROVIDER_GENDER','EXCLTYPE_y',\n",
    " 'EXCLDATE_y','REINDATE_y','WAIVERDATE_y','WVRSTATE_y', 'MIN_EXCLUSION_PERIOD_y',\n",
    " 'END_EXCLDATE_y', 'specialty_description', 'TARGET_y','TARGET_x','EXCLTYPE_x',\n",
    " 'EXCLDATE_x', 'REINDATE_x', 'WAIVERDATE_x', 'WVRSTATE_x', 'MIN_EXCLUSION_PERIOD_x',\n",
    " 'END_EXCLDATE_x', 'START_EXCLDATE_x', 'START_EXCLDATE_y','REFERRING_PROVIDER_TYPE'],\n",
    "              inplace=True) "
   ]
  },
  {
   "cell_type": "markdown",
   "metadata": {},
   "source": [
    "# One Hot Encoding of Categorical Variables."
   ]
  },
  {
   "cell_type": "code",
   "execution_count": null,
   "metadata": {},
   "outputs": [],
   "source": [
    "partb_category_columns = ['provider_type', 'nppes_provider_gender']\n",
    "partd_category_columns = ['specialty_description']\n",
    "dmepos_category_columns = ['REFERRING_PROVIDER_GENDER', 'REFERRING_PROVIDER_TYPE']\n",
    "combined_category_columns = ['provider_type', 'nppes_provider_gender']"
   ]
  },
  {
   "cell_type": "code",
   "execution_count": null,
   "metadata": {},
   "outputs": [],
   "source": [
    "partb = pd.get_dummies(partb, columns=partb_category_columns, drop_first=True)\n",
    "partd = pd.get_dummies(partd, columns=partd_category_columns, drop_first=True)\n",
    "dmepos = pd.get_dummies(dmepos, columns=dmepos_category_columns, drop_first=True)\n",
    "combined = pd.get_dummies(combined, columns=combined_category_columns, drop_first=True)"
   ]
  },
  {
   "cell_type": "markdown",
   "metadata": {},
   "source": [
    "### Drop the columns that we don't need for modeling."
   ]
  },
  {
   "cell_type": "code",
   "execution_count": null,
   "metadata": {},
   "outputs": [],
   "source": [
    "columns_to_drop = [ 'EXCLTYPE','EXCLDATE','REINDATE','WAIVERDATE',\n",
    "                   'WVRSTATE','MIN_EXCLUSION_PERIOD','END_EXCLDATE',\n",
    "                   'START_EXCLDATE', 'npi', 'DATA_YEAR']\n",
    "\n",
    "partb.drop(columns_to_drop, axis=1, inplace=True)\n",
    "partd.drop(columns_to_drop, axis=1, inplace=True)\n",
    "dmepos.drop(columns_to_drop, axis=1, inplace=True)\n",
    "combined.drop(columns_to_drop, axis=1, inplace=True)"
   ]
  },
  {
   "cell_type": "code",
   "execution_count": null,
   "metadata": {},
   "outputs": [],
   "source": [
    "partb.shape"
   ]
  },
  {
   "cell_type": "code",
   "execution_count": null,
   "metadata": {},
   "outputs": [],
   "source": [
    "partd.shape"
   ]
  },
  {
   "cell_type": "code",
   "execution_count": null,
   "metadata": {},
   "outputs": [],
   "source": [
    "dmepos.shape"
   ]
  },
  {
   "cell_type": "code",
   "execution_count": null,
   "metadata": {},
   "outputs": [],
   "source": [
    "combined.shape"
   ]
  },
  {
   "cell_type": "markdown",
   "metadata": {},
   "source": [
    "### Fill in `NaN` values with `0`."
   ]
  },
  {
   "cell_type": "code",
   "execution_count": null,
   "metadata": {},
   "outputs": [],
   "source": [
    "partd.fillna(0, inplace=True)\n",
    "dmepos.fillna(0, inplace=True)\n",
    "combined.fillna(0, inplace=True)"
   ]
  },
  {
   "cell_type": "markdown",
   "metadata": {},
   "source": [
    "# Export data for modeling."
   ]
  },
  {
   "cell_type": "code",
   "execution_count": null,
   "metadata": {},
   "outputs": [],
   "source": [
    "pd.to_pickle(partd, '/Volumes/ML_projects/Medicare_Fraud_Datasets/processed_data/partd.pkl')\n",
    "pd.to_pickle(partb, '/Volumes/ML_projects/Medicare_Fraud_Datasets/processed_data/partb.pkl')\n",
    "pd.to_pickle(dmepos, '/Volumes/ML_projects/Medicare_Fraud_Datasets/processed_data/dmepos.pkl')\n",
    "pd.to_pickle(combined, '/Volumes/ML_projects/Medicare_Fraud_Datasets/processed_data/combined.pkl')"
   ]
  },
  {
   "cell_type": "code",
   "execution_count": null,
   "metadata": {},
   "outputs": [],
   "source": []
  }
 ],
 "metadata": {
  "kernelspec": {
   "display_name": "learn-env",
   "language": "python",
   "name": "learn-env"
  },
  "language_info": {
   "codemirror_mode": {
    "name": "ipython",
    "version": 3
   },
   "file_extension": ".py",
   "mimetype": "text/x-python",
   "name": "python",
   "nbconvert_exporter": "python",
   "pygments_lexer": "ipython3",
   "version": "3.6.10"
  }
 },
 "nbformat": 4,
 "nbformat_minor": 4
}
