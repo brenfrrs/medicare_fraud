{
 "cells": [
  {
   "cell_type": "code",
   "execution_count": 1,
   "metadata": {},
   "outputs": [],
   "source": [
    "import pandas as pd\n",
    "import numpy as np\n",
    "import matplotlib.pyplot as plt\n",
    "import seaborn as sns\n",
    "\n",
    "import warnings\n",
    "warnings.filterwarnings('ignore')\n",
    "%matplotlib inline"
   ]
  },
  {
   "cell_type": "markdown",
   "metadata": {},
   "source": [
    "# Importing Data"
   ]
  },
  {
   "cell_type": "code",
   "execution_count": 2,
   "metadata": {},
   "outputs": [],
   "source": [
    "partd_2018 = pd.read_csv('/Volumes/ML_projects/Medicare_Fraud_Datasets/PARTD/PartD_Prescriber_PUF_NPI_Drug_18.txt', sep='\\t')\n",
    "partb_2018 = pd.read_csv('/Volumes/ML_projects/Medicare_Fraud_Datasets/PARTB/Medicare_Provider_Util_Payment_PUF_CY2018/Medicare_Provider_Util_Payment_PUF_CY2018.txt', sep='\\t')\n",
    "dmepos_2018 = pd.read_csv('/Volumes/ML_projects/Medicare_Fraud_Datasets/DMEPOS/Medicare_Referring_Provider_DMEPOS_PUF_CY2018/Medicare_Referring_Provider_DMEPOS_PUF_CY2018.csv')\n",
    "partd_2017 = pd.read_csv('/Volumes/ML_projects/Medicare_Fraud_Datasets/PARTD/PartD_Prescriber_PUF_NPI_DRUG_17/PartD_Prescriber_PUF_NPI_Drug_17.txt', sep='\\t')\n",
    "partb_2017 = pd.read_csv('/Volumes/ML_projects/Medicare_Fraud_Datasets/PARTB/Medicare_Provider_Util_Payment_PUF_CY2017/Medicare_Provider_Util_Payment_PUF_CY2017.txt', sep='\\t')\n",
    "dmepos_2017 = pd.read_csv('/Volumes/ML_projects/Medicare_Fraud_Datasets/DMEPOS/medicare_referring_provider_dmepos_puf_cy2017/Medicare_Referring_Provider_DMEPOS_PUF_CY2017.tab', sep='\\t')\n",
    "partd_2016 = pd.read_csv('/Volumes/ML_projects/Medicare_Fraud_Datasets/PARTD/PartD_Prescriber_PUF_NPI_DRUG_16/PartD_Prescriber_PUF_NPI_Drug_16.txt', sep='\\t')\n",
    "partb_2016 = pd.read_csv('/Volumes/ML_projects/Medicare_Fraud_Datasets/PARTB/Medicare-Physician-and-Other-Supplier-PUF/Medicare_Provider_Util_Payment_PUF_CY2016.txt', sep='\\t')\n",
    "dmepos_2016 = pd.read_csv('/Volumes/ML_projects/Medicare_Fraud_Datasets/DMEPOS/medicare_referring_provider_dmepos_puf_cy2016/Medicare_Referring_Provider_DMEPOS_PUF_CY2016.tab', sep='\\t')\n",
    "partd_2015 = pd.read_csv('/Volumes/ML_projects/Medicare_Fraud_Datasets/PARTD/PartD_Prescriber_PUF_NPI_DRUG_15/PartD_Prescriber_PUF_NPI_Drug_15.txt', sep='\\t')\n",
    "partb_2015 = pd.read_csv('/Volumes/ML_projects/Medicare_Fraud_Datasets/PARTB/Medicare_Provider_Util_Payment_PUF_CY2015/Medicare_Provider_Util_Payment_PUF_CY2015.txt', sep='\\t')\n",
    "dmepos_2015 = pd.read_csv('/Volumes/ML_projects/Medicare_Fraud_Datasets/DMEPOS/medicare_referring_provider_dmepos_puf_cy2015/Medicare_Referring_Provider_DMEPOS_PUF_CY2015.txt', sep='\\t')\n",
    "partd_2014 = pd.read_csv('/Volumes/ML_projects/Medicare_Fraud_Datasets/PARTD/PartD_Prescriber_PUF_NPI_DRUG_14/PartD_Prescriber_PUF_NPI_Drug_14.txt', sep='\\t')\n",
    "partb_2014 = pd.read_csv('/Volumes/ML_projects/Medicare_Fraud_Datasets/PARTB/Medicare_Provider_Util_Payment_PUF_CY2014/Medicare_Provider_Util_Payment_PUF_CY2014.txt', sep='\\t')\n",
    "dmepos_2014 = pd.read_csv('/Volumes/ML_projects/Medicare_Fraud_Datasets/DMEPOS/medicare_referring_provider_dmepos_puf_cy2014/Medicare_Referring_Provider_DMEPOS_PUF_CY2014.txt', sep='\\t')"
   ]
  },
  {
   "cell_type": "code",
   "execution_count": 3,
   "metadata": {},
   "outputs": [],
   "source": [
    "leie = pd.read_csv('/Volumes/ML_projects/Medicare_Fraud_Datasets/LEIE.csv')"
   ]
  },
  {
   "cell_type": "markdown",
   "metadata": {},
   "source": [
    "# Selecting features and targets."
   ]
  },
  {
   "cell_type": "markdown",
   "metadata": {},
   "source": [
    "Filtering out specific exclusion codes for more severe offenses. These will be used to create `FRAUD` and `NOT FRAUD` targets."
   ]
  },
  {
   "cell_type": "code",
   "execution_count": 4,
   "metadata": {},
   "outputs": [],
   "source": [
    "#mandatory minimum penalty based on offense category\n",
    "\n",
    "minimum_exclusion_periods = { \n",
    "    '1128a1':5, #Conviction of program-related crimes. Minimum Period: 5 years\n",
    "    '1128a2':5, #Conviction relating to patient abuse or neglect. Minimum Period: 5 years\n",
    "    '1128a3':5, #Felony conviction relating to health care fraud. Minimum Period: 5 years\n",
    "    '1128b4':np.nan, #License revocation, suspension, or surrender. Minimum Period: Period imposed by the state licensing authority.    \n",
    "    '1128b7':np.nan, #Fraud, kickbacks, and other prohibited activities. Minimum Period: None\n",
    "    '1128c3gi':10, #Conviction of second mandatory exclusion offense. Minimum Period: 10 years\n",
    "    '1128c3gii':100 #Conviction of third or more mandatory exclusion offenses. Permanent Exclusion\n",
    "}"
   ]
  },
  {
   "cell_type": "code",
   "execution_count": 5,
   "metadata": {},
   "outputs": [
    {
     "data": {
      "text/plain": [
       "(65309, 18)"
      ]
     },
     "execution_count": 5,
     "metadata": {},
     "output_type": "execute_result"
    }
   ],
   "source": [
    "exclusion_codes = ['1128a1', '1128a2', '1128a3', '1128b4', '1128b7', '1128c3gi', '1128c3gii']\n",
    "filtered_leie = leie[leie.EXCLTYPE.isin(exclusion_codes)]\n",
    "filtered_leie.shape"
   ]
  },
  {
   "cell_type": "markdown",
   "metadata": {},
   "source": [
    "Converting the dates into a datetime."
   ]
  },
  {
   "cell_type": "code",
   "execution_count": 6,
   "metadata": {},
   "outputs": [],
   "source": [
    "filtered_leie['EXCLDATE'] = pd.to_datetime(filtered_leie.EXCLDATE, format='%Y%m%d') #most important value\n",
    "filtered_leie['WAIVERDATE'] = pd.to_datetime(filtered_leie.WAIVERDATE, format='%Y%m%d', errors='coerce')\n",
    "filtered_leie['REINDATE'] = pd.to_datetime(filtered_leie.REINDATE, format='%Y%m%d', errors='coerce')"
   ]
  },
  {
   "cell_type": "markdown",
   "metadata": {},
   "source": [
    "As we can see, there are only 11 dates for the `WAIVERDATE` column and only 1 for the `REINDATE` column, so to infer the exclusion end dates we can add the `minimum_exclusion_periods` value to the exclusion date (`EXCLDATE`) column."
   ]
  },
  {
   "cell_type": "code",
   "execution_count": 7,
   "metadata": {},
   "outputs": [
    {
     "name": "stdout",
     "output_type": "stream",
     "text": [
      "Unique `WAIVERDATE` values:  11\n",
      "Unique `REINDATE` values:  1\n"
     ]
    }
   ],
   "source": [
    "print(\"Unique `WAIVERDATE` values: \", len(filtered_leie['WAIVERDATE'].unique()))\n",
    "print(\"Unique `REINDATE` values: \", len(filtered_leie['REINDATE'].unique()))"
   ]
  },
  {
   "cell_type": "code",
   "execution_count": 8,
   "metadata": {},
   "outputs": [],
   "source": [
    "#mapping the penalty to the minimum exclusions period, placing minimum exclusions on their own col\n",
    "\n",
    "filtered_leie['MIN_EXCLUSION_PERIOD'] = filtered_leie['EXCLTYPE'].map(minimum_exclusion_periods)"
   ]
  },
  {
   "cell_type": "markdown",
   "metadata": {},
   "source": [
    "Now we have to add the minimum exclusion periods to the original exclusion dates. This will give us an estimate of the exclusion end date. "
   ]
  },
  {
   "cell_type": "code",
   "execution_count": 9,
   "metadata": {},
   "outputs": [],
   "source": [
    "filtered_leie['END_EXCLDATE'] = filtered_leie.EXCLDATE.dt.year + filtered_leie.MIN_EXCLUSION_PERIOD"
   ]
  },
  {
   "cell_type": "markdown",
   "metadata": {},
   "source": [
    "The `calculate_exclusion_end` function takes in the beginning exclusion date, then if the month is greater that `6` , adds a year to the end year. This is because the provider would have been fraudulant for most of the year."
   ]
  },
  {
   "cell_type": "code",
   "execution_count": 10,
   "metadata": {},
   "outputs": [],
   "source": [
    "def calculate_exclusion_end(exclusion_date, end_year):\n",
    "    month = exclusion_date.month\n",
    "    \n",
    "\n",
    "    if month > 6:\n",
    "        return end_year + 1\n",
    "    else:\n",
    "        return end_year\n",
    "        "
   ]
  },
  {
   "cell_type": "code",
   "execution_count": 11,
   "metadata": {},
   "outputs": [],
   "source": [
    "#applying the function that calculates end dates\n",
    "\n",
    "filtered_leie['END_EXCLDATE'] = filtered_leie[[\"EXCLDATE\",\"END_EXCLDATE\"]].apply(lambda x: calculate_exclusion_end(*x), axis=1)"
   ]
  },
  {
   "cell_type": "markdown",
   "metadata": {},
   "source": [
    "Filtering out features from the three datasets."
   ]
  },
  {
   "cell_type": "code",
   "execution_count": 12,
   "metadata": {},
   "outputs": [],
   "source": [
    "partb_feats = ['npi', 'hcpcs_code', 'hcpcs_description', 'hcpcs_drug_indicator', 'provider_type', 'nppes_provider_gender', 'line_srvc_cnt', 'bene_unique_cnt', 'bene_day_srvc_cnt', 'average_submitted_chrg_amt', 'average_Medicare_payment_amt']\n",
    "partd_feats = ['npi', 'specialty_description', 'bene_count', 'total_claim_count', 'total_30_day_fill_count', 'total_day_supply', 'total_drug_cost']\n",
    "dmepos_feats = ['REFERRING_NPI', 'REFERRING_PROVIDER_TYPE', 'REFERRING_PROVIDER_GENDER', 'NUMBER_OF_SUPPLIERS', 'NUMBER_OF_SUPPLIER_BENEFICIARIES', 'NUMBER_OF_SUPPLIER_CLAIMS', 'NUMBER_OF_SUPPLIER_SERVICES', 'AVG_SUPPLIER_SUBMITTED_CHARGE', 'AVG_SUPPLIER_MEDICARE_PMT_AMT']\n",
    "\n",
    "partb_features_2018 = partb_2018[partb_feats]\n",
    "partd_features_2018 = partd_2018[partd_feats]\n",
    "dmepos_features_2018 = dmepos_2018[dmepos_feats]\n",
    "\n",
    "#Add a year column so we know where to add fraud labels. Activity before exclusion dates will be considered fraudulent. \n",
    "partb_features_2018['DATA_YEAR'] = 2018\n",
    "partd_features_2018['DATA_YEAR'] = 2018\n",
    "dmepos_features_2018['DATA_YEAR'] = 2018\n",
    "\n",
    "partb_features_2017 = partb_2017[partb_feats]\n",
    "partd_features_2017 = partd_2017[partd_feats]\n",
    "dmepos_features_2017 = dmepos_2017[dmepos_feats]\n",
    "\n",
    "partb_features_2017['DATA_YEAR'] = 2017\n",
    "partd_features_2017['DATA_YEAR'] = 2017\n",
    "dmepos_features_2017['DATA_YEAR'] = 2017\n",
    "\n",
    "partb_features_2016 = partb_2016[[x.upper() for x in partb_feats]]\n",
    "partd_features_2016 = partd_2016[partd_feats]\n",
    "dmepos_features_2016 = dmepos_2016[dmepos_feats]\n",
    "\n",
    "#make 2016 headers lowercase like the other years. \n",
    "partb_features_2016.columns = [x.lower() for x in partb_features_2016.columns]\n",
    "\n",
    "partb_features_2016['DATA_YEAR'] = 2016\n",
    "partd_features_2016['DATA_YEAR'] = 2016\n",
    "dmepos_features_2016['DATA_YEAR'] = 2016\n",
    "\n",
    "partb_features_2015 = partb_2015[partb_feats]\n",
    "partd_features_2015 = partd_2015[partd_feats]\n",
    "dmepos_features_2015 = dmepos_2015[dmepos_feats]\n",
    " \n",
    "partb_features_2015['DATA_YEAR'] = 2015\n",
    "partd_features_2015['DATA_YEAR'] = 2015\n",
    "dmepos_features_2015['DATA_YEAR'] = 2015\n",
    "\n",
    "partb_features_2014 = partb_2014[partb_feats]\n",
    "partd_features_2014 = partd_2014[partd_feats]\n",
    "dmepos_features_2014 = dmepos_2014[dmepos_feats]\n",
    "\n",
    "partb_features_2014['DATA_YEAR'] = 2014\n",
    "partd_features_2014['DATA_YEAR'] = 2014\n",
    "dmepos_features_2014['DATA_YEAR'] = 2014"
   ]
  },
  {
   "cell_type": "code",
   "execution_count": 13,
   "metadata": {},
   "outputs": [
    {
     "data": {
      "text/html": [
       "<div>\n",
       "<style scoped>\n",
       "    .dataframe tbody tr th:only-of-type {\n",
       "        vertical-align: middle;\n",
       "    }\n",
       "\n",
       "    .dataframe tbody tr th {\n",
       "        vertical-align: top;\n",
       "    }\n",
       "\n",
       "    .dataframe thead th {\n",
       "        text-align: right;\n",
       "    }\n",
       "</style>\n",
       "<table border=\"1\" class=\"dataframe\">\n",
       "  <thead>\n",
       "    <tr style=\"text-align: right;\">\n",
       "      <th></th>\n",
       "      <th>npi</th>\n",
       "      <th>hcpcs_code</th>\n",
       "      <th>hcpcs_description</th>\n",
       "      <th>hcpcs_drug_indicator</th>\n",
       "      <th>provider_type</th>\n",
       "      <th>nppes_provider_gender</th>\n",
       "      <th>line_srvc_cnt</th>\n",
       "      <th>bene_unique_cnt</th>\n",
       "      <th>bene_day_srvc_cnt</th>\n",
       "      <th>average_submitted_chrg_amt</th>\n",
       "      <th>average_medicare_payment_amt</th>\n",
       "      <th>DATA_YEAR</th>\n",
       "    </tr>\n",
       "  </thead>\n",
       "  <tbody>\n",
       "    <tr>\n",
       "      <th>0</th>\n",
       "      <td>1</td>\n",
       "      <td>NaN</td>\n",
       "      <td>NaN</td>\n",
       "      <td>NaN</td>\n",
       "      <td>NaN</td>\n",
       "      <td>NaN</td>\n",
       "      <td>NaN</td>\n",
       "      <td>NaN</td>\n",
       "      <td>NaN</td>\n",
       "      <td>NaN</td>\n",
       "      <td>NaN</td>\n",
       "      <td>2016</td>\n",
       "    </tr>\n",
       "    <tr>\n",
       "      <th>1</th>\n",
       "      <td>1003000126</td>\n",
       "      <td>99217</td>\n",
       "      <td>Hospital observation care discharge</td>\n",
       "      <td>N</td>\n",
       "      <td>Internal Medicine</td>\n",
       "      <td>M</td>\n",
       "      <td>57.0</td>\n",
       "      <td>55.0</td>\n",
       "      <td>57.0</td>\n",
       "      <td>325.157895</td>\n",
       "      <td>54.474386</td>\n",
       "      <td>2016</td>\n",
       "    </tr>\n",
       "    <tr>\n",
       "      <th>2</th>\n",
       "      <td>1003000126</td>\n",
       "      <td>99219</td>\n",
       "      <td>Hospital observation care typically 50 minutes</td>\n",
       "      <td>N</td>\n",
       "      <td>Internal Medicine</td>\n",
       "      <td>M</td>\n",
       "      <td>38.0</td>\n",
       "      <td>38.0</td>\n",
       "      <td>38.0</td>\n",
       "      <td>614.000000</td>\n",
       "      <td>105.850000</td>\n",
       "      <td>2016</td>\n",
       "    </tr>\n",
       "    <tr>\n",
       "      <th>3</th>\n",
       "      <td>1003000126</td>\n",
       "      <td>99220</td>\n",
       "      <td>Hospital observation care typically 70 minutes...</td>\n",
       "      <td>N</td>\n",
       "      <td>Internal Medicine</td>\n",
       "      <td>M</td>\n",
       "      <td>23.0</td>\n",
       "      <td>23.0</td>\n",
       "      <td>23.0</td>\n",
       "      <td>769.347826</td>\n",
       "      <td>146.116522</td>\n",
       "      <td>2016</td>\n",
       "    </tr>\n",
       "    <tr>\n",
       "      <th>4</th>\n",
       "      <td>1003000126</td>\n",
       "      <td>99221</td>\n",
       "      <td>Initial hospital inpatient care, typically 30 ...</td>\n",
       "      <td>N</td>\n",
       "      <td>Internal Medicine</td>\n",
       "      <td>M</td>\n",
       "      <td>20.0</td>\n",
       "      <td>20.0</td>\n",
       "      <td>20.0</td>\n",
       "      <td>460.000000</td>\n",
       "      <td>78.990000</td>\n",
       "      <td>2016</td>\n",
       "    </tr>\n",
       "    <tr>\n",
       "      <th>...</th>\n",
       "      <td>...</td>\n",
       "      <td>...</td>\n",
       "      <td>...</td>\n",
       "      <td>...</td>\n",
       "      <td>...</td>\n",
       "      <td>...</td>\n",
       "      <td>...</td>\n",
       "      <td>...</td>\n",
       "      <td>...</td>\n",
       "      <td>...</td>\n",
       "      <td>...</td>\n",
       "      <td>...</td>\n",
       "    </tr>\n",
       "    <tr>\n",
       "      <th>9714892</th>\n",
       "      <td>1992999874</td>\n",
       "      <td>99223</td>\n",
       "      <td>Initial hospital inpatient care, typically 70 ...</td>\n",
       "      <td>N</td>\n",
       "      <td>Internal Medicine</td>\n",
       "      <td>F</td>\n",
       "      <td>138.0</td>\n",
       "      <td>136.0</td>\n",
       "      <td>138.0</td>\n",
       "      <td>496.000000</td>\n",
       "      <td>155.637826</td>\n",
       "      <td>2016</td>\n",
       "    </tr>\n",
       "    <tr>\n",
       "      <th>9714893</th>\n",
       "      <td>1992999874</td>\n",
       "      <td>99232</td>\n",
       "      <td>Subsequent hospital inpatient care, typically ...</td>\n",
       "      <td>N</td>\n",
       "      <td>Internal Medicine</td>\n",
       "      <td>F</td>\n",
       "      <td>315.0</td>\n",
       "      <td>167.0</td>\n",
       "      <td>315.0</td>\n",
       "      <td>176.000000</td>\n",
       "      <td>56.270000</td>\n",
       "      <td>2016</td>\n",
       "    </tr>\n",
       "    <tr>\n",
       "      <th>9714894</th>\n",
       "      <td>1992999874</td>\n",
       "      <td>99233</td>\n",
       "      <td>Subsequent hospital inpatient care, typically ...</td>\n",
       "      <td>N</td>\n",
       "      <td>Internal Medicine</td>\n",
       "      <td>F</td>\n",
       "      <td>323.0</td>\n",
       "      <td>175.0</td>\n",
       "      <td>323.0</td>\n",
       "      <td>254.000000</td>\n",
       "      <td>80.918700</td>\n",
       "      <td>2016</td>\n",
       "    </tr>\n",
       "    <tr>\n",
       "      <th>9714895</th>\n",
       "      <td>1992999874</td>\n",
       "      <td>99239</td>\n",
       "      <td>Hospital discharge day management, more than 3...</td>\n",
       "      <td>N</td>\n",
       "      <td>Internal Medicine</td>\n",
       "      <td>F</td>\n",
       "      <td>160.0</td>\n",
       "      <td>155.0</td>\n",
       "      <td>160.0</td>\n",
       "      <td>262.000000</td>\n",
       "      <td>83.393938</td>\n",
       "      <td>2016</td>\n",
       "    </tr>\n",
       "    <tr>\n",
       "      <th>9714896</th>\n",
       "      <td>1992999874</td>\n",
       "      <td>99291</td>\n",
       "      <td>Critical care delivery critically ill or injur...</td>\n",
       "      <td>N</td>\n",
       "      <td>Internal Medicine</td>\n",
       "      <td>F</td>\n",
       "      <td>17.0</td>\n",
       "      <td>17.0</td>\n",
       "      <td>17.0</td>\n",
       "      <td>543.058824</td>\n",
       "      <td>174.520000</td>\n",
       "      <td>2016</td>\n",
       "    </tr>\n",
       "  </tbody>\n",
       "</table>\n",
       "<p>9714897 rows × 12 columns</p>\n",
       "</div>"
      ],
      "text/plain": [
       "                npi hcpcs_code  \\\n",
       "0                 1        NaN   \n",
       "1        1003000126      99217   \n",
       "2        1003000126      99219   \n",
       "3        1003000126      99220   \n",
       "4        1003000126      99221   \n",
       "...             ...        ...   \n",
       "9714892  1992999874      99223   \n",
       "9714893  1992999874      99232   \n",
       "9714894  1992999874      99233   \n",
       "9714895  1992999874      99239   \n",
       "9714896  1992999874      99291   \n",
       "\n",
       "                                         hcpcs_description  \\\n",
       "0                                                      NaN   \n",
       "1                      Hospital observation care discharge   \n",
       "2           Hospital observation care typically 50 minutes   \n",
       "3        Hospital observation care typically 70 minutes...   \n",
       "4        Initial hospital inpatient care, typically 30 ...   \n",
       "...                                                    ...   \n",
       "9714892  Initial hospital inpatient care, typically 70 ...   \n",
       "9714893  Subsequent hospital inpatient care, typically ...   \n",
       "9714894  Subsequent hospital inpatient care, typically ...   \n",
       "9714895  Hospital discharge day management, more than 3...   \n",
       "9714896  Critical care delivery critically ill or injur...   \n",
       "\n",
       "        hcpcs_drug_indicator      provider_type nppes_provider_gender  \\\n",
       "0                        NaN                NaN                   NaN   \n",
       "1                          N  Internal Medicine                     M   \n",
       "2                          N  Internal Medicine                     M   \n",
       "3                          N  Internal Medicine                     M   \n",
       "4                          N  Internal Medicine                     M   \n",
       "...                      ...                ...                   ...   \n",
       "9714892                    N  Internal Medicine                     F   \n",
       "9714893                    N  Internal Medicine                     F   \n",
       "9714894                    N  Internal Medicine                     F   \n",
       "9714895                    N  Internal Medicine                     F   \n",
       "9714896                    N  Internal Medicine                     F   \n",
       "\n",
       "         line_srvc_cnt  bene_unique_cnt  bene_day_srvc_cnt  \\\n",
       "0                  NaN              NaN                NaN   \n",
       "1                 57.0             55.0               57.0   \n",
       "2                 38.0             38.0               38.0   \n",
       "3                 23.0             23.0               23.0   \n",
       "4                 20.0             20.0               20.0   \n",
       "...                ...              ...                ...   \n",
       "9714892          138.0            136.0              138.0   \n",
       "9714893          315.0            167.0              315.0   \n",
       "9714894          323.0            175.0              323.0   \n",
       "9714895          160.0            155.0              160.0   \n",
       "9714896           17.0             17.0               17.0   \n",
       "\n",
       "         average_submitted_chrg_amt  average_medicare_payment_amt  DATA_YEAR  \n",
       "0                               NaN                           NaN       2016  \n",
       "1                        325.157895                     54.474386       2016  \n",
       "2                        614.000000                    105.850000       2016  \n",
       "3                        769.347826                    146.116522       2016  \n",
       "4                        460.000000                     78.990000       2016  \n",
       "...                             ...                           ...        ...  \n",
       "9714892                  496.000000                    155.637826       2016  \n",
       "9714893                  176.000000                     56.270000       2016  \n",
       "9714894                  254.000000                     80.918700       2016  \n",
       "9714895                  262.000000                     83.393938       2016  \n",
       "9714896                  543.058824                    174.520000       2016  \n",
       "\n",
       "[9714897 rows x 12 columns]"
      ]
     },
     "execution_count": 13,
     "metadata": {},
     "output_type": "execute_result"
    }
   ],
   "source": [
    "partb_features_2016"
   ]
  },
  {
   "cell_type": "markdown",
   "metadata": {},
   "source": [
    "# Concatenate all the yearly data."
   ]
  },
  {
   "cell_type": "code",
   "execution_count": 14,
   "metadata": {},
   "outputs": [],
   "source": [
    "# make NPI lowercase so we can merge on it later. \n",
    "\n",
    "filtered_leie.rename({'NPI':'npi'}, axis=1, inplace=True)\n",
    "dmepos_features_2018.rename({'REFERRING_NPI':'npi'}, axis=1, inplace=True)\n",
    "dmepos_features_2017.rename({'REFERRING_NPI':'npi'}, axis=1, inplace=True)\n",
    "dmepos_features_2016.rename({'REFERRING_NPI':'npi'}, axis=1, inplace=True)\n",
    "dmepos_features_2015.rename({'REFERRING_NPI':'npi'}, axis=1, inplace=True)\n",
    "dmepos_features_2014.rename({'REFERRING_NPI':'npi'}, axis=1, inplace=True)"
   ]
  },
  {
   "cell_type": "code",
   "execution_count": 15,
   "metadata": {},
   "outputs": [],
   "source": [
    "partb_features = pd.concat([partb_features_2018, partb_features_2017, partb_features_2016, partb_features_2015, partb_features_2014])\n",
    "partd_features = pd.concat([partd_features_2018, partd_features_2017, partd_features_2016, partd_features_2015, partd_features_2014])\n",
    "dmepos_features = pd.concat([dmepos_features_2018, dmepos_features_2017, dmepos_features_2016, dmepos_features_2015, dmepos_features_2014])"
   ]
  },
  {
   "cell_type": "markdown",
   "metadata": {},
   "source": [
    "# Part B dataset processing."
   ]
  },
  {
   "cell_type": "markdown",
   "metadata": {},
   "source": [
    "Filter out HCPCS codes referring to prescriptions, the `line_srvc_cnt` feature for these entries refer to weight/volume of a drug and not procedure counts. Including both in the same dataset would cause conflicts. "
   ]
  },
  {
   "cell_type": "code",
   "execution_count": 16,
   "metadata": {},
   "outputs": [],
   "source": [
    "partb_features = partb_features[partb_features.hcpcs_drug_indicator.eq('N')]"
   ]
  },
  {
   "cell_type": "code",
   "execution_count": 17,
   "metadata": {},
   "outputs": [
    {
     "data": {
      "text/plain": [
       "DATA_YEAR                                                                  2018\n",
       "average_Medicare_payment_amt                                            76.7953\n",
       "average_medicare_payment_amt                                                NaN\n",
       "average_submitted_chrg_amt                                              476.947\n",
       "bene_day_srvc_cnt                                                            19\n",
       "bene_unique_cnt                                                              19\n",
       "hcpcs_code                                                                99218\n",
       "hcpcs_description               Hospital observation care, typically 30 minutes\n",
       "hcpcs_drug_indicator                                                          N\n",
       "line_srvc_cnt                                                                19\n",
       "npi                                                                  1003000126\n",
       "nppes_provider_gender                                                         M\n",
       "provider_type                                                 Internal Medicine\n",
       "Name: 2, dtype: object"
      ]
     },
     "execution_count": 17,
     "metadata": {},
     "output_type": "execute_result"
    }
   ],
   "source": [
    "partb_features.head(5).iloc[1]"
   ]
  },
  {
   "cell_type": "code",
   "execution_count": 18,
   "metadata": {},
   "outputs": [],
   "source": [
    "partb_features = partb_features.groupby(['npi','provider_type', 'nppes_provider_gender', 'DATA_YEAR']).agg({'line_srvc_cnt':['sum', 'mean', 'median', np.std, 'min', 'max'],\n",
    "                                                                                     'bene_unique_cnt':['sum', 'mean', 'median', np.std, 'min', 'max'],\n",
    "                                                                                     'bene_day_srvc_cnt':['sum', 'mean', 'median', np.std, 'min', 'max'],\n",
    "                                                                                     'average_submitted_chrg_amt':['sum', 'mean', 'median', np.std, 'min', 'max'],\n",
    "                                                                                     'average_medicare_payment_amt': ['sum', 'mean', 'median', np.std, 'min', 'max']})"
   ]
  },
  {
   "cell_type": "markdown",
   "metadata": {},
   "source": [
    "Flatten the multiindex to make it easier to work with."
   ]
  },
  {
   "cell_type": "code",
   "execution_count": 19,
   "metadata": {},
   "outputs": [],
   "source": [
    "partb_features.columns = ['_'.join(col) for col in partb_features.columns.values]"
   ]
  },
  {
   "cell_type": "markdown",
   "metadata": {},
   "source": [
    "Physicians who only performed and operation or perscribed one type of drug or procedure show as `null` values, we can replace these values with 0 because there is no variability. "
   ]
  },
  {
   "cell_type": "code",
   "execution_count": 20,
   "metadata": {},
   "outputs": [
    {
     "data": {
      "text/plain": [
       "line_srvc_cnt_sum                            0\n",
       "line_srvc_cnt_mean                           0\n",
       "line_srvc_cnt_median                         0\n",
       "line_srvc_cnt_std                       511388\n",
       "line_srvc_cnt_min                            0\n",
       "line_srvc_cnt_max                            0\n",
       "bene_unique_cnt_sum                          0\n",
       "bene_unique_cnt_mean                         0\n",
       "bene_unique_cnt_median                       0\n",
       "bene_unique_cnt_std                     511388\n",
       "bene_unique_cnt_min                          0\n",
       "bene_unique_cnt_max                          0\n",
       "bene_day_srvc_cnt_sum                        0\n",
       "bene_day_srvc_cnt_mean                       0\n",
       "bene_day_srvc_cnt_median                     0\n",
       "bene_day_srvc_cnt_std                   511388\n",
       "bene_day_srvc_cnt_min                        0\n",
       "bene_day_srvc_cnt_max                        0\n",
       "average_submitted_chrg_amt_sum               0\n",
       "average_submitted_chrg_amt_mean              0\n",
       "average_submitted_chrg_amt_median            0\n",
       "average_submitted_chrg_amt_std          511388\n",
       "average_submitted_chrg_amt_min               0\n",
       "average_submitted_chrg_amt_max               0\n",
       "average_medicare_payment_amt_sum             0\n",
       "average_medicare_payment_amt_mean      3756218\n",
       "average_medicare_payment_amt_median    3756218\n",
       "average_medicare_payment_amt_std       3857320\n",
       "average_medicare_payment_amt_min       3756218\n",
       "average_medicare_payment_amt_max       3756218\n",
       "dtype: int64"
      ]
     },
     "execution_count": 20,
     "metadata": {},
     "output_type": "execute_result"
    }
   ],
   "source": [
    "partb_features.isna().sum()"
   ]
  },
  {
   "cell_type": "code",
   "execution_count": 21,
   "metadata": {},
   "outputs": [],
   "source": [
    "#replacing NA with 0\n",
    "\n",
    "partb_features.fillna(0, inplace=True)"
   ]
  },
  {
   "cell_type": "code",
   "execution_count": 22,
   "metadata": {},
   "outputs": [],
   "source": [
    "partb_features = partb_features.reset_index(level=['npi', 'provider_type', 'nppes_provider_gender', 'DATA_YEAR'])"
   ]
  },
  {
   "cell_type": "markdown",
   "metadata": {},
   "source": [
    "# Part D dataset processing."
   ]
  },
  {
   "cell_type": "code",
   "execution_count": 23,
   "metadata": {},
   "outputs": [
    {
     "data": {
      "text/plain": [
       "Index(['npi', 'specialty_description', 'bene_count', 'total_claim_count',\n",
       "       'total_30_day_fill_count', 'total_day_supply', 'total_drug_cost',\n",
       "       'DATA_YEAR'],\n",
       "      dtype='object')"
      ]
     },
     "execution_count": 23,
     "metadata": {},
     "output_type": "execute_result"
    }
   ],
   "source": [
    "partd_features.columns"
   ]
  },
  {
   "cell_type": "markdown",
   "metadata": {},
   "source": [
    "Beneficiary counts were supressed to 0 if they were below 11, so we replace 0's with 5's as per CMS documentation."
   ]
  },
  {
   "cell_type": "code",
   "execution_count": 24,
   "metadata": {},
   "outputs": [],
   "source": [
    "partd_features.bene_count = partd_features.bene_count.replace(0,5)"
   ]
  },
  {
   "cell_type": "markdown",
   "metadata": {},
   "source": [
    "Aggregate over numerical columns."
   ]
  },
  {
   "cell_type": "code",
   "execution_count": 25,
   "metadata": {},
   "outputs": [],
   "source": [
    "partd_features = partd_features.groupby(['npi','specialty_description', 'DATA_YEAR']).agg({'bene_count':['sum', 'mean', 'median', np.std, 'min', 'max'],\n",
    "                                                     'total_claim_count':['sum', 'mean', 'median', np.std, 'min', 'max'],\n",
    "                                                     'total_30_day_fill_count':['sum', 'mean', 'median', np.std, 'min', 'max'],\n",
    "                                                     'total_day_supply':['sum', 'mean', 'median', np.std, 'min', 'max'],\n",
    "                                                     'total_drug_cost': ['sum', 'mean', 'median', np.std, 'min', 'max']})"
   ]
  },
  {
   "cell_type": "markdown",
   "metadata": {},
   "source": [
    "Flattening the multiindex!"
   ]
  },
  {
   "cell_type": "code",
   "execution_count": 26,
   "metadata": {},
   "outputs": [],
   "source": [
    "partd_features.columns = ['_'.join(col) for col in partd_features.columns.values]"
   ]
  },
  {
   "cell_type": "code",
   "execution_count": 27,
   "metadata": {},
   "outputs": [],
   "source": [
    "partd_features = partd_features.reset_index(level=['specialty_description', 'npi', 'DATA_YEAR'])"
   ]
  },
  {
   "cell_type": "code",
   "execution_count": 28,
   "metadata": {},
   "outputs": [
    {
     "data": {
      "text/html": [
       "<div>\n",
       "<style scoped>\n",
       "    .dataframe tbody tr th:only-of-type {\n",
       "        vertical-align: middle;\n",
       "    }\n",
       "\n",
       "    .dataframe tbody tr th {\n",
       "        vertical-align: top;\n",
       "    }\n",
       "\n",
       "    .dataframe thead th {\n",
       "        text-align: right;\n",
       "    }\n",
       "</style>\n",
       "<table border=\"1\" class=\"dataframe\">\n",
       "  <thead>\n",
       "    <tr style=\"text-align: right;\">\n",
       "      <th></th>\n",
       "      <th>npi</th>\n",
       "      <th>specialty_description</th>\n",
       "      <th>DATA_YEAR</th>\n",
       "      <th>bene_count_sum</th>\n",
       "      <th>bene_count_mean</th>\n",
       "      <th>bene_count_median</th>\n",
       "      <th>bene_count_std</th>\n",
       "      <th>bene_count_min</th>\n",
       "      <th>bene_count_max</th>\n",
       "      <th>total_claim_count_sum</th>\n",
       "      <th>...</th>\n",
       "      <th>total_day_supply_median</th>\n",
       "      <th>total_day_supply_std</th>\n",
       "      <th>total_day_supply_min</th>\n",
       "      <th>total_day_supply_max</th>\n",
       "      <th>total_drug_cost_sum</th>\n",
       "      <th>total_drug_cost_mean</th>\n",
       "      <th>total_drug_cost_median</th>\n",
       "      <th>total_drug_cost_std</th>\n",
       "      <th>total_drug_cost_min</th>\n",
       "      <th>total_drug_cost_max</th>\n",
       "    </tr>\n",
       "  </thead>\n",
       "  <tbody>\n",
       "    <tr>\n",
       "      <th>0</th>\n",
       "      <td>1003000126</td>\n",
       "      <td>Internal Medicine</td>\n",
       "      <td>2014</td>\n",
       "      <td>305.0</td>\n",
       "      <td>21.785714</td>\n",
       "      <td>15.0</td>\n",
       "      <td>13.857398</td>\n",
       "      <td>11.0</td>\n",
       "      <td>57.0</td>\n",
       "      <td>373</td>\n",
       "      <td>...</td>\n",
       "      <td>405.0</td>\n",
       "      <td>382.344871</td>\n",
       "      <td>74</td>\n",
       "      <td>1575</td>\n",
       "      <td>10925.94</td>\n",
       "      <td>682.871250</td>\n",
       "      <td>158.200</td>\n",
       "      <td>1941.345444</td>\n",
       "      <td>55.24</td>\n",
       "      <td>7945.26</td>\n",
       "    </tr>\n",
       "    <tr>\n",
       "      <th>1</th>\n",
       "      <td>1003000126</td>\n",
       "      <td>Internal Medicine</td>\n",
       "      <td>2015</td>\n",
       "      <td>355.0</td>\n",
       "      <td>22.187500</td>\n",
       "      <td>16.5</td>\n",
       "      <td>13.049745</td>\n",
       "      <td>11.0</td>\n",
       "      <td>55.0</td>\n",
       "      <td>546</td>\n",
       "      <td>...</td>\n",
       "      <td>390.0</td>\n",
       "      <td>614.288001</td>\n",
       "      <td>87</td>\n",
       "      <td>2415</td>\n",
       "      <td>16355.02</td>\n",
       "      <td>778.810476</td>\n",
       "      <td>200.050</td>\n",
       "      <td>1953.686152</td>\n",
       "      <td>29.97</td>\n",
       "      <td>8723.13</td>\n",
       "    </tr>\n",
       "    <tr>\n",
       "      <th>2</th>\n",
       "      <td>1003000126</td>\n",
       "      <td>Internal Medicine</td>\n",
       "      <td>2016</td>\n",
       "      <td>142.0</td>\n",
       "      <td>15.777778</td>\n",
       "      <td>14.0</td>\n",
       "      <td>4.763869</td>\n",
       "      <td>11.0</td>\n",
       "      <td>26.0</td>\n",
       "      <td>310</td>\n",
       "      <td>...</td>\n",
       "      <td>420.0</td>\n",
       "      <td>348.403051</td>\n",
       "      <td>96</td>\n",
       "      <td>1050</td>\n",
       "      <td>20655.60</td>\n",
       "      <td>1377.040000</td>\n",
       "      <td>169.480</td>\n",
       "      <td>3335.122401</td>\n",
       "      <td>45.76</td>\n",
       "      <td>12110.20</td>\n",
       "    </tr>\n",
       "    <tr>\n",
       "      <th>3</th>\n",
       "      <td>1003000126</td>\n",
       "      <td>Internal Medicine</td>\n",
       "      <td>2017</td>\n",
       "      <td>232.0</td>\n",
       "      <td>19.333333</td>\n",
       "      <td>16.5</td>\n",
       "      <td>8.978088</td>\n",
       "      <td>11.0</td>\n",
       "      <td>35.0</td>\n",
       "      <td>385</td>\n",
       "      <td>...</td>\n",
       "      <td>385.0</td>\n",
       "      <td>421.564502</td>\n",
       "      <td>65</td>\n",
       "      <td>1530</td>\n",
       "      <td>12374.60</td>\n",
       "      <td>773.412500</td>\n",
       "      <td>183.295</td>\n",
       "      <td>2284.669976</td>\n",
       "      <td>43.88</td>\n",
       "      <td>9326.11</td>\n",
       "    </tr>\n",
       "    <tr>\n",
       "      <th>4</th>\n",
       "      <td>1003000126</td>\n",
       "      <td>Internal Medicine</td>\n",
       "      <td>2018</td>\n",
       "      <td>143.0</td>\n",
       "      <td>15.888889</td>\n",
       "      <td>14.0</td>\n",
       "      <td>5.754226</td>\n",
       "      <td>11.0</td>\n",
       "      <td>28.0</td>\n",
       "      <td>252</td>\n",
       "      <td>...</td>\n",
       "      <td>391.0</td>\n",
       "      <td>282.534915</td>\n",
       "      <td>64</td>\n",
       "      <td>885</td>\n",
       "      <td>8174.86</td>\n",
       "      <td>583.918571</td>\n",
       "      <td>131.855</td>\n",
       "      <td>1701.559376</td>\n",
       "      <td>39.02</td>\n",
       "      <td>6494.22</td>\n",
       "    </tr>\n",
       "    <tr>\n",
       "      <th>...</th>\n",
       "      <td>...</td>\n",
       "      <td>...</td>\n",
       "      <td>...</td>\n",
       "      <td>...</td>\n",
       "      <td>...</td>\n",
       "      <td>...</td>\n",
       "      <td>...</td>\n",
       "      <td>...</td>\n",
       "      <td>...</td>\n",
       "      <td>...</td>\n",
       "      <td>...</td>\n",
       "      <td>...</td>\n",
       "      <td>...</td>\n",
       "      <td>...</td>\n",
       "      <td>...</td>\n",
       "      <td>...</td>\n",
       "      <td>...</td>\n",
       "      <td>...</td>\n",
       "      <td>...</td>\n",
       "      <td>...</td>\n",
       "      <td>...</td>\n",
       "    </tr>\n",
       "    <tr>\n",
       "      <th>4468640</th>\n",
       "      <td>1992999874</td>\n",
       "      <td>Internal Medicine</td>\n",
       "      <td>2014</td>\n",
       "      <td>12.0</td>\n",
       "      <td>12.000000</td>\n",
       "      <td>12.0</td>\n",
       "      <td>NaN</td>\n",
       "      <td>12.0</td>\n",
       "      <td>12.0</td>\n",
       "      <td>12</td>\n",
       "      <td>...</td>\n",
       "      <td>131.0</td>\n",
       "      <td>NaN</td>\n",
       "      <td>131</td>\n",
       "      <td>131</td>\n",
       "      <td>97.53</td>\n",
       "      <td>97.530000</td>\n",
       "      <td>97.530</td>\n",
       "      <td>NaN</td>\n",
       "      <td>97.53</td>\n",
       "      <td>97.53</td>\n",
       "    </tr>\n",
       "    <tr>\n",
       "      <th>4468641</th>\n",
       "      <td>1992999874</td>\n",
       "      <td>Internal Medicine</td>\n",
       "      <td>2015</td>\n",
       "      <td>51.0</td>\n",
       "      <td>17.000000</td>\n",
       "      <td>18.0</td>\n",
       "      <td>5.567764</td>\n",
       "      <td>11.0</td>\n",
       "      <td>22.0</td>\n",
       "      <td>52</td>\n",
       "      <td>...</td>\n",
       "      <td>247.0</td>\n",
       "      <td>123.313962</td>\n",
       "      <td>100</td>\n",
       "      <td>345</td>\n",
       "      <td>313.22</td>\n",
       "      <td>104.406667</td>\n",
       "      <td>118.520</td>\n",
       "      <td>55.853734</td>\n",
       "      <td>42.85</td>\n",
       "      <td>151.85</td>\n",
       "    </tr>\n",
       "    <tr>\n",
       "      <th>4468642</th>\n",
       "      <td>1992999874</td>\n",
       "      <td>Internal Medicine</td>\n",
       "      <td>2016</td>\n",
       "      <td>31.0</td>\n",
       "      <td>15.500000</td>\n",
       "      <td>15.5</td>\n",
       "      <td>3.535534</td>\n",
       "      <td>13.0</td>\n",
       "      <td>18.0</td>\n",
       "      <td>31</td>\n",
       "      <td>...</td>\n",
       "      <td>139.0</td>\n",
       "      <td>59.396970</td>\n",
       "      <td>97</td>\n",
       "      <td>181</td>\n",
       "      <td>325.50</td>\n",
       "      <td>162.750000</td>\n",
       "      <td>162.750</td>\n",
       "      <td>116.460487</td>\n",
       "      <td>80.40</td>\n",
       "      <td>245.10</td>\n",
       "    </tr>\n",
       "    <tr>\n",
       "      <th>4468643</th>\n",
       "      <td>1992999882</td>\n",
       "      <td>Physician Assistant</td>\n",
       "      <td>2016</td>\n",
       "      <td>83.0</td>\n",
       "      <td>13.833333</td>\n",
       "      <td>12.5</td>\n",
       "      <td>3.544949</td>\n",
       "      <td>11.0</td>\n",
       "      <td>20.0</td>\n",
       "      <td>216</td>\n",
       "      <td>...</td>\n",
       "      <td>443.0</td>\n",
       "      <td>205.053042</td>\n",
       "      <td>316</td>\n",
       "      <td>1037</td>\n",
       "      <td>1961.22</td>\n",
       "      <td>163.435000</td>\n",
       "      <td>170.265</td>\n",
       "      <td>95.267921</td>\n",
       "      <td>39.24</td>\n",
       "      <td>360.38</td>\n",
       "    </tr>\n",
       "    <tr>\n",
       "      <th>4468644</th>\n",
       "      <td>1992999882</td>\n",
       "      <td>Physician Assistant</td>\n",
       "      <td>2017</td>\n",
       "      <td>13.0</td>\n",
       "      <td>13.000000</td>\n",
       "      <td>13.0</td>\n",
       "      <td>NaN</td>\n",
       "      <td>13.0</td>\n",
       "      <td>13.0</td>\n",
       "      <td>91</td>\n",
       "      <td>...</td>\n",
       "      <td>435.5</td>\n",
       "      <td>111.284620</td>\n",
       "      <td>330</td>\n",
       "      <td>570</td>\n",
       "      <td>619.92</td>\n",
       "      <td>103.320000</td>\n",
       "      <td>103.020</td>\n",
       "      <td>18.686136</td>\n",
       "      <td>75.12</td>\n",
       "      <td>126.04</td>\n",
       "    </tr>\n",
       "  </tbody>\n",
       "</table>\n",
       "<p>4468645 rows × 33 columns</p>\n",
       "</div>"
      ],
      "text/plain": [
       "                npi specialty_description  DATA_YEAR  bene_count_sum  \\\n",
       "0        1003000126     Internal Medicine       2014           305.0   \n",
       "1        1003000126     Internal Medicine       2015           355.0   \n",
       "2        1003000126     Internal Medicine       2016           142.0   \n",
       "3        1003000126     Internal Medicine       2017           232.0   \n",
       "4        1003000126     Internal Medicine       2018           143.0   \n",
       "...             ...                   ...        ...             ...   \n",
       "4468640  1992999874     Internal Medicine       2014            12.0   \n",
       "4468641  1992999874     Internal Medicine       2015            51.0   \n",
       "4468642  1992999874     Internal Medicine       2016            31.0   \n",
       "4468643  1992999882   Physician Assistant       2016            83.0   \n",
       "4468644  1992999882   Physician Assistant       2017            13.0   \n",
       "\n",
       "         bene_count_mean  bene_count_median  bene_count_std  bene_count_min  \\\n",
       "0              21.785714               15.0       13.857398            11.0   \n",
       "1              22.187500               16.5       13.049745            11.0   \n",
       "2              15.777778               14.0        4.763869            11.0   \n",
       "3              19.333333               16.5        8.978088            11.0   \n",
       "4              15.888889               14.0        5.754226            11.0   \n",
       "...                  ...                ...             ...             ...   \n",
       "4468640        12.000000               12.0             NaN            12.0   \n",
       "4468641        17.000000               18.0        5.567764            11.0   \n",
       "4468642        15.500000               15.5        3.535534            13.0   \n",
       "4468643        13.833333               12.5        3.544949            11.0   \n",
       "4468644        13.000000               13.0             NaN            13.0   \n",
       "\n",
       "         bene_count_max  total_claim_count_sum  ...  total_day_supply_median  \\\n",
       "0                  57.0                    373  ...                    405.0   \n",
       "1                  55.0                    546  ...                    390.0   \n",
       "2                  26.0                    310  ...                    420.0   \n",
       "3                  35.0                    385  ...                    385.0   \n",
       "4                  28.0                    252  ...                    391.0   \n",
       "...                 ...                    ...  ...                      ...   \n",
       "4468640            12.0                     12  ...                    131.0   \n",
       "4468641            22.0                     52  ...                    247.0   \n",
       "4468642            18.0                     31  ...                    139.0   \n",
       "4468643            20.0                    216  ...                    443.0   \n",
       "4468644            13.0                     91  ...                    435.5   \n",
       "\n",
       "         total_day_supply_std  total_day_supply_min  total_day_supply_max  \\\n",
       "0                  382.344871                    74                  1575   \n",
       "1                  614.288001                    87                  2415   \n",
       "2                  348.403051                    96                  1050   \n",
       "3                  421.564502                    65                  1530   \n",
       "4                  282.534915                    64                   885   \n",
       "...                       ...                   ...                   ...   \n",
       "4468640                   NaN                   131                   131   \n",
       "4468641            123.313962                   100                   345   \n",
       "4468642             59.396970                    97                   181   \n",
       "4468643            205.053042                   316                  1037   \n",
       "4468644            111.284620                   330                   570   \n",
       "\n",
       "         total_drug_cost_sum  total_drug_cost_mean  total_drug_cost_median  \\\n",
       "0                   10925.94            682.871250                 158.200   \n",
       "1                   16355.02            778.810476                 200.050   \n",
       "2                   20655.60           1377.040000                 169.480   \n",
       "3                   12374.60            773.412500                 183.295   \n",
       "4                    8174.86            583.918571                 131.855   \n",
       "...                      ...                   ...                     ...   \n",
       "4468640                97.53             97.530000                  97.530   \n",
       "4468641               313.22            104.406667                 118.520   \n",
       "4468642               325.50            162.750000                 162.750   \n",
       "4468643              1961.22            163.435000                 170.265   \n",
       "4468644               619.92            103.320000                 103.020   \n",
       "\n",
       "         total_drug_cost_std  total_drug_cost_min  total_drug_cost_max  \n",
       "0                1941.345444                55.24              7945.26  \n",
       "1                1953.686152                29.97              8723.13  \n",
       "2                3335.122401                45.76             12110.20  \n",
       "3                2284.669976                43.88              9326.11  \n",
       "4                1701.559376                39.02              6494.22  \n",
       "...                      ...                  ...                  ...  \n",
       "4468640                  NaN                97.53                97.53  \n",
       "4468641            55.853734                42.85               151.85  \n",
       "4468642           116.460487                80.40               245.10  \n",
       "4468643            95.267921                39.24               360.38  \n",
       "4468644            18.686136                75.12               126.04  \n",
       "\n",
       "[4468645 rows x 33 columns]"
      ]
     },
     "execution_count": 28,
     "metadata": {},
     "output_type": "execute_result"
    }
   ],
   "source": [
    "partd_features"
   ]
  },
  {
   "cell_type": "markdown",
   "metadata": {},
   "source": [
    "# DMEPOS dataset processing."
   ]
  },
  {
   "cell_type": "code",
   "execution_count": 29,
   "metadata": {},
   "outputs": [
    {
     "data": {
      "text/plain": [
       "Index(['npi', 'REFERRING_PROVIDER_TYPE', 'REFERRING_PROVIDER_GENDER',\n",
       "       'NUMBER_OF_SUPPLIERS', 'NUMBER_OF_SUPPLIER_BENEFICIARIES',\n",
       "       'NUMBER_OF_SUPPLIER_CLAIMS', 'NUMBER_OF_SUPPLIER_SERVICES',\n",
       "       'AVG_SUPPLIER_SUBMITTED_CHARGE', 'AVG_SUPPLIER_MEDICARE_PMT_AMT',\n",
       "       'DATA_YEAR'],\n",
       "      dtype='object')"
      ]
     },
     "execution_count": 29,
     "metadata": {},
     "output_type": "execute_result"
    }
   ],
   "source": [
    "dmepos_features.columns"
   ]
  },
  {
   "cell_type": "markdown",
   "metadata": {},
   "source": [
    "Beneficiary counts were supressed to 0 if they were below 11, so we replace 0's with 5's as per CMS documentation."
   ]
  },
  {
   "cell_type": "code",
   "execution_count": 30,
   "metadata": {},
   "outputs": [],
   "source": [
    "dmepos_features.NUMBER_OF_SUPPLIER_BENEFICIARIES = dmepos_features.NUMBER_OF_SUPPLIER_BENEFICIARIES.replace(0,5)"
   ]
  },
  {
   "cell_type": "code",
   "execution_count": 31,
   "metadata": {},
   "outputs": [],
   "source": [
    "dmepos_features = dmepos_features.groupby(['npi','REFERRING_PROVIDER_TYPE', \n",
    "                         'REFERRING_PROVIDER_GENDER', 'DATA_YEAR']).agg({'NUMBER_OF_SUPPLIERS':['sum', 'mean', 'median', np.std, 'min', 'max'],\n",
    "                                                                 'NUMBER_OF_SUPPLIER_BENEFICIARIES':['sum', 'mean', 'median', np.std, 'min', 'max'],\n",
    "                                                                 'NUMBER_OF_SUPPLIER_CLAIMS':['sum', 'mean', 'median', np.std, 'min', 'max'],\n",
    "                                                                 'NUMBER_OF_SUPPLIER_SERVICES':['sum', 'mean', 'median', np.std, 'min', 'max'],\n",
    "                                                                 'AVG_SUPPLIER_MEDICARE_PMT_AMT':['sum', 'mean', 'median', np.std, 'min', 'max'],\n",
    "                                                                 'AVG_SUPPLIER_SUBMITTED_CHARGE': ['sum', 'mean', 'median', np.std, 'min', 'max']})"
   ]
  },
  {
   "cell_type": "markdown",
   "metadata": {},
   "source": [
    "Flattening the multiindex!"
   ]
  },
  {
   "cell_type": "code",
   "execution_count": 32,
   "metadata": {},
   "outputs": [],
   "source": [
    "dmepos_features.columns = ['_'.join(col) for col in dmepos_features.columns.values]"
   ]
  },
  {
   "cell_type": "code",
   "execution_count": 33,
   "metadata": {},
   "outputs": [],
   "source": [
    "dmepos_features = dmepos_features.reset_index(level=['REFERRING_PROVIDER_TYPE', 'npi', 'DATA_YEAR', 'REFERRING_PROVIDER_GENDER'])"
   ]
  },
  {
   "cell_type": "markdown",
   "metadata": {},
   "source": [
    "# Merge all the combined yearly data on with `LEIE` on NPI"
   ]
  },
  {
   "cell_type": "code",
   "execution_count": 34,
   "metadata": {},
   "outputs": [],
   "source": [
    "partb = pd.merge(filtered_leie, partb_features, on='npi', how='outer')\n",
    "partd = pd.merge(filtered_leie, partd_features, on='npi', how='outer')\n",
    "dmepos = pd.merge(filtered_leie, dmepos_features, on='npi', how='outer')"
   ]
  },
  {
   "cell_type": "code",
   "execution_count": 35,
   "metadata": {},
   "outputs": [],
   "source": [
    "partb = partb[['npi', 'provider_type', 'DATA_YEAR', 'nppes_provider_gender', 'line_srvc_cnt_sum',\n",
    "       'line_srvc_cnt_mean', 'line_srvc_cnt_median', 'line_srvc_cnt_std',\n",
    "       'line_srvc_cnt_min', 'line_srvc_cnt_max', 'bene_unique_cnt_sum',\n",
    "       'bene_unique_cnt_mean', 'bene_unique_cnt_median', 'bene_unique_cnt_std',\n",
    "       'bene_unique_cnt_min', 'bene_unique_cnt_max', 'bene_day_srvc_cnt_sum',\n",
    "       'bene_day_srvc_cnt_mean', 'bene_day_srvc_cnt_median',\n",
    "       'bene_day_srvc_cnt_std', 'bene_day_srvc_cnt_min',\n",
    "       'bene_day_srvc_cnt_max', 'average_submitted_chrg_amt_sum',\n",
    "       'average_submitted_chrg_amt_mean', 'average_submitted_chrg_amt_median',\n",
    "       'average_submitted_chrg_amt_std', 'average_submitted_chrg_amt_min',\n",
    "       'average_submitted_chrg_amt_max', 'average_medicare_payment_amt_sum',\n",
    "       'average_medicare_payment_amt_mean',\n",
    "       'average_medicare_payment_amt_median',\n",
    "       'average_medicare_payment_amt_std', 'average_medicare_payment_amt_min',\n",
    "       'average_medicare_payment_amt_max', 'EXCLTYPE',\n",
    "       'EXCLDATE', 'REINDATE', 'WAIVERDATE', 'WVRSTATE',\n",
    "       'MIN_EXCLUSION_PERIOD', 'END_EXCLDATE']]"
   ]
  },
  {
   "cell_type": "code",
   "execution_count": 36,
   "metadata": {},
   "outputs": [],
   "source": [
    "partd = partd[['npi', 'specialty_description', 'DATA_YEAR', 'bene_count_sum', 'bene_count_mean', 'bene_count_median',\n",
    "       'bene_count_std', 'bene_count_min', 'bene_count_max',\n",
    "       'total_claim_count_sum', 'total_claim_count_mean',\n",
    "       'total_claim_count_median', 'total_claim_count_std',\n",
    "       'total_claim_count_min', 'total_claim_count_max',\n",
    "       'total_30_day_fill_count_sum', 'total_30_day_fill_count_mean',\n",
    "       'total_30_day_fill_count_median', 'total_30_day_fill_count_std',\n",
    "       'total_30_day_fill_count_min', 'total_30_day_fill_count_max',\n",
    "       'total_day_supply_sum', 'total_day_supply_mean',\n",
    "       'total_day_supply_median', 'total_day_supply_std',\n",
    "       'total_day_supply_min', 'total_day_supply_max', 'total_drug_cost_sum',\n",
    "       'total_drug_cost_mean', 'total_drug_cost_median', 'total_drug_cost_std',\n",
    "       'total_drug_cost_min', 'total_drug_cost_max', 'EXCLTYPE',\n",
    "       'EXCLDATE', 'REINDATE', 'WAIVERDATE', 'WVRSTATE',\n",
    "       'MIN_EXCLUSION_PERIOD', 'END_EXCLDATE']]"
   ]
  },
  {
   "cell_type": "code",
   "execution_count": 37,
   "metadata": {},
   "outputs": [],
   "source": [
    "dmepos = dmepos[['npi','EXCLTYPE',\n",
    "       'EXCLDATE', 'REINDATE', 'WAIVERDATE', 'WVRSTATE',\n",
    "       'MIN_EXCLUSION_PERIOD', 'END_EXCLDATE', 'REFERRING_PROVIDER_TYPE',\n",
    "       'REFERRING_PROVIDER_GENDER', 'DATA_YEAR', 'NUMBER_OF_SUPPLIERS_sum',\n",
    "       'NUMBER_OF_SUPPLIERS_mean', 'NUMBER_OF_SUPPLIERS_median',\n",
    "       'NUMBER_OF_SUPPLIERS_std', 'NUMBER_OF_SUPPLIERS_min',\n",
    "       'NUMBER_OF_SUPPLIERS_max', 'NUMBER_OF_SUPPLIER_BENEFICIARIES_sum',\n",
    "       'NUMBER_OF_SUPPLIER_BENEFICIARIES_mean',\n",
    "       'NUMBER_OF_SUPPLIER_BENEFICIARIES_median',\n",
    "       'NUMBER_OF_SUPPLIER_BENEFICIARIES_std',\n",
    "       'NUMBER_OF_SUPPLIER_BENEFICIARIES_min',\n",
    "       'NUMBER_OF_SUPPLIER_BENEFICIARIES_max', 'NUMBER_OF_SUPPLIER_CLAIMS_sum',\n",
    "       'NUMBER_OF_SUPPLIER_CLAIMS_mean', 'NUMBER_OF_SUPPLIER_CLAIMS_median',\n",
    "       'NUMBER_OF_SUPPLIER_CLAIMS_std', 'NUMBER_OF_SUPPLIER_CLAIMS_min',\n",
    "       'NUMBER_OF_SUPPLIER_CLAIMS_max', 'NUMBER_OF_SUPPLIER_SERVICES_sum',\n",
    "       'NUMBER_OF_SUPPLIER_SERVICES_mean',\n",
    "       'NUMBER_OF_SUPPLIER_SERVICES_median', 'NUMBER_OF_SUPPLIER_SERVICES_std',\n",
    "       'NUMBER_OF_SUPPLIER_SERVICES_min', 'NUMBER_OF_SUPPLIER_SERVICES_max',\n",
    "       'AVG_SUPPLIER_MEDICARE_PMT_AMT_sum',\n",
    "       'AVG_SUPPLIER_MEDICARE_PMT_AMT_mean',\n",
    "       'AVG_SUPPLIER_MEDICARE_PMT_AMT_median',\n",
    "       'AVG_SUPPLIER_MEDICARE_PMT_AMT_std',\n",
    "       'AVG_SUPPLIER_MEDICARE_PMT_AMT_min',\n",
    "       'AVG_SUPPLIER_MEDICARE_PMT_AMT_max',\n",
    "       'AVG_SUPPLIER_SUBMITTED_CHARGE_sum',\n",
    "       'AVG_SUPPLIER_SUBMITTED_CHARGE_mean',\n",
    "       'AVG_SUPPLIER_SUBMITTED_CHARGE_median',\n",
    "       'AVG_SUPPLIER_SUBMITTED_CHARGE_std',\n",
    "       'AVG_SUPPLIER_SUBMITTED_CHARGE_min',\n",
    "       'AVG_SUPPLIER_SUBMITTED_CHARGE_max']]"
   ]
  },
  {
   "cell_type": "markdown",
   "metadata": {},
   "source": [
    "### Remove all rows without npi or provider info."
   ]
  },
  {
   "cell_type": "code",
   "execution_count": 38,
   "metadata": {},
   "outputs": [],
   "source": [
    "partb = partb[(partb.npi != 0) & (partb.provider_type)]\n",
    "partd = partd[(partd.npi != 0) & (partd.specialty_description)]\n",
    "dmepos = dmepos[(dmepos.npi != 0) & (dmepos.REFERRING_PROVIDER_TYPE)]"
   ]
  },
  {
   "cell_type": "markdown",
   "metadata": {},
   "source": [
    "# Add Labels to each dataset"
   ]
  },
  {
   "cell_type": "markdown",
   "metadata": {},
   "source": [
    "Add the target column"
   ]
  },
  {
   "cell_type": "code",
   "execution_count": 39,
   "metadata": {},
   "outputs": [],
   "source": [
    "partb['TARGET'] = '0'\n",
    "partd['TARGET'] = '0'\n",
    "dmepos['TARGET'] = '0'"
   ]
  },
  {
   "cell_type": "markdown",
   "metadata": {},
   "source": [
    "Extract the exclusion year into it's own column -- we will compare this to the data collection year then set the label as `FRAUD` or `NOT_FRAUD`."
   ]
  },
  {
   "cell_type": "code",
   "execution_count": 40,
   "metadata": {},
   "outputs": [],
   "source": [
    "partb['START_EXCLDATE'] = partb['EXCLDATE'].dt.year\n",
    "partd['START_EXCLDATE'] = partd['EXCLDATE'].dt.year\n",
    "dmepos['START_EXCLDATE'] = dmepos['EXCLDATE'].dt.year"
   ]
  },
  {
   "cell_type": "code",
   "execution_count": 41,
   "metadata": {},
   "outputs": [
    {
     "data": {
      "text/html": [
       "<div>\n",
       "<style scoped>\n",
       "    .dataframe tbody tr th:only-of-type {\n",
       "        vertical-align: middle;\n",
       "    }\n",
       "\n",
       "    .dataframe tbody tr th {\n",
       "        vertical-align: top;\n",
       "    }\n",
       "\n",
       "    .dataframe thead th {\n",
       "        text-align: right;\n",
       "    }\n",
       "</style>\n",
       "<table border=\"1\" class=\"dataframe\">\n",
       "  <thead>\n",
       "    <tr style=\"text-align: right;\">\n",
       "      <th></th>\n",
       "      <th>npi</th>\n",
       "      <th>provider_type</th>\n",
       "      <th>DATA_YEAR</th>\n",
       "      <th>nppes_provider_gender</th>\n",
       "      <th>line_srvc_cnt_sum</th>\n",
       "      <th>line_srvc_cnt_mean</th>\n",
       "      <th>line_srvc_cnt_median</th>\n",
       "      <th>line_srvc_cnt_std</th>\n",
       "      <th>line_srvc_cnt_min</th>\n",
       "      <th>line_srvc_cnt_max</th>\n",
       "      <th>...</th>\n",
       "      <th>average_medicare_payment_amt_max</th>\n",
       "      <th>EXCLTYPE</th>\n",
       "      <th>EXCLDATE</th>\n",
       "      <th>REINDATE</th>\n",
       "      <th>WAIVERDATE</th>\n",
       "      <th>WVRSTATE</th>\n",
       "      <th>MIN_EXCLUSION_PERIOD</th>\n",
       "      <th>END_EXCLDATE</th>\n",
       "      <th>TARGET</th>\n",
       "      <th>START_EXCLDATE</th>\n",
       "    </tr>\n",
       "  </thead>\n",
       "  <tbody>\n",
       "    <tr>\n",
       "      <th>60893</th>\n",
       "      <td>1124292966</td>\n",
       "      <td>Rheumatology</td>\n",
       "      <td>2014.0</td>\n",
       "      <td>M</td>\n",
       "      <td>1087.0</td>\n",
       "      <td>135.875000</td>\n",
       "      <td>60.5</td>\n",
       "      <td>139.114996</td>\n",
       "      <td>15.0</td>\n",
       "      <td>364.0</td>\n",
       "      <td>...</td>\n",
       "      <td>0.000000</td>\n",
       "      <td>1128a1</td>\n",
       "      <td>2020-06-18</td>\n",
       "      <td>NaT</td>\n",
       "      <td>NaT</td>\n",
       "      <td>NaN</td>\n",
       "      <td>5.0</td>\n",
       "      <td>2025.0</td>\n",
       "      <td>0</td>\n",
       "      <td>2020.0</td>\n",
       "    </tr>\n",
       "    <tr>\n",
       "      <th>60894</th>\n",
       "      <td>1124292966</td>\n",
       "      <td>Rheumatology</td>\n",
       "      <td>2015.0</td>\n",
       "      <td>M</td>\n",
       "      <td>1612.0</td>\n",
       "      <td>268.666667</td>\n",
       "      <td>204.5</td>\n",
       "      <td>259.229371</td>\n",
       "      <td>24.0</td>\n",
       "      <td>720.0</td>\n",
       "      <td>...</td>\n",
       "      <td>0.000000</td>\n",
       "      <td>1128a1</td>\n",
       "      <td>2020-06-18</td>\n",
       "      <td>NaT</td>\n",
       "      <td>NaT</td>\n",
       "      <td>NaN</td>\n",
       "      <td>5.0</td>\n",
       "      <td>2025.0</td>\n",
       "      <td>0</td>\n",
       "      <td>2020.0</td>\n",
       "    </tr>\n",
       "    <tr>\n",
       "      <th>60895</th>\n",
       "      <td>1124292966</td>\n",
       "      <td>Rheumatology</td>\n",
       "      <td>2016.0</td>\n",
       "      <td>M</td>\n",
       "      <td>1943.0</td>\n",
       "      <td>242.875000</td>\n",
       "      <td>109.0</td>\n",
       "      <td>250.453553</td>\n",
       "      <td>25.0</td>\n",
       "      <td>684.0</td>\n",
       "      <td>...</td>\n",
       "      <td>159.164286</td>\n",
       "      <td>1128a1</td>\n",
       "      <td>2020-06-18</td>\n",
       "      <td>NaT</td>\n",
       "      <td>NaT</td>\n",
       "      <td>NaN</td>\n",
       "      <td>5.0</td>\n",
       "      <td>2025.0</td>\n",
       "      <td>0</td>\n",
       "      <td>2020.0</td>\n",
       "    </tr>\n",
       "    <tr>\n",
       "      <th>60896</th>\n",
       "      <td>1124292966</td>\n",
       "      <td>Rheumatology</td>\n",
       "      <td>2017.0</td>\n",
       "      <td>M</td>\n",
       "      <td>1805.0</td>\n",
       "      <td>225.625000</td>\n",
       "      <td>167.0</td>\n",
       "      <td>197.418292</td>\n",
       "      <td>33.0</td>\n",
       "      <td>464.0</td>\n",
       "      <td>...</td>\n",
       "      <td>0.000000</td>\n",
       "      <td>1128a1</td>\n",
       "      <td>2020-06-18</td>\n",
       "      <td>NaT</td>\n",
       "      <td>NaT</td>\n",
       "      <td>NaN</td>\n",
       "      <td>5.0</td>\n",
       "      <td>2025.0</td>\n",
       "      <td>0</td>\n",
       "      <td>2020.0</td>\n",
       "    </tr>\n",
       "    <tr>\n",
       "      <th>60897</th>\n",
       "      <td>1124292966</td>\n",
       "      <td>Rheumatology</td>\n",
       "      <td>2018.0</td>\n",
       "      <td>M</td>\n",
       "      <td>1367.0</td>\n",
       "      <td>151.888889</td>\n",
       "      <td>74.0</td>\n",
       "      <td>164.602889</td>\n",
       "      <td>12.0</td>\n",
       "      <td>439.0</td>\n",
       "      <td>...</td>\n",
       "      <td>0.000000</td>\n",
       "      <td>1128a1</td>\n",
       "      <td>2020-06-18</td>\n",
       "      <td>NaT</td>\n",
       "      <td>NaT</td>\n",
       "      <td>NaN</td>\n",
       "      <td>5.0</td>\n",
       "      <td>2025.0</td>\n",
       "      <td>0</td>\n",
       "      <td>2020.0</td>\n",
       "    </tr>\n",
       "    <tr>\n",
       "      <th>...</th>\n",
       "      <td>...</td>\n",
       "      <td>...</td>\n",
       "      <td>...</td>\n",
       "      <td>...</td>\n",
       "      <td>...</td>\n",
       "      <td>...</td>\n",
       "      <td>...</td>\n",
       "      <td>...</td>\n",
       "      <td>...</td>\n",
       "      <td>...</td>\n",
       "      <td>...</td>\n",
       "      <td>...</td>\n",
       "      <td>...</td>\n",
       "      <td>...</td>\n",
       "      <td>...</td>\n",
       "      <td>...</td>\n",
       "      <td>...</td>\n",
       "      <td>...</td>\n",
       "      <td>...</td>\n",
       "      <td>...</td>\n",
       "      <td>...</td>\n",
       "    </tr>\n",
       "    <tr>\n",
       "      <th>4759707</th>\n",
       "      <td>1992999825</td>\n",
       "      <td>Otolaryngology</td>\n",
       "      <td>2018.0</td>\n",
       "      <td>M</td>\n",
       "      <td>779.0</td>\n",
       "      <td>59.923077</td>\n",
       "      <td>51.0</td>\n",
       "      <td>55.562970</td>\n",
       "      <td>13.0</td>\n",
       "      <td>210.0</td>\n",
       "      <td>...</td>\n",
       "      <td>0.000000</td>\n",
       "      <td>NaN</td>\n",
       "      <td>NaT</td>\n",
       "      <td>NaT</td>\n",
       "      <td>NaT</td>\n",
       "      <td>NaN</td>\n",
       "      <td>NaN</td>\n",
       "      <td>NaN</td>\n",
       "      <td>0</td>\n",
       "      <td>NaN</td>\n",
       "    </tr>\n",
       "    <tr>\n",
       "      <th>4759708</th>\n",
       "      <td>1992999874</td>\n",
       "      <td>Internal Medicine</td>\n",
       "      <td>2014.0</td>\n",
       "      <td>F</td>\n",
       "      <td>1153.0</td>\n",
       "      <td>192.166667</td>\n",
       "      <td>151.5</td>\n",
       "      <td>178.371990</td>\n",
       "      <td>16.0</td>\n",
       "      <td>425.0</td>\n",
       "      <td>...</td>\n",
       "      <td>0.000000</td>\n",
       "      <td>NaN</td>\n",
       "      <td>NaT</td>\n",
       "      <td>NaT</td>\n",
       "      <td>NaT</td>\n",
       "      <td>NaN</td>\n",
       "      <td>NaN</td>\n",
       "      <td>NaN</td>\n",
       "      <td>0</td>\n",
       "      <td>NaN</td>\n",
       "    </tr>\n",
       "    <tr>\n",
       "      <th>4759709</th>\n",
       "      <td>1992999874</td>\n",
       "      <td>Internal Medicine</td>\n",
       "      <td>2015.0</td>\n",
       "      <td>F</td>\n",
       "      <td>971.0</td>\n",
       "      <td>161.833333</td>\n",
       "      <td>149.0</td>\n",
       "      <td>130.537989</td>\n",
       "      <td>21.0</td>\n",
       "      <td>334.0</td>\n",
       "      <td>...</td>\n",
       "      <td>0.000000</td>\n",
       "      <td>NaN</td>\n",
       "      <td>NaT</td>\n",
       "      <td>NaT</td>\n",
       "      <td>NaT</td>\n",
       "      <td>NaN</td>\n",
       "      <td>NaN</td>\n",
       "      <td>NaN</td>\n",
       "      <td>0</td>\n",
       "      <td>NaN</td>\n",
       "    </tr>\n",
       "    <tr>\n",
       "      <th>4759710</th>\n",
       "      <td>1992999874</td>\n",
       "      <td>Internal Medicine</td>\n",
       "      <td>2016.0</td>\n",
       "      <td>F</td>\n",
       "      <td>984.0</td>\n",
       "      <td>140.571429</td>\n",
       "      <td>138.0</td>\n",
       "      <td>135.804832</td>\n",
       "      <td>13.0</td>\n",
       "      <td>323.0</td>\n",
       "      <td>...</td>\n",
       "      <td>174.520000</td>\n",
       "      <td>NaN</td>\n",
       "      <td>NaT</td>\n",
       "      <td>NaT</td>\n",
       "      <td>NaT</td>\n",
       "      <td>NaN</td>\n",
       "      <td>NaN</td>\n",
       "      <td>NaN</td>\n",
       "      <td>0</td>\n",
       "      <td>NaN</td>\n",
       "    </tr>\n",
       "    <tr>\n",
       "      <th>4759711</th>\n",
       "      <td>1992999874</td>\n",
       "      <td>Internal Medicine</td>\n",
       "      <td>2017.0</td>\n",
       "      <td>F</td>\n",
       "      <td>293.0</td>\n",
       "      <td>73.250000</td>\n",
       "      <td>75.0</td>\n",
       "      <td>32.785922</td>\n",
       "      <td>41.0</td>\n",
       "      <td>102.0</td>\n",
       "      <td>...</td>\n",
       "      <td>0.000000</td>\n",
       "      <td>NaN</td>\n",
       "      <td>NaT</td>\n",
       "      <td>NaT</td>\n",
       "      <td>NaT</td>\n",
       "      <td>NaN</td>\n",
       "      <td>NaN</td>\n",
       "      <td>NaN</td>\n",
       "      <td>0</td>\n",
       "      <td>NaN</td>\n",
       "    </tr>\n",
       "  </tbody>\n",
       "</table>\n",
       "<p>4695214 rows × 43 columns</p>\n",
       "</div>"
      ],
      "text/plain": [
       "                npi      provider_type  DATA_YEAR nppes_provider_gender  \\\n",
       "60893    1124292966       Rheumatology     2014.0                     M   \n",
       "60894    1124292966       Rheumatology     2015.0                     M   \n",
       "60895    1124292966       Rheumatology     2016.0                     M   \n",
       "60896    1124292966       Rheumatology     2017.0                     M   \n",
       "60897    1124292966       Rheumatology     2018.0                     M   \n",
       "...             ...                ...        ...                   ...   \n",
       "4759707  1992999825     Otolaryngology     2018.0                     M   \n",
       "4759708  1992999874  Internal Medicine     2014.0                     F   \n",
       "4759709  1992999874  Internal Medicine     2015.0                     F   \n",
       "4759710  1992999874  Internal Medicine     2016.0                     F   \n",
       "4759711  1992999874  Internal Medicine     2017.0                     F   \n",
       "\n",
       "         line_srvc_cnt_sum  line_srvc_cnt_mean  line_srvc_cnt_median  \\\n",
       "60893               1087.0          135.875000                  60.5   \n",
       "60894               1612.0          268.666667                 204.5   \n",
       "60895               1943.0          242.875000                 109.0   \n",
       "60896               1805.0          225.625000                 167.0   \n",
       "60897               1367.0          151.888889                  74.0   \n",
       "...                    ...                 ...                   ...   \n",
       "4759707              779.0           59.923077                  51.0   \n",
       "4759708             1153.0          192.166667                 151.5   \n",
       "4759709              971.0          161.833333                 149.0   \n",
       "4759710              984.0          140.571429                 138.0   \n",
       "4759711              293.0           73.250000                  75.0   \n",
       "\n",
       "         line_srvc_cnt_std  line_srvc_cnt_min  line_srvc_cnt_max  ...  \\\n",
       "60893           139.114996               15.0              364.0  ...   \n",
       "60894           259.229371               24.0              720.0  ...   \n",
       "60895           250.453553               25.0              684.0  ...   \n",
       "60896           197.418292               33.0              464.0  ...   \n",
       "60897           164.602889               12.0              439.0  ...   \n",
       "...                    ...                ...                ...  ...   \n",
       "4759707          55.562970               13.0              210.0  ...   \n",
       "4759708         178.371990               16.0              425.0  ...   \n",
       "4759709         130.537989               21.0              334.0  ...   \n",
       "4759710         135.804832               13.0              323.0  ...   \n",
       "4759711          32.785922               41.0              102.0  ...   \n",
       "\n",
       "         average_medicare_payment_amt_max  EXCLTYPE   EXCLDATE  REINDATE  \\\n",
       "60893                            0.000000    1128a1 2020-06-18       NaT   \n",
       "60894                            0.000000    1128a1 2020-06-18       NaT   \n",
       "60895                          159.164286    1128a1 2020-06-18       NaT   \n",
       "60896                            0.000000    1128a1 2020-06-18       NaT   \n",
       "60897                            0.000000    1128a1 2020-06-18       NaT   \n",
       "...                                   ...       ...        ...       ...   \n",
       "4759707                          0.000000       NaN        NaT       NaT   \n",
       "4759708                          0.000000       NaN        NaT       NaT   \n",
       "4759709                          0.000000       NaN        NaT       NaT   \n",
       "4759710                        174.520000       NaN        NaT       NaT   \n",
       "4759711                          0.000000       NaN        NaT       NaT   \n",
       "\n",
       "         WAIVERDATE  WVRSTATE  MIN_EXCLUSION_PERIOD  END_EXCLDATE  TARGET  \\\n",
       "60893           NaT       NaN                   5.0        2025.0       0   \n",
       "60894           NaT       NaN                   5.0        2025.0       0   \n",
       "60895           NaT       NaN                   5.0        2025.0       0   \n",
       "60896           NaT       NaN                   5.0        2025.0       0   \n",
       "60897           NaT       NaN                   5.0        2025.0       0   \n",
       "...             ...       ...                   ...           ...     ...   \n",
       "4759707         NaT       NaN                   NaN           NaN       0   \n",
       "4759708         NaT       NaN                   NaN           NaN       0   \n",
       "4759709         NaT       NaN                   NaN           NaN       0   \n",
       "4759710         NaT       NaN                   NaN           NaN       0   \n",
       "4759711         NaT       NaN                   NaN           NaN       0   \n",
       "\n",
       "         START_EXCLDATE  \n",
       "60893            2020.0  \n",
       "60894            2020.0  \n",
       "60895            2020.0  \n",
       "60896            2020.0  \n",
       "60897            2020.0  \n",
       "...                 ...  \n",
       "4759707             NaN  \n",
       "4759708             NaN  \n",
       "4759709             NaN  \n",
       "4759710             NaN  \n",
       "4759711             NaN  \n",
       "\n",
       "[4695214 rows x 43 columns]"
      ]
     },
     "execution_count": 41,
     "metadata": {},
     "output_type": "execute_result"
    }
   ],
   "source": [
    "partb"
   ]
  },
  {
   "cell_type": "code",
   "execution_count": 42,
   "metadata": {},
   "outputs": [],
   "source": [
    "def make_labels(start_exc, data_yr):\n",
    "    if start_exc > data_yr:\n",
    "        return 'FRAUD'\n",
    "    else:\n",
    "        return 'NOT_FRAUD'\n",
    "        "
   ]
  },
  {
   "cell_type": "code",
   "execution_count": 43,
   "metadata": {},
   "outputs": [],
   "source": [
    "#applying the fraud labeling function to datasets\n",
    "\n",
    "partb['TARGET'] = partb[[\"START_EXCLDATE\",\"DATA_YEAR\"]].apply(lambda x: make_labels(*x), axis=1)\n",
    "partd['TARGET'] = partd[[\"START_EXCLDATE\",\"DATA_YEAR\"]].apply(lambda x: make_labels(*x), axis=1)\n",
    "dmepos['TARGET'] = dmepos[[\"START_EXCLDATE\",\"DATA_YEAR\"]].apply(lambda x: make_labels(*x), axis=1)"
   ]
  },
  {
   "cell_type": "markdown",
   "metadata": {},
   "source": [
    "As you can see from the outputs below, each of the datasets are highly imbalanced. This is an issue that would need to be revisited."
   ]
  },
  {
   "cell_type": "code",
   "execution_count": 44,
   "metadata": {},
   "outputs": [
    {
     "data": {
      "text/plain": [
       "['NOT_FRAUD', 'FRAUD']"
      ]
     },
     "execution_count": 44,
     "metadata": {},
     "output_type": "execute_result"
    }
   ],
   "source": [
    "partb.TARGET.value_counts().index.to_list()"
   ]
  },
  {
   "cell_type": "code",
   "execution_count": 45,
   "metadata": {},
   "outputs": [
    {
     "data": {
      "text/plain": [
       "NOT_FRAUD    1457562\n",
       "FRAUD           1193\n",
       "Name: TARGET, dtype: int64"
      ]
     },
     "execution_count": 45,
     "metadata": {},
     "output_type": "execute_result"
    }
   ],
   "source": [
    "dmepos.TARGET.value_counts()"
   ]
  },
  {
   "cell_type": "markdown",
   "metadata": {},
   "source": [
    "### Making the combined dataset"
   ]
  },
  {
   "cell_type": "code",
   "execution_count": 46,
   "metadata": {},
   "outputs": [],
   "source": [
    "combined = pd.merge(partb,partd, left_on=['npi', 'provider_type', 'DATA_YEAR'], right_on=['npi', 'specialty_description', 'DATA_YEAR']).merge(dmepos, left_on=['npi', 'provider_type', 'DATA_YEAR'],right_on=['npi','REFERRING_PROVIDER_TYPE', 'DATA_YEAR'])"
   ]
  },
  {
   "cell_type": "code",
   "execution_count": 47,
   "metadata": {},
   "outputs": [],
   "source": [
    "#Drop one gender column because it is also present in the partb dataset (and drop duplicate columns)\n",
    "\n",
    "combined.drop(columns=['REFERRING_PROVIDER_GENDER','EXCLTYPE_y',\n",
    " 'EXCLDATE_y','REINDATE_y','WAIVERDATE_y','WVRSTATE_y', 'MIN_EXCLUSION_PERIOD_y',\n",
    " 'END_EXCLDATE_y', 'specialty_description', 'TARGET_y','TARGET_x','EXCLTYPE_x',\n",
    " 'EXCLDATE_x', 'REINDATE_x', 'WAIVERDATE_x', 'WVRSTATE_x', 'MIN_EXCLUSION_PERIOD_x',\n",
    " 'END_EXCLDATE_x', 'START_EXCLDATE_x', 'START_EXCLDATE_y','REFERRING_PROVIDER_TYPE'],\n",
    "              inplace=True) "
   ]
  },
  {
   "cell_type": "markdown",
   "metadata": {},
   "source": [
    "# One Hot Encoding of Categorical Variables."
   ]
  },
  {
   "cell_type": "code",
   "execution_count": 48,
   "metadata": {},
   "outputs": [],
   "source": [
    "partb_category_columns = ['provider_type', 'nppes_provider_gender']\n",
    "partd_category_columns = ['specialty_description']\n",
    "dmepos_category_columns = ['REFERRING_PROVIDER_GENDER', 'REFERRING_PROVIDER_TYPE']\n",
    "combined_category_columns = ['provider_type', 'nppes_provider_gender']"
   ]
  },
  {
   "cell_type": "code",
   "execution_count": 49,
   "metadata": {},
   "outputs": [],
   "source": [
    "partb = pd.get_dummies(partb, columns=partb_category_columns, drop_first=True)\n",
    "partd = pd.get_dummies(partd, columns=partd_category_columns, drop_first=True)\n",
    "dmepos = pd.get_dummies(dmepos, columns=dmepos_category_columns, drop_first=True)\n",
    "combined = pd.get_dummies(combined, columns=combined_category_columns, drop_first=True)"
   ]
  },
  {
   "cell_type": "markdown",
   "metadata": {},
   "source": [
    "### Drop the columns that we don't need for modeling."
   ]
  },
  {
   "cell_type": "code",
   "execution_count": 50,
   "metadata": {},
   "outputs": [],
   "source": [
    "columns_to_drop = [ 'EXCLTYPE','EXCLDATE','REINDATE','WAIVERDATE',\n",
    "                   'WVRSTATE','MIN_EXCLUSION_PERIOD','END_EXCLDATE',\n",
    "                   'START_EXCLDATE', 'npi', 'DATA_YEAR']\n",
    "\n",
    "partb.drop(columns_to_drop, axis=1, inplace=True)\n",
    "partd.drop(columns_to_drop, axis=1, inplace=True)\n",
    "dmepos.drop(columns_to_drop, axis=1, inplace=True)\n",
    "combined.drop(columns_to_drop, axis=1, inplace=True)"
   ]
  },
  {
   "cell_type": "code",
   "execution_count": 51,
   "metadata": {},
   "outputs": [
    {
     "data": {
      "text/plain": [
       "(4695214, 148)"
      ]
     },
     "execution_count": 51,
     "metadata": {},
     "output_type": "execute_result"
    }
   ],
   "source": [
    "partb.shape"
   ]
  },
  {
   "cell_type": "code",
   "execution_count": 52,
   "metadata": {},
   "outputs": [
    {
     "data": {
      "text/plain": [
       "(4468669, 278)"
      ]
     },
     "execution_count": 52,
     "metadata": {},
     "output_type": "execute_result"
    }
   ],
   "source": [
    "partd.shape"
   ]
  },
  {
   "cell_type": "code",
   "execution_count": 53,
   "metadata": {},
   "outputs": [
    {
     "data": {
      "text/plain": [
       "(1458755, 250)"
      ]
     },
     "execution_count": 53,
     "metadata": {},
     "output_type": "execute_result"
    }
   ],
   "source": [
    "dmepos.shape"
   ]
  },
  {
   "cell_type": "code",
   "execution_count": 54,
   "metadata": {},
   "outputs": [
    {
     "data": {
      "text/plain": [
       "(1076867, 187)"
      ]
     },
     "execution_count": 54,
     "metadata": {},
     "output_type": "execute_result"
    }
   ],
   "source": [
    "combined.shape"
   ]
  },
  {
   "cell_type": "markdown",
   "metadata": {},
   "source": [
    "### Fill in `NaN` values with `0`."
   ]
  },
  {
   "cell_type": "code",
   "execution_count": 55,
   "metadata": {},
   "outputs": [],
   "source": [
    "partd.fillna(0, inplace=True)\n",
    "dmepos.fillna(0, inplace=True)\n",
    "combined.fillna(0, inplace=True)"
   ]
  },
  {
   "cell_type": "markdown",
   "metadata": {},
   "source": [
    "# Export data for modeling."
   ]
  },
  {
   "cell_type": "code",
   "execution_count": 56,
   "metadata": {},
   "outputs": [],
   "source": [
    "pd.to_pickle(partd, '/Volumes/ML_projects/Medicare_Fraud_Datasets/processed_data/partd.pkl')\n",
    "pd.to_pickle(partb, '/Volumes/ML_projects/Medicare_Fraud_Datasets/processed_data/partb.pkl')\n",
    "pd.to_pickle(dmepos, '/Volumes/ML_projects/Medicare_Fraud_Datasets/processed_data/dmepos.pkl')\n",
    "pd.to_pickle(combined, '/Volumes/ML_projects/Medicare_Fraud_Datasets/processed_data/combined.pkl')"
   ]
  },
  {
   "cell_type": "code",
   "execution_count": null,
   "metadata": {},
   "outputs": [],
   "source": []
  }
 ],
 "metadata": {
  "kernelspec": {
   "display_name": "learn-env",
   "language": "python",
   "name": "learn-env"
  },
  "language_info": {
   "codemirror_mode": {
    "name": "ipython",
    "version": 3
   },
   "file_extension": ".py",
   "mimetype": "text/x-python",
   "name": "python",
   "nbconvert_exporter": "python",
   "pygments_lexer": "ipython3",
   "version": "3.6.10"
  }
 },
 "nbformat": 4,
 "nbformat_minor": 4
}
