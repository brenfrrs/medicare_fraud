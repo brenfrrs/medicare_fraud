{
 "cells": [
  {
   "cell_type": "code",
   "execution_count": 1,
   "metadata": {},
   "outputs": [],
   "source": [
    "import pandas as pd\n",
    "import numpy as np\n",
    "import matplotlib.pyplot as plt\n",
    "import seaborn as sns\n",
    "\n",
    "from sklearn.model_selection import train_test_split\n",
    "from sklearn.metrics import confusion_matrix, accuracy_score, classification_report\n",
    "from sklearn.ensemble import RandomForestClassifier\n",
    "from sklearn.metrics import roc_curve, roc_auc_score\n",
    "from imblearn.under_sampling import RandomUnderSampler\n",
    "from sklearn.linear_model import LogisticRegression\n",
    "from sklearn import metrics\n",
    "from sklearn.ensemble import RandomForestClassifier\n",
    "from sklearn.model_selection import GridSearchCV\n",
    "from sklearn.model_selection import RandomizedSearchCV\n",
    "from sklearn.preprocessing import StandardScaler\n",
    "\n",
    "#For Evaluating models.\n",
    "import eli5\n",
    "from eli5.sklearn import PermutationImportance\n",
    "\n",
    "%matplotlib inline\n",
    "pd.options.display.max_rows = 1000"
   ]
  },
  {
   "cell_type": "markdown",
   "metadata": {},
   "source": [
    "# Import the pickled modeling data"
   ]
  },
  {
   "cell_type": "code",
   "execution_count": 2,
   "metadata": {},
   "outputs": [],
   "source": [
    "partd = pd.read_pickle('/Volumes/ML_projects/Medicare_Fraud_Datasets/processed_data/partd.pkl')\n",
    "partb = pd.read_pickle('/Volumes/ML_projects/Medicare_Fraud_Datasets/processed_data/partb.pkl')\n",
    "dmepos = pd.read_pickle('/Volumes/ML_projects/Medicare_Fraud_Datasets/processed_data/dmepos.pkl')\n",
    "combined = pd.read_pickle('/Volumes/ML_projects/Medicare_Fraud_Datasets/processed_data/combined.pkl')"
   ]
  },
  {
   "cell_type": "markdown",
   "metadata": {},
   "source": [
    "# Making targets binary"
   ]
  },
  {
   "cell_type": "code",
   "execution_count": 3,
   "metadata": {},
   "outputs": [],
   "source": [
    "partb.TARGET = partb.TARGET.map({'FRAUD': 1, 'NOT_FRAUD': 0}).astype(int)\n",
    "partd.TARGET = partd.TARGET.map({'FRAUD': 1, 'NOT_FRAUD': 0}).astype(int)\n",
    "dmepos.TARGET = dmepos.TARGET.map({'FRAUD': 1, 'NOT_FRAUD': 0}).astype(int)\n",
    "combined.TARGET = combined.TARGET.map({'FRAUD': 1, 'NOT_FRAUD': 0}).astype(int)"
   ]
  },
  {
   "cell_type": "markdown",
   "metadata": {},
   "source": [
    "# Split data from the targets."
   ]
  },
  {
   "cell_type": "markdown",
   "metadata": {},
   "source": [
    "We have 4 datasets total, and in order to test to performance of each we need to split them into training/test sets. We have a lot of data, so we ***could*** create a holdout dataset to test our model. I think the better course of action would be to split the data into training/test sets, then perform K-fold cross validation to confirm the predictive power of the model."
   ]
  },
  {
   "cell_type": "code",
   "execution_count": 4,
   "metadata": {},
   "outputs": [],
   "source": [
    "# partb dataset\n",
    "X_partb = partb.drop(columns=['TARGET'], axis=1)\n",
    "y_partb = partb.TARGET\n",
    "\n",
    "#partd dataset\n",
    "X_partd = partd.drop(columns=['TARGET'], axis=1)\n",
    "y_partd = partd.TARGET\n",
    "\n",
    "#dmepos dataset\n",
    "X_dmepos = dmepos.drop(columns=['TARGET'], axis=1)\n",
    "y_dmepos = dmepos.TARGET\n",
    "\n",
    "#combined dataset\n",
    "X_combined = combined.drop(columns=['TARGET'], axis=1)\n",
    "y_combined = combined.TARGET"
   ]
  },
  {
   "cell_type": "markdown",
   "metadata": {},
   "source": [
    "# Downsampling"
   ]
  },
  {
   "cell_type": "markdown",
   "metadata": {},
   "source": [
    "There is a massive class imbalance in the dataset, with most observations classified as `NOT_FRAUD`, to address this I chose to randomly downsample the majority class. This should still leave us with 2000+ observations in each dataset. [The research used to guide this project](https://journalofbigdata.springeropen.com/articles/10.1186/s40537-018-0138-3) did not address class imbalance."
   ]
  },
  {
   "cell_type": "code",
   "execution_count": 5,
   "metadata": {},
   "outputs": [],
   "source": [
    "rus1 = RandomUnderSampler(random_state=42)\n",
    "X_partb, y_partb = rus1.fit_sample(X_partb, y_partb)\n",
    "\n",
    "rus2 = RandomUnderSampler(random_state=42)\n",
    "X_partd, y_partd = rus2.fit_sample(X_partd, y_partd)\n",
    "\n",
    "rus3 = RandomUnderSampler(random_state=42)\n",
    "X_dmepos, y_dmepos = rus3.fit_sample(X_dmepos, y_dmepos)\n",
    "\n",
    "rus4 = RandomUnderSampler(random_state=42)\n",
    "X_combined, y_combined = rus4.fit_sample(X_combined, y_combined)"
   ]
  },
  {
   "cell_type": "markdown",
   "metadata": {},
   "source": [
    "# Train/Test split"
   ]
  },
  {
   "cell_type": "code",
   "execution_count": 6,
   "metadata": {
    "scrolled": true
   },
   "outputs": [],
   "source": [
    "X_train_b, X_test_b, y_train_b, y_test_b = train_test_split(X_partb, y_partb, test_size=0.2, random_state=0)\n",
    "X_train_d, X_test_d, y_train_d, y_test_d = train_test_split(X_partd, y_partd, test_size=0.2, random_state=0)\n",
    "X_train_dmepos, X_test_dmepos, y_train_dmepos, y_test_dmepos = train_test_split(X_dmepos, y_dmepos, test_size=0.2, random_state=0)\n",
    "X_train_combined, X_test_combined, y_train_combined, y_test_combined = train_test_split(X_combined, y_combined, test_size=0.2, random_state=0)"
   ]
  },
  {
   "cell_type": "markdown",
   "metadata": {},
   "source": [
    "### Scale the data."
   ]
  },
  {
   "cell_type": "code",
   "execution_count": 7,
   "metadata": {},
   "outputs": [],
   "source": [
    "partb_feature_names = X_partb.columns.to_list()\n",
    "\n",
    "X_partb_scaler = StandardScaler()\n",
    "X_partb_scaled = X_partb_scaler.fit_transform(X_train_b) #Fit/Transform to the training data\n",
    "\n",
    "\n",
    "X_train_b = pd.DataFrame(X_partb_scaled, columns=partb_feature_names)\n",
    "\n",
    "X_test_b = pd.DataFrame(X_partb_scaler.transform(X_test_b), columns=partb_feature_names) #Transform the test set with fitted scaler."
   ]
  },
  {
   "cell_type": "code",
   "execution_count": 8,
   "metadata": {},
   "outputs": [],
   "source": [
    "partd_feature_names = X_partd.columns.to_list()\n",
    "\n",
    "X_partd_scaler = StandardScaler()\n",
    "X_partd_scaled = X_partd_scaler.fit_transform(X_train_d)\n",
    "\n",
    "X_train_d = pd.DataFrame(X_partd_scaled, columns=partd_feature_names)\n",
    "X_test_d = pd.DataFrame(X_partd_scaler.transform(X_test_d), columns=partd_feature_names)"
   ]
  },
  {
   "cell_type": "code",
   "execution_count": 9,
   "metadata": {},
   "outputs": [],
   "source": [
    "dmepos_feature_names = X_dmepos.columns.to_list()\n",
    "\n",
    "X_dmepos_scaler = StandardScaler()\n",
    "X_dmepos_scaled = X_dmepos_scaler.fit_transform(X_train_dmepos)\n",
    "\n",
    "X_train_dmepos = pd.DataFrame(X_dmepos_scaled, columns=dmepos_feature_names)\n",
    "X_test_dmepos = pd.DataFrame(X_dmepos_scaler.transform(X_test_dmepos), columns=dmepos_feature_names)"
   ]
  },
  {
   "cell_type": "code",
   "execution_count": 10,
   "metadata": {},
   "outputs": [],
   "source": [
    "combined_feature_names = X_combined.columns.to_list()\n",
    "\n",
    "X_combined_scaler = StandardScaler()\n",
    "X_combined_scaled = X_combined_scaler.fit_transform(X_train_combined)\n",
    "\n",
    "X_train_combined = pd.DataFrame(X_combined_scaled, columns=combined_feature_names)\n",
    "X_test_combined = pd.DataFrame(X_combined_scaler.transform(X_test_combined), columns = combined_feature_names)"
   ]
  },
  {
   "cell_type": "markdown",
   "metadata": {},
   "source": [
    "### Logistic Regression"
   ]
  },
  {
   "cell_type": "markdown",
   "metadata": {},
   "source": [
    "L1 (Lasso) regression is used to remove the effect of coefficients that provide little predictive power. "
   ]
  },
  {
   "cell_type": "code",
   "execution_count": 11,
   "metadata": {},
   "outputs": [],
   "source": [
    "#instantiate the models\n",
    "logreg_b = LogisticRegression(max_iter=10**4, penalty='l1', solver='saga')\n",
    "logreg_d = LogisticRegression(max_iter=10**4, penalty='l1', solver='saga')\n",
    "logreg_dmepos = LogisticRegression(max_iter=10**4, penalty='l1', solver='saga')\n",
    "logreg_combined = LogisticRegression(max_iter=10**4, penalty='l1', solver='saga')"
   ]
  },
  {
   "cell_type": "code",
   "execution_count": 12,
   "metadata": {},
   "outputs": [],
   "source": [
    "param_grid_logreg = {  \n",
    "    'penalty': ['l1', 'l2', 'elasticnet'],\n",
    "    'C': [.01, .05, .001],\n",
    "}"
   ]
  },
  {
   "cell_type": "code",
   "execution_count": 13,
   "metadata": {},
   "outputs": [],
   "source": [
    "grid_tree_logreg_b = RandomizedSearchCV(logreg_b, \n",
    "                                  param_grid_logreg, \n",
    "                                  cv=5,\n",
    "                                  n_jobs=-1,\n",
    "                                  scoring='f1')\n",
    "\n",
    "grid_tree_logreg_d = RandomizedSearchCV(logreg_d, \n",
    "                                  param_grid_logreg, \n",
    "                                  cv=5,\n",
    "                                  n_jobs=-1,\n",
    "                                  scoring='f1')\n",
    "\n",
    "grid_tree_logreg_dmepos = RandomizedSearchCV(logreg_dmepos, \n",
    "                                  param_grid_logreg, \n",
    "                                  cv=5,\n",
    "                                  n_jobs=-1,\n",
    "                                  scoring='f1')\n",
    "\n",
    "grid_tree_logreg_combined = RandomizedSearchCV(logreg_combined, \n",
    "                                  param_grid_logreg, \n",
    "                                  cv=5,\n",
    "                                  n_jobs=-1,\n",
    "                                  scoring='f1')"
   ]
  },
  {
   "cell_type": "code",
   "execution_count": null,
   "metadata": {},
   "outputs": [],
   "source": []
  },
  {
   "cell_type": "code",
   "execution_count": 14,
   "metadata": {},
   "outputs": [
    {
     "name": "stderr",
     "output_type": "stream",
     "text": [
      "/Users/brendanferris/opt/anaconda3/envs/learn-env/lib/python3.6/site-packages/sklearn/model_selection/_search.py:282: UserWarning: The total space of parameters 9 is smaller than n_iter=10. Running 9 iterations. For exhaustive searches, use GridSearchCV.\n",
      "  % (grid_size, self.n_iter, grid_size), UserWarning)\n",
      "/Users/brendanferris/opt/anaconda3/envs/learn-env/lib/python3.6/site-packages/sklearn/model_selection/_search.py:282: UserWarning: The total space of parameters 9 is smaller than n_iter=10. Running 9 iterations. For exhaustive searches, use GridSearchCV.\n",
      "  % (grid_size, self.n_iter, grid_size), UserWarning)\n",
      "/Users/brendanferris/opt/anaconda3/envs/learn-env/lib/python3.6/site-packages/sklearn/model_selection/_search.py:282: UserWarning: The total space of parameters 9 is smaller than n_iter=10. Running 9 iterations. For exhaustive searches, use GridSearchCV.\n",
      "  % (grid_size, self.n_iter, grid_size), UserWarning)\n",
      "/Users/brendanferris/opt/anaconda3/envs/learn-env/lib/python3.6/site-packages/sklearn/model_selection/_search.py:282: UserWarning: The total space of parameters 9 is smaller than n_iter=10. Running 9 iterations. For exhaustive searches, use GridSearchCV.\n",
      "  % (grid_size, self.n_iter, grid_size), UserWarning)\n"
     ]
    },
    {
     "data": {
      "text/plain": [
       "RandomizedSearchCV(cv=5,\n",
       "                   estimator=LogisticRegression(max_iter=10000, penalty='l1',\n",
       "                                                solver='saga'),\n",
       "                   n_jobs=-1,\n",
       "                   param_distributions={'C': [0.01, 0.05, 0.001],\n",
       "                                        'penalty': ['l1', 'l2', 'elasticnet']},\n",
       "                   scoring='f1')"
      ]
     },
     "execution_count": 14,
     "metadata": {},
     "output_type": "execute_result"
    }
   ],
   "source": [
    "#fit the models to the training data\n",
    "grid_tree_logreg_b.fit(X_train_b, y_train_b)\n",
    "grid_tree_logreg_d.fit(X_train_d, y_train_d)\n",
    "grid_tree_logreg_dmepos.fit(X_train_dmepos, y_train_dmepos)\n",
    "grid_tree_logreg_combined.fit(X_train_combined, y_train_combined)"
   ]
  },
  {
   "cell_type": "code",
   "execution_count": 15,
   "metadata": {},
   "outputs": [
    {
     "data": {
      "text/plain": [
       "{'penalty': 'l1', 'C': 0.05}"
      ]
     },
     "execution_count": 15,
     "metadata": {},
     "output_type": "execute_result"
    }
   ],
   "source": [
    "grid_tree_logreg_combined.best_params_"
   ]
  },
  {
   "cell_type": "code",
   "execution_count": 16,
   "metadata": {},
   "outputs": [],
   "source": [
    "#predict on the test set\n",
    "y_pred_b = grid_tree_logreg_b.predict(X_test_b)\n",
    "y_pred_d = grid_tree_logreg_d.predict(X_test_d)\n",
    "y_pred_dmepos = grid_tree_logreg_dmepos.predict(X_test_dmepos)\n",
    "y_pred_combined = grid_tree_logreg_combined.predict(X_test_combined)"
   ]
  },
  {
   "cell_type": "code",
   "execution_count": 32,
   "metadata": {},
   "outputs": [
    {
     "name": "stdout",
     "output_type": "stream",
     "text": [
      "Shown below are the Logistic Regression confusion matrixes for each dataset. As we can see, the combined dataset has the best performance, correctly classifying 73% of the data.\n"
     ]
    },
    {
     "data": {
      "image/png": "[encoded data removed]",
      "text/plain": [
       "<Figure size 1080x792 with 8 Axes>"
      ]
     },
     "metadata": {
      "needs_background": "light"
     },
     "output_type": "display_data"
    }
   ],
   "source": [
    "fig, ax = plt.subplots(2,2)\n",
    "fig.set_size_inches(15, 11)\n",
    "\n",
    "\n",
    "confusion_matrix_combined = metrics.plot_confusion_matrix(grid_tree_logreg_combined, X_test_combined, y_test_combined, cmap= \"GnBu\", ax = ax[0,0], normalize='all')\n",
    "ax[0,0].set_title('Combined Dataset')\n",
    "ax[0,0].set_xticklabels(['NOT FRAUD','FRAUD'])\n",
    "ax[0,0].set_yticklabels(['NOT FRAUD','FRAUD'])\n",
    "\n",
    "confusion_matrix_partb = metrics.plot_confusion_matrix(grid_tree_logreg_b, X_test_b, y_test_b, cmap= \"GnBu\", ax = ax[0,1], normalize='all')\n",
    "ax[0,1].set_title('Part B Dataset')\n",
    "ax[0,1].set_xticklabels(['NOT FRAUD','FRAUD'])\n",
    "ax[0,1].set_yticklabels(['NOT FRAUD','FRAUD'])\n",
    "\n",
    "\n",
    "confusion_matrix_partd = metrics.plot_confusion_matrix(grid_tree_logreg_d, X_test_d, y_test_d, cmap= \"GnBu\", ax = ax[1,1], normalize='all')\n",
    "ax[1,1].set_title('Part D Dataset')\n",
    "ax[1,1].set_xticklabels(['NOT FRAUD','FRAUD'])\n",
    "ax[1,1].set_yticklabels(['NOT FRAUD','FRAUD'])\n",
    "\n",
    "confusion_matrix_dmepos = metrics.plot_confusion_matrix(grid_tree_logreg_dmepos, X_test_dmepos, y_test_dmepos, cmap= \"GnBu\", ax = ax[1,0], normalize='all')\n",
    "ax[1,0].set_title('DMEPOS Dataset')\n",
    "ax[1,0].set_xticklabels(['NOT FRAUD','FRAUD'])\n",
    "ax[1,0].set_yticklabels(['NOT FRAUD','FRAUD']);\n",
    "\n",
    "print('Shown below are the Logistic Regression confusion matrixes for each dataset. As we can see, the combined dataset has the best performance, correctly classifying 73% of the data.')\n",
    "\n",
    "fig.savefig('logreg_confusion.png')"
   ]
  },
  {
   "cell_type": "code",
   "execution_count": 30,
   "metadata": {},
   "outputs": [
    {
     "name": "stdout",
     "output_type": "stream",
     "text": [
      "We can see from the ROC curves below that the Combined dataset performs the best.\n"
     ]
    },
    {
     "data": {
      "image/png": "[encoded data removed]",
      "text/plain": [
       "<Figure size 792x648 with 1 Axes>"
      ]
     },
     "metadata": {
      "needs_background": "light"
     },
     "output_type": "display_data"
    }
   ],
   "source": [
    "ROC_combined = metrics.plot_roc_curve(grid_tree_logreg_combined, X_test_combined, y_test_combined, name='Combined Dataset')\n",
    "ROC_partb = metrics.plot_roc_curve(grid_tree_logreg_b, X_test_b, y_test_b, name='Part B Dataset', ax=ROC_combined.ax_)\n",
    "ROC_partd = metrics.plot_roc_curve(grid_tree_logreg_d, X_test_d, y_test_d, name=\"Part D Dataset\", ax = ROC_combined.ax_)\n",
    "ROC_dmepos = metrics.plot_roc_curve(grid_tree_logreg_dmepos, X_test_dmepos, y_test_dmepos, name=\"DMEPOS Dataset\", ax = ROC_combined.ax_)\n",
    "ROC_dmepos.figure_.suptitle(\"ROC curve comparison\", y=.92, size=22);\n",
    "ROC_combined.figure_.set_size_inches(11,9)\n",
    "print(\"We can see from the ROC curves below that the Combined dataset performs the best.\")\n",
    "plt.savefig('logreg_ROC.png')"
   ]
  },
  {
   "cell_type": "markdown",
   "metadata": {},
   "source": [
    "### Logistic Regression Feature Importances"
   ]
  },
  {
   "cell_type": "markdown",
   "metadata": {},
   "source": [
    "Lets explore what the Logistic Regression model thought were the most valuable attributes for detecting fraud. We will focus on the Combined Dataset, because it attained the highest AUC."
   ]
  },
  {
   "cell_type": "code",
   "execution_count": 19,
   "metadata": {},
   "outputs": [
    {
     "name": "stdout",
     "output_type": "stream",
     "text": [
      "Logistic Regression Feature Importances:\n"
     ]
    },
    {
     "data": {
      "text/html": [
       "\n",
       "    <style>\n",
       "    table.eli5-weights tr:hover {\n",
       "        filter: brightness(85%);\n",
       "    }\n",
       "</style>\n",
       "\n",
       "\n",
       "\n",
       "    \n",
       "\n",
       "    \n",
       "\n",
       "    \n",
       "\n",
       "    \n",
       "\n",
       "    \n",
       "\n",
       "    \n",
       "\n",
       "\n",
       "    \n",
       "\n",
       "    \n",
       "\n",
       "    \n",
       "\n",
       "    \n",
       "\n",
       "    \n",
       "\n",
       "    \n",
       "\n",
       "\n",
       "    \n",
       "\n",
       "    \n",
       "\n",
       "    \n",
       "\n",
       "    \n",
       "\n",
       "    \n",
       "        <table class=\"eli5-weights eli5-feature-importances\" style=\"border-collapse: collapse; border: none; margin-top: 0em; table-layout: auto;\">\n",
       "    <thead>\n",
       "    <tr style=\"border: none;\">\n",
       "        <th style=\"padding: 0 1em 0 0.5em; text-align: right; border: none;\">Weight</th>\n",
       "        <th style=\"padding: 0 0.5em 0 0.5em; text-align: left; border: none;\">Feature</th>\n",
       "    </tr>\n",
       "    </thead>\n",
       "    <tbody>\n",
       "    \n",
       "        <tr style=\"background-color: hsl(120, 100.00%, 80.00%); border: none;\">\n",
       "            <td style=\"padding: 0 1em 0 0.5em; text-align: right; border: none;\">\n",
       "                0.0671\n",
       "                \n",
       "                    &plusmn; 0.0151\n",
       "                \n",
       "            </td>\n",
       "            <td style=\"padding: 0 0.5em 0 0.5em; text-align: left; border: none;\">\n",
       "                nppes_provider_gender_M\n",
       "            </td>\n",
       "        </tr>\n",
       "    \n",
       "        <tr style=\"background-color: hsl(120, 100.00%, 81.20%); border: none;\">\n",
       "            <td style=\"padding: 0 1em 0 0.5em; text-align: right; border: none;\">\n",
       "                0.0615\n",
       "                \n",
       "                    &plusmn; 0.0128\n",
       "                \n",
       "            </td>\n",
       "            <td style=\"padding: 0 0.5em 0 0.5em; text-align: left; border: none;\">\n",
       "                total_claim_count_max\n",
       "            </td>\n",
       "        </tr>\n",
       "    \n",
       "        <tr style=\"background-color: hsl(120, 100.00%, 85.18%); border: none;\">\n",
       "            <td style=\"padding: 0 1em 0 0.5em; text-align: right; border: none;\">\n",
       "                0.0437\n",
       "                \n",
       "                    &plusmn; 0.0100\n",
       "                \n",
       "            </td>\n",
       "            <td style=\"padding: 0 0.5em 0 0.5em; text-align: left; border: none;\">\n",
       "                total_30_day_fill_count_std\n",
       "            </td>\n",
       "        </tr>\n",
       "    \n",
       "        <tr style=\"background-color: hsl(120, 100.00%, 85.70%); border: none;\">\n",
       "            <td style=\"padding: 0 1em 0 0.5em; text-align: right; border: none;\">\n",
       "                0.0416\n",
       "                \n",
       "                    &plusmn; 0.0104\n",
       "                \n",
       "            </td>\n",
       "            <td style=\"padding: 0 0.5em 0 0.5em; text-align: left; border: none;\">\n",
       "                bene_unique_cnt_mean\n",
       "            </td>\n",
       "        </tr>\n",
       "    \n",
       "        <tr style=\"background-color: hsl(120, 100.00%, 92.17%); border: none;\">\n",
       "            <td style=\"padding: 0 1em 0 0.5em; text-align: right; border: none;\">\n",
       "                0.0176\n",
       "                \n",
       "                    &plusmn; 0.0074\n",
       "                \n",
       "            </td>\n",
       "            <td style=\"padding: 0 0.5em 0 0.5em; text-align: left; border: none;\">\n",
       "                NUMBER_OF_SUPPLIERS_std\n",
       "            </td>\n",
       "        </tr>\n",
       "    \n",
       "        <tr style=\"background-color: hsl(120, 100.00%, 93.30%); border: none;\">\n",
       "            <td style=\"padding: 0 1em 0 0.5em; text-align: right; border: none;\">\n",
       "                0.0141\n",
       "                \n",
       "                    &plusmn; 0.0121\n",
       "                \n",
       "            </td>\n",
       "            <td style=\"padding: 0 0.5em 0 0.5em; text-align: left; border: none;\">\n",
       "                bene_day_srvc_cnt_mean\n",
       "            </td>\n",
       "        </tr>\n",
       "    \n",
       "        <tr style=\"background-color: hsl(120, 100.00%, 93.73%); border: none;\">\n",
       "            <td style=\"padding: 0 1em 0 0.5em; text-align: right; border: none;\">\n",
       "                0.0128\n",
       "                \n",
       "                    &plusmn; 0.0092\n",
       "                \n",
       "            </td>\n",
       "            <td style=\"padding: 0 0.5em 0 0.5em; text-align: left; border: none;\">\n",
       "                NUMBER_OF_SUPPLIER_CLAIMS_std\n",
       "            </td>\n",
       "        </tr>\n",
       "    \n",
       "        <tr style=\"background-color: hsl(120, 100.00%, 94.70%); border: none;\">\n",
       "            <td style=\"padding: 0 1em 0 0.5em; text-align: right; border: none;\">\n",
       "                0.0101\n",
       "                \n",
       "                    &plusmn; 0.0036\n",
       "                \n",
       "            </td>\n",
       "            <td style=\"padding: 0 0.5em 0 0.5em; text-align: left; border: none;\">\n",
       "                provider_type_Pulmonary Disease\n",
       "            </td>\n",
       "        </tr>\n",
       "    \n",
       "        <tr style=\"background-color: hsl(120, 100.00%, 95.19%); border: none;\">\n",
       "            <td style=\"padding: 0 1em 0 0.5em; text-align: right; border: none;\">\n",
       "                0.0088\n",
       "                \n",
       "                    &plusmn; 0.0044\n",
       "                \n",
       "            </td>\n",
       "            <td style=\"padding: 0 0.5em 0 0.5em; text-align: left; border: none;\">\n",
       "                provider_type_Podiatry\n",
       "            </td>\n",
       "        </tr>\n",
       "    \n",
       "        <tr style=\"background-color: hsl(120, 100.00%, 95.75%); border: none;\">\n",
       "            <td style=\"padding: 0 1em 0 0.5em; text-align: right; border: none;\">\n",
       "                0.0073\n",
       "                \n",
       "                    &plusmn; 0.0071\n",
       "                \n",
       "            </td>\n",
       "            <td style=\"padding: 0 0.5em 0 0.5em; text-align: left; border: none;\">\n",
       "                total_30_day_fill_count_mean\n",
       "            </td>\n",
       "        </tr>\n",
       "    \n",
       "        <tr style=\"background-color: hsl(120, 100.00%, 95.95%); border: none;\">\n",
       "            <td style=\"padding: 0 1em 0 0.5em; text-align: right; border: none;\">\n",
       "                0.0069\n",
       "                \n",
       "                    &plusmn; 0.0042\n",
       "                \n",
       "            </td>\n",
       "            <td style=\"padding: 0 0.5em 0 0.5em; text-align: left; border: none;\">\n",
       "                line_srvc_cnt_median\n",
       "            </td>\n",
       "        </tr>\n",
       "    \n",
       "        <tr style=\"background-color: hsl(120, 100.00%, 96.30%); border: none;\">\n",
       "            <td style=\"padding: 0 1em 0 0.5em; text-align: right; border: none;\">\n",
       "                0.0060\n",
       "                \n",
       "                    &plusmn; 0.0017\n",
       "                \n",
       "            </td>\n",
       "            <td style=\"padding: 0 0.5em 0 0.5em; text-align: left; border: none;\">\n",
       "                provider_type_Neurosurgery\n",
       "            </td>\n",
       "        </tr>\n",
       "    \n",
       "        <tr style=\"background-color: hsl(120, 100.00%, 96.59%); border: none;\">\n",
       "            <td style=\"padding: 0 1em 0 0.5em; text-align: right; border: none;\">\n",
       "                0.0054\n",
       "                \n",
       "                    &plusmn; 0.0033\n",
       "                \n",
       "            </td>\n",
       "            <td style=\"padding: 0 0.5em 0 0.5em; text-align: left; border: none;\">\n",
       "                provider_type_Orthopedic Surgery\n",
       "            </td>\n",
       "        </tr>\n",
       "    \n",
       "        <tr style=\"background-color: hsl(120, 100.00%, 97.36%); border: none;\">\n",
       "            <td style=\"padding: 0 1em 0 0.5em; text-align: right; border: none;\">\n",
       "                0.0037\n",
       "                \n",
       "                    &plusmn; 0.0030\n",
       "                \n",
       "            </td>\n",
       "            <td style=\"padding: 0 0.5em 0 0.5em; text-align: left; border: none;\">\n",
       "                provider_type_Physician Assistant\n",
       "            </td>\n",
       "        </tr>\n",
       "    \n",
       "        <tr style=\"background-color: hsl(120, 100.00%, 97.44%); border: none;\">\n",
       "            <td style=\"padding: 0 1em 0 0.5em; text-align: right; border: none;\">\n",
       "                0.0036\n",
       "                \n",
       "                    &plusmn; 0.0014\n",
       "                \n",
       "            </td>\n",
       "            <td style=\"padding: 0 0.5em 0 0.5em; text-align: left; border: none;\">\n",
       "                provider_type_Geriatric Medicine\n",
       "            </td>\n",
       "        </tr>\n",
       "    \n",
       "        <tr style=\"background-color: hsl(120, 100.00%, 97.84%); border: none;\">\n",
       "            <td style=\"padding: 0 1em 0 0.5em; text-align: right; border: none;\">\n",
       "                0.0028\n",
       "                \n",
       "                    &plusmn; 0.0016\n",
       "                \n",
       "            </td>\n",
       "            <td style=\"padding: 0 0.5em 0 0.5em; text-align: left; border: none;\">\n",
       "                provider_type_Otolaryngology\n",
       "            </td>\n",
       "        </tr>\n",
       "    \n",
       "        <tr style=\"background-color: hsl(120, 100.00%, 97.87%); border: none;\">\n",
       "            <td style=\"padding: 0 1em 0 0.5em; text-align: right; border: none;\">\n",
       "                0.0027\n",
       "                \n",
       "                    &plusmn; 0.0010\n",
       "                \n",
       "            </td>\n",
       "            <td style=\"padding: 0 0.5em 0 0.5em; text-align: left; border: none;\">\n",
       "                provider_type_General Practice\n",
       "            </td>\n",
       "        </tr>\n",
       "    \n",
       "        <tr style=\"background-color: hsl(120, 100.00%, 97.88%); border: none;\">\n",
       "            <td style=\"padding: 0 1em 0 0.5em; text-align: right; border: none;\">\n",
       "                0.0027\n",
       "                \n",
       "                    &plusmn; 0.0015\n",
       "                \n",
       "            </td>\n",
       "            <td style=\"padding: 0 0.5em 0 0.5em; text-align: left; border: none;\">\n",
       "                provider_type_Ophthalmology\n",
       "            </td>\n",
       "        </tr>\n",
       "    \n",
       "        <tr style=\"background-color: hsl(120, 100.00%, 98.00%); border: none;\">\n",
       "            <td style=\"padding: 0 1em 0 0.5em; text-align: right; border: none;\">\n",
       "                0.0025\n",
       "                \n",
       "                    &plusmn; 0.0015\n",
       "                \n",
       "            </td>\n",
       "            <td style=\"padding: 0 0.5em 0 0.5em; text-align: left; border: none;\">\n",
       "                provider_type_Emergency Medicine\n",
       "            </td>\n",
       "        </tr>\n",
       "    \n",
       "        <tr style=\"background-color: hsl(120, 100.00%, 98.05%); border: none;\">\n",
       "            <td style=\"padding: 0 1em 0 0.5em; text-align: right; border: none;\">\n",
       "                0.0024\n",
       "                \n",
       "                    &plusmn; 0.0022\n",
       "                \n",
       "            </td>\n",
       "            <td style=\"padding: 0 0.5em 0 0.5em; text-align: left; border: none;\">\n",
       "                provider_type_Nephrology\n",
       "            </td>\n",
       "        </tr>\n",
       "    \n",
       "    \n",
       "        \n",
       "            <tr style=\"background-color: hsl(120, 100.00%, 98.05%); border: none;\">\n",
       "                <td colspan=\"2\" style=\"padding: 0 0.5em 0 0.5em; text-align: center; border: none; white-space: nowrap;\">\n",
       "                    <i>&hellip; 166 more &hellip;</i>\n",
       "                </td>\n",
       "            </tr>\n",
       "        \n",
       "    \n",
       "    </tbody>\n",
       "</table>\n",
       "    \n",
       "\n",
       "    \n",
       "\n",
       "\n",
       "    \n",
       "\n",
       "    \n",
       "\n",
       "    \n",
       "\n",
       "    \n",
       "\n",
       "    \n",
       "\n",
       "    \n",
       "\n",
       "\n",
       "\n"
      ],
      "text/plain": [
       "<IPython.core.display.HTML object>"
      ]
     },
     "execution_count": 19,
     "metadata": {},
     "output_type": "execute_result"
    }
   ],
   "source": [
    "log_perm = PermutationImportance(grid_tree_logreg_combined, random_state=1).fit(X_train_combined, y_train_combined)\n",
    "\n",
    "print('Logistic Regression Feature Importances:')\n",
    "eli5.show_weights(log_perm, feature_names=combined_feature_names)"
   ]
  },
  {
   "cell_type": "markdown",
   "metadata": {},
   "source": [
    "# Random Forest"
   ]
  },
  {
   "cell_type": "code",
   "execution_count": 20,
   "metadata": {},
   "outputs": [],
   "source": [
    "rf_b = RandomForestClassifier(n_jobs=-1)\n",
    "rf_d = RandomForestClassifier(n_jobs=-1)\n",
    "rf_dmepos = RandomForestClassifier(n_jobs=-1)\n",
    "rf_combined = RandomForestClassifier(n_jobs=-1)"
   ]
  },
  {
   "cell_type": "code",
   "execution_count": 21,
   "metadata": {},
   "outputs": [],
   "source": [
    "param_grid_rf = {  \n",
    "    'n_estimators': list(range(1,2000)),\n",
    "    'criterion': ['gini','entropy'],\n",
    "    'max_depth': list(range(1,50)),\n",
    "    'min_samples_leaf': list(range(1,50,1)),\n",
    "}"
   ]
  },
  {
   "cell_type": "code",
   "execution_count": 22,
   "metadata": {},
   "outputs": [],
   "source": [
    "tree_rf_b = RandomizedSearchCV(rf_b, \n",
    "                                  param_grid_rf, \n",
    "                                  cv=5,\n",
    "                                  verbose=1,\n",
    "                                  scoring='f1')\n",
    "\n",
    "tree_rf_d = RandomizedSearchCV(rf_d, \n",
    "                                  param_grid_rf, \n",
    "                                  cv=5,\n",
    "                                  n_jobs=-1,\n",
    "                                  scoring='f1')\n",
    "\n",
    "tree_rf_dmepos = RandomizedSearchCV(rf_dmepos, \n",
    "                                  param_grid_rf, \n",
    "                                  cv=5,\n",
    "                                  n_jobs=-1,\n",
    "                                  scoring='f1')\n",
    "\n",
    "tree_rf_combined = RandomizedSearchCV(rf_combined, \n",
    "                                  param_grid_rf, \n",
    "                                  cv=5,\n",
    "                                  n_jobs=-1,\n",
    "                                  scoring='f1')"
   ]
  },
  {
   "cell_type": "code",
   "execution_count": 23,
   "metadata": {},
   "outputs": [
    {
     "name": "stdout",
     "output_type": "stream",
     "text": [
      "Fitting 5 folds for each of 10 candidates, totalling 50 fits\n"
     ]
    },
    {
     "name": "stderr",
     "output_type": "stream",
     "text": [
      "[Parallel(n_jobs=1)]: Using backend SequentialBackend with 1 concurrent workers.\n",
      "[Parallel(n_jobs=1)]: Done  50 out of  50 | elapsed:  2.6min finished\n"
     ]
    },
    {
     "data": {
      "text/plain": [
       "RandomizedSearchCV(cv=5, estimator=RandomForestClassifier(n_jobs=-1), n_jobs=-1,\n",
       "                   param_distributions={'criterion': ['gini', 'entropy'],\n",
       "                                        'max_depth': [1, 2, 3, 4, 5, 6, 7, 8, 9,\n",
       "                                                      10, 11, 12, 13, 14, 15,\n",
       "                                                      16, 17, 18, 19, 20, 21,\n",
       "                                                      22, 23, 24, 25, 26, 27,\n",
       "                                                      28, 29, 30, ...],\n",
       "                                        'min_samples_leaf': [1, 2, 3, 4, 5, 6,\n",
       "                                                             7, 8, 9, 10, 11,\n",
       "                                                             12, 13, 14, 15, 16,\n",
       "                                                             17, 18, 19, 20, 21,\n",
       "                                                             22, 23, 24, 25, 26,\n",
       "                                                             27, 28, 29, 30, ...],\n",
       "                                        'n_estimators': [1, 2, 3, 4, 5, 6, 7, 8,\n",
       "                                                         9, 10, 11, 12, 13, 14,\n",
       "                                                         15, 16, 17, 18, 19, 20,\n",
       "                                                         21, 22, 23, 24, 25, 26,\n",
       "                                                         27, 28, 29, 30, ...]},\n",
       "                   scoring='f1')"
      ]
     },
     "execution_count": 23,
     "metadata": {},
     "output_type": "execute_result"
    }
   ],
   "source": [
    "tree_rf_b.fit(X_train_b, y_train_b)\n",
    "tree_rf_d.fit(X_train_d, y_train_d)\n",
    "tree_rf_dmepos.fit(X_train_dmepos, y_train_dmepos)\n",
    "tree_rf_combined.fit(X_train_combined, y_train_combined)"
   ]
  },
  {
   "cell_type": "code",
   "execution_count": 33,
   "metadata": {},
   "outputs": [
    {
     "name": "stdout",
     "output_type": "stream",
     "text": [
      "Shown below are the confusion matrixes for each dataset. As we can see, the combined dataset has the best performance, correctly classifying 67% of the data.\n"
     ]
    },
    {
     "data": {
      "image/png": "[encoded data removed]",
      "text/plain": [
       "<Figure size 1080x792 with 8 Axes>"
      ]
     },
     "metadata": {
      "needs_background": "light"
     },
     "output_type": "display_data"
    }
   ],
   "source": [
    "fig, ax = plt.subplots(2,2)\n",
    "fig.set_size_inches(15, 11)\n",
    "\n",
    "\n",
    "confusion_matrix_combined = metrics.plot_confusion_matrix(tree_rf_combined, X_test_combined, y_test_combined, cmap= \"GnBu\", ax = ax[0,0], normalize='all')\n",
    "ax[0,0].set_title('Combined Dataset')\n",
    "ax[0,0].set_xticklabels(['NOT FRAUD','FRAUD'])\n",
    "ax[0,0].set_yticklabels(['NOT FRAUD','FRAUD'])\n",
    "\n",
    "confusion_matrix_partb = metrics.plot_confusion_matrix(tree_rf_b, X_test_b, y_test_b, cmap= \"GnBu\", ax = ax[0,1], normalize='all')\n",
    "ax[0,1].set_title('Part B Dataset')\n",
    "ax[0,1].set_xticklabels(['NOT FRAUD','FRAUD'])\n",
    "ax[0,1].set_yticklabels(['NOT FRAUD','FRAUD'])\n",
    "\n",
    "\n",
    "confusion_matrix_partd = metrics.plot_confusion_matrix(tree_rf_d, X_test_d, y_test_d, cmap= \"GnBu\", ax = ax[1,1], normalize='all')\n",
    "ax[1,1].set_title('Part D Dataset')\n",
    "ax[1,1].set_xticklabels(['NOT FRAUD','FRAUD'])\n",
    "ax[1,1].set_yticklabels(['NOT FRAUD','FRAUD'])\n",
    "\n",
    "confusion_matrix_dmepos = metrics.plot_confusion_matrix(tree_rf_dmepos, X_test_dmepos, y_test_dmepos, cmap= \"GnBu\", ax = ax[1,0], normalize='all')\n",
    "ax[1,0].set_title('DMEPOS Dataset')\n",
    "ax[1,0].set_xticklabels(['NOT FRAUD','FRAUD'])\n",
    "ax[1,0].set_yticklabels(['NOT FRAUD','FRAUD']);\n",
    "\n",
    "print('Shown below are the confusion matrixes for each dataset. As we can see, the combined dataset has the best performance, correctly classifying 67% of the data.')\n",
    "fig.savefig('forest_confusion.png')"
   ]
  },
  {
   "cell_type": "code",
   "execution_count": 25,
   "metadata": {},
   "outputs": [
    {
     "data": {
      "image/png": "[encoded data removed]",
      "text/plain": [
       "<Figure size 792x648 with 1 Axes>"
      ]
     },
     "metadata": {
      "needs_background": "light"
     },
     "output_type": "display_data"
    }
   ],
   "source": [
    "ROC_combined = metrics.plot_roc_curve(tree_rf_combined, X_test_combined, y_test_combined, name='Combined Dataset')\n",
    "ROC_partb = metrics.plot_roc_curve(tree_rf_b, X_test_b, y_test_b, name='Part B Dataset', ax=ROC_combined.ax_)\n",
    "ROC_partd = metrics.plot_roc_curve(tree_rf_d, X_test_d, y_test_d, name=\"Part D Dataset\", ax = ROC_combined.ax_)\n",
    "ROC_dmepos = metrics.plot_roc_curve(tree_rf_dmepos, X_test_dmepos, y_test_dmepos, name=\"DMEPOS Dataset\", ax = ROC_combined.ax_)\n",
    "ROC_dmepos.figure_.suptitle(\"ROC curve comparison\", y=.92, size=22);\n",
    "ROC_combined.figure_.set_size_inches(11,9)"
   ]
  },
  {
   "cell_type": "code",
   "execution_count": 26,
   "metadata": {},
   "outputs": [
    {
     "name": "stdout",
     "output_type": "stream",
     "text": [
      "Random Forest Feature Importances:\n"
     ]
    },
    {
     "data": {
      "text/html": [
       "\n",
       "    <style>\n",
       "    table.eli5-weights tr:hover {\n",
       "        filter: brightness(85%);\n",
       "    }\n",
       "</style>\n",
       "\n",
       "\n",
       "\n",
       "    \n",
       "\n",
       "    \n",
       "\n",
       "    \n",
       "\n",
       "    \n",
       "\n",
       "    \n",
       "\n",
       "    \n",
       "\n",
       "\n",
       "    \n",
       "\n",
       "    \n",
       "\n",
       "    \n",
       "\n",
       "    \n",
       "\n",
       "    \n",
       "\n",
       "    \n",
       "\n",
       "\n",
       "    \n",
       "\n",
       "    \n",
       "\n",
       "    \n",
       "\n",
       "    \n",
       "\n",
       "    \n",
       "        <table class=\"eli5-weights eli5-feature-importances\" style=\"border-collapse: collapse; border: none; margin-top: 0em; table-layout: auto;\">\n",
       "    <thead>\n",
       "    <tr style=\"border: none;\">\n",
       "        <th style=\"padding: 0 1em 0 0.5em; text-align: right; border: none;\">Weight</th>\n",
       "        <th style=\"padding: 0 0.5em 0 0.5em; text-align: left; border: none;\">Feature</th>\n",
       "    </tr>\n",
       "    </thead>\n",
       "    <tbody>\n",
       "    \n",
       "        <tr style=\"background-color: hsl(120, 100.00%, 80.00%); border: none;\">\n",
       "            <td style=\"padding: 0 1em 0 0.5em; text-align: right; border: none;\">\n",
       "                0.0257\n",
       "                \n",
       "                    &plusmn; 0.0076\n",
       "                \n",
       "            </td>\n",
       "            <td style=\"padding: 0 0.5em 0 0.5em; text-align: left; border: none;\">\n",
       "                nppes_provider_gender_M\n",
       "            </td>\n",
       "        </tr>\n",
       "    \n",
       "        <tr style=\"background-color: hsl(120, 100.00%, 87.27%); border: none;\">\n",
       "            <td style=\"padding: 0 1em 0 0.5em; text-align: right; border: none;\">\n",
       "                0.0135\n",
       "                \n",
       "                    &plusmn; 0.0019\n",
       "                \n",
       "            </td>\n",
       "            <td style=\"padding: 0 0.5em 0 0.5em; text-align: left; border: none;\">\n",
       "                bene_unique_cnt_std\n",
       "            </td>\n",
       "        </tr>\n",
       "    \n",
       "        <tr style=\"background-color: hsl(120, 100.00%, 90.15%); border: none;\">\n",
       "            <td style=\"padding: 0 1em 0 0.5em; text-align: right; border: none;\">\n",
       "                0.0093\n",
       "                \n",
       "                    &plusmn; 0.0022\n",
       "                \n",
       "            </td>\n",
       "            <td style=\"padding: 0 0.5em 0 0.5em; text-align: left; border: none;\">\n",
       "                line_srvc_cnt_std\n",
       "            </td>\n",
       "        </tr>\n",
       "    \n",
       "        <tr style=\"background-color: hsl(120, 100.00%, 90.63%); border: none;\">\n",
       "            <td style=\"padding: 0 1em 0 0.5em; text-align: right; border: none;\">\n",
       "                0.0087\n",
       "                \n",
       "                    &plusmn; 0.0020\n",
       "                \n",
       "            </td>\n",
       "            <td style=\"padding: 0 0.5em 0 0.5em; text-align: left; border: none;\">\n",
       "                line_srvc_cnt_mean\n",
       "            </td>\n",
       "        </tr>\n",
       "    \n",
       "        <tr style=\"background-color: hsl(120, 100.00%, 90.89%); border: none;\">\n",
       "            <td style=\"padding: 0 1em 0 0.5em; text-align: right; border: none;\">\n",
       "                0.0083\n",
       "                \n",
       "                    &plusmn; 0.0026\n",
       "                \n",
       "            </td>\n",
       "            <td style=\"padding: 0 0.5em 0 0.5em; text-align: left; border: none;\">\n",
       "                total_30_day_fill_count_median\n",
       "            </td>\n",
       "        </tr>\n",
       "    \n",
       "        <tr style=\"background-color: hsl(120, 100.00%, 91.16%); border: none;\">\n",
       "            <td style=\"padding: 0 1em 0 0.5em; text-align: right; border: none;\">\n",
       "                0.0080\n",
       "                \n",
       "                    &plusmn; 0.0023\n",
       "                \n",
       "            </td>\n",
       "            <td style=\"padding: 0 0.5em 0 0.5em; text-align: left; border: none;\">\n",
       "                bene_unique_cnt_mean\n",
       "            </td>\n",
       "        </tr>\n",
       "    \n",
       "        <tr style=\"background-color: hsl(120, 100.00%, 91.93%); border: none;\">\n",
       "            <td style=\"padding: 0 1em 0 0.5em; text-align: right; border: none;\">\n",
       "                0.0070\n",
       "                \n",
       "                    &plusmn; 0.0036\n",
       "                \n",
       "            </td>\n",
       "            <td style=\"padding: 0 0.5em 0 0.5em; text-align: left; border: none;\">\n",
       "                bene_unique_cnt_max\n",
       "            </td>\n",
       "        </tr>\n",
       "    \n",
       "        <tr style=\"background-color: hsl(120, 100.00%, 92.25%); border: none;\">\n",
       "            <td style=\"padding: 0 1em 0 0.5em; text-align: right; border: none;\">\n",
       "                0.0066\n",
       "                \n",
       "                    &plusmn; 0.0043\n",
       "                \n",
       "            </td>\n",
       "            <td style=\"padding: 0 0.5em 0 0.5em; text-align: left; border: none;\">\n",
       "                total_30_day_fill_count_mean\n",
       "            </td>\n",
       "        </tr>\n",
       "    \n",
       "        <tr style=\"background-color: hsl(120, 100.00%, 92.49%); border: none;\">\n",
       "            <td style=\"padding: 0 1em 0 0.5em; text-align: right; border: none;\">\n",
       "                0.0063\n",
       "                \n",
       "                    &plusmn; 0.0019\n",
       "                \n",
       "            </td>\n",
       "            <td style=\"padding: 0 0.5em 0 0.5em; text-align: left; border: none;\">\n",
       "                bene_day_srvc_cnt_std\n",
       "            </td>\n",
       "        </tr>\n",
       "    \n",
       "        <tr style=\"background-color: hsl(120, 100.00%, 92.88%); border: none;\">\n",
       "            <td style=\"padding: 0 1em 0 0.5em; text-align: right; border: none;\">\n",
       "                0.0059\n",
       "                \n",
       "                    &plusmn; 0.0036\n",
       "                \n",
       "            </td>\n",
       "            <td style=\"padding: 0 0.5em 0 0.5em; text-align: left; border: none;\">\n",
       "                total_day_supply_mean\n",
       "            </td>\n",
       "        </tr>\n",
       "    \n",
       "        <tr style=\"background-color: hsl(120, 100.00%, 93.01%); border: none;\">\n",
       "            <td style=\"padding: 0 1em 0 0.5em; text-align: right; border: none;\">\n",
       "                0.0057\n",
       "                \n",
       "                    &plusmn; 0.0008\n",
       "                \n",
       "            </td>\n",
       "            <td style=\"padding: 0 0.5em 0 0.5em; text-align: left; border: none;\">\n",
       "                total_day_supply_median\n",
       "            </td>\n",
       "        </tr>\n",
       "    \n",
       "        <tr style=\"background-color: hsl(120, 100.00%, 93.36%); border: none;\">\n",
       "            <td style=\"padding: 0 1em 0 0.5em; text-align: right; border: none;\">\n",
       "                0.0053\n",
       "                \n",
       "                    &plusmn; 0.0018\n",
       "                \n",
       "            </td>\n",
       "            <td style=\"padding: 0 0.5em 0 0.5em; text-align: left; border: none;\">\n",
       "                total_30_day_fill_count_std\n",
       "            </td>\n",
       "        </tr>\n",
       "    \n",
       "        <tr style=\"background-color: hsl(120, 100.00%, 93.55%); border: none;\">\n",
       "            <td style=\"padding: 0 1em 0 0.5em; text-align: right; border: none;\">\n",
       "                0.0051\n",
       "                \n",
       "                    &plusmn; 0.0024\n",
       "                \n",
       "            </td>\n",
       "            <td style=\"padding: 0 0.5em 0 0.5em; text-align: left; border: none;\">\n",
       "                AVG_SUPPLIER_SUBMITTED_CHARGE_median\n",
       "            </td>\n",
       "        </tr>\n",
       "    \n",
       "        <tr style=\"background-color: hsl(120, 100.00%, 93.80%); border: none;\">\n",
       "            <td style=\"padding: 0 1em 0 0.5em; text-align: right; border: none;\">\n",
       "                0.0048\n",
       "                \n",
       "                    &plusmn; 0.0036\n",
       "                \n",
       "            </td>\n",
       "            <td style=\"padding: 0 0.5em 0 0.5em; text-align: left; border: none;\">\n",
       "                bene_day_srvc_cnt_mean\n",
       "            </td>\n",
       "        </tr>\n",
       "    \n",
       "        <tr style=\"background-color: hsl(120, 100.00%, 93.81%); border: none;\">\n",
       "            <td style=\"padding: 0 1em 0 0.5em; text-align: right; border: none;\">\n",
       "                0.0048\n",
       "                \n",
       "                    &plusmn; 0.0010\n",
       "                \n",
       "            </td>\n",
       "            <td style=\"padding: 0 0.5em 0 0.5em; text-align: left; border: none;\">\n",
       "                bene_day_srvc_cnt_max\n",
       "            </td>\n",
       "        </tr>\n",
       "    \n",
       "        <tr style=\"background-color: hsl(120, 100.00%, 93.93%); border: none;\">\n",
       "            <td style=\"padding: 0 1em 0 0.5em; text-align: right; border: none;\">\n",
       "                0.0047\n",
       "                \n",
       "                    &plusmn; 0.0015\n",
       "                \n",
       "            </td>\n",
       "            <td style=\"padding: 0 0.5em 0 0.5em; text-align: left; border: none;\">\n",
       "                total_day_supply_std\n",
       "            </td>\n",
       "        </tr>\n",
       "    \n",
       "        <tr style=\"background-color: hsl(120, 100.00%, 94.29%); border: none;\">\n",
       "            <td style=\"padding: 0 1em 0 0.5em; text-align: right; border: none;\">\n",
       "                0.0043\n",
       "                \n",
       "                    &plusmn; 0.0020\n",
       "                \n",
       "            </td>\n",
       "            <td style=\"padding: 0 0.5em 0 0.5em; text-align: left; border: none;\">\n",
       "                total_day_supply_min\n",
       "            </td>\n",
       "        </tr>\n",
       "    \n",
       "        <tr style=\"background-color: hsl(120, 100.00%, 94.60%); border: none;\">\n",
       "            <td style=\"padding: 0 1em 0 0.5em; text-align: right; border: none;\">\n",
       "                0.0040\n",
       "                \n",
       "                    &plusmn; 0.0020\n",
       "                \n",
       "            </td>\n",
       "            <td style=\"padding: 0 0.5em 0 0.5em; text-align: left; border: none;\">\n",
       "                line_srvc_cnt_max\n",
       "            </td>\n",
       "        </tr>\n",
       "    \n",
       "        <tr style=\"background-color: hsl(120, 100.00%, 94.99%); border: none;\">\n",
       "            <td style=\"padding: 0 1em 0 0.5em; text-align: right; border: none;\">\n",
       "                0.0036\n",
       "                \n",
       "                    &plusmn; 0.0017\n",
       "                \n",
       "            </td>\n",
       "            <td style=\"padding: 0 0.5em 0 0.5em; text-align: left; border: none;\">\n",
       "                average_submitted_chrg_amt_sum\n",
       "            </td>\n",
       "        </tr>\n",
       "    \n",
       "        <tr style=\"background-color: hsl(120, 100.00%, 95.26%); border: none;\">\n",
       "            <td style=\"padding: 0 1em 0 0.5em; text-align: right; border: none;\">\n",
       "                0.0033\n",
       "                \n",
       "                    &plusmn; 0.0005\n",
       "                \n",
       "            </td>\n",
       "            <td style=\"padding: 0 0.5em 0 0.5em; text-align: left; border: none;\">\n",
       "                total_30_day_fill_count_max\n",
       "            </td>\n",
       "        </tr>\n",
       "    \n",
       "    \n",
       "        \n",
       "            <tr style=\"background-color: hsl(120, 100.00%, 95.26%); border: none;\">\n",
       "                <td colspan=\"2\" style=\"padding: 0 0.5em 0 0.5em; text-align: center; border: none; white-space: nowrap;\">\n",
       "                    <i>&hellip; 166 more &hellip;</i>\n",
       "                </td>\n",
       "            </tr>\n",
       "        \n",
       "    \n",
       "    </tbody>\n",
       "</table>\n",
       "    \n",
       "\n",
       "    \n",
       "\n",
       "\n",
       "    \n",
       "\n",
       "    \n",
       "\n",
       "    \n",
       "\n",
       "    \n",
       "\n",
       "    \n",
       "\n",
       "    \n",
       "\n",
       "\n",
       "\n"
      ],
      "text/plain": [
       "<IPython.core.display.HTML object>"
      ]
     },
     "execution_count": 26,
     "metadata": {},
     "output_type": "execute_result"
    }
   ],
   "source": [
    "tree_perm = PermutationImportance(tree_rf_combined, random_state=1).fit(X_train_combined, y_train_combined)\n",
    "\n",
    "print('Random Forest Feature Importances:')\n",
    "eli5.show_weights(tree_perm, feature_names=combined_feature_names)"
   ]
  }
 ],
 "metadata": {
  "kernelspec": {
   "display_name": "learn-env",
   "language": "python",
   "name": "learn-env"
  },
  "language_info": {
   "codemirror_mode": {
    "name": "ipython",
    "version": 3
   },
   "file_extension": ".py",
   "mimetype": "text/x-python",
   "name": "python",
   "nbconvert_exporter": "python",
   "pygments_lexer": "ipython3",
   "version": "3.6.10"
  }
 },
 "nbformat": 4,
 "nbformat_minor": 4
}
